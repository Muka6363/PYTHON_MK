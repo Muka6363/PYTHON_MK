{
 "cells": [
  {
   "cell_type": "code",
   "execution_count": null,
   "id": "d8098788",
   "metadata": {},
   "outputs": [],
   "source": []
  },
  {
   "cell_type": "raw",
   "id": "8abb2a48",
   "metadata": {},
   "source": [
    "1'den büyük asal olmayan bir tamsayının rakamlarının toplamı, sayı asal çarpanlarına ayrılarak yazıldığında, bu yazılışta bulunan tüm asal sayıların rakamlarının toplamına eşit oluyorsa bu tür sayılara Smith sayısı adı verilir\n",
    "\n",
    "Örnek: 728 = 2.2.2.7.13 biçiminde ayrılır\n",
    "7 + 2 + 8 = 2 + 2 + 2 + 7 + 1 + 3 olduğundan 728 Smith Sayıdır (2005-ÖSS)\n",
    "\n",
    "O halde 100 ile 500 arasındaki Smith Sayılarını bulan python programı\n",
    "Output : [121, 166, 202, 265, 274, 319, 346, 355, 378, 382, 391, 438, 454, 483]"
   ]
  },
  {
   "cell_type": "code",
   "execution_count": null,
   "id": "b45bee56",
   "metadata": {},
   "outputs": [],
   "source": []
  },
  {
   "cell_type": "code",
   "execution_count": null,
   "id": "8f58a5aa",
   "metadata": {},
   "outputs": [],
   "source": []
  },
  {
   "cell_type": "code",
   "execution_count": null,
   "id": "8a88e717",
   "metadata": {},
   "outputs": [],
   "source": []
  },
  {
   "cell_type": "code",
   "execution_count": null,
   "id": "50997168",
   "metadata": {},
   "outputs": [],
   "source": []
  },
  {
   "cell_type": "code",
   "execution_count": null,
   "id": "4cc5fad1",
   "metadata": {},
   "outputs": [],
   "source": []
  },
  {
   "cell_type": "code",
   "execution_count": null,
   "id": "7eb3a240",
   "metadata": {},
   "outputs": [],
   "source": []
  },
  {
   "cell_type": "code",
   "execution_count": null,
   "id": "399fd727",
   "metadata": {},
   "outputs": [],
   "source": []
  },
  {
   "cell_type": "code",
   "execution_count": null,
   "id": "659addd2",
   "metadata": {},
   "outputs": [],
   "source": []
  },
  {
   "cell_type": "code",
   "execution_count": null,
   "id": "4e58a7bd",
   "metadata": {},
   "outputs": [],
   "source": []
  },
  {
   "cell_type": "code",
   "execution_count": null,
   "id": "79d1e22c",
   "metadata": {},
   "outputs": [],
   "source": []
  },
  {
   "cell_type": "code",
   "execution_count": null,
   "id": "6121df83",
   "metadata": {},
   "outputs": [],
   "source": []
  },
  {
   "cell_type": "code",
   "execution_count": null,
   "id": "1d36ba3e",
   "metadata": {},
   "outputs": [],
   "source": []
  },
  {
   "cell_type": "code",
   "execution_count": 1,
   "id": "0e0617fa",
   "metadata": {},
   "outputs": [
    {
     "name": "stdout",
     "output_type": "stream",
     "text": [
      "[121, 166, 202, 265, 274, 319, 346, 355, 378, 382, 391, 438, 454, 483]\n"
     ]
    }
   ],
   "source": [
    "# F3768 - Fredy\n",
    "\n",
    "def isprime(num):\n",
    "    prime=True\n",
    "    for i in range(2,num):          #Asallık kontrolü\n",
    "        if num%i==0:\n",
    "            prime=False\n",
    "            break\n",
    "    return prime\n",
    "\n",
    "non_prime_list = [i for i in range(100,500) if not isprime(i)]       #Asal olmayan aralık listesi\n",
    "prime_list = [i for i in range(2,500) if isprime(i)]                 #Asal bölenler için kullanılacak\n",
    "solution=[]\n",
    "for i in non_prime_list:\n",
    "    num = i\n",
    "    j=0\n",
    "    sum_list = []                                                     #Asal bölenlerin toplanacağı liste\n",
    "    while j < len(prime_list):\n",
    "        if num%prime_list[j] == 0:\n",
    "            sum_list.append(str(prime_list[j]))\n",
    "            num=num/prime_list[j]\n",
    "            continue\n",
    "        else:j+=1\n",
    "            \n",
    "    prime_divisor_sum=0\n",
    "    for k in sum_list:\n",
    "        for l in k:prime_divisor_sum+=int(l)\n",
    "\n",
    "    number_sum = 0\n",
    "    for t in str(i):\n",
    "        number_sum+= int(t)\n",
    "    if number_sum == prime_divisor_sum:\n",
    "        solution.append(i)\n",
    "print(solution)"
   ]
  },
  {
   "cell_type": "code",
   "execution_count": null,
   "id": "b3930892",
   "metadata": {},
   "outputs": [],
   "source": []
  },
  {
   "cell_type": "code",
   "execution_count": null,
   "id": "55981d51",
   "metadata": {},
   "outputs": [],
   "source": []
  },
  {
   "cell_type": "code",
   "execution_count": 2,
   "id": "4254318f",
   "metadata": {},
   "outputs": [
    {
     "name": "stdout",
     "output_type": "stream",
     "text": [
      "[121, 166, 202, 265, 274, 319, 346, 355, 378, 382, 391, 438, 454, 483]\n"
     ]
    }
   ],
   "source": [
    "# F3768 - Fredy\n",
    "\n",
    "def isprime(num):\n",
    "    prime=True\n",
    "    for i in range(2,num):          #Asallık kontrolü\n",
    "        if num%i==0:\n",
    "            prime=False\n",
    "            break\n",
    "    return prime\n",
    "\n",
    "non_prime_list = [i for i in range(100,500) if not isprime(i)]       #Asal olmayan aralık listesi\n",
    "prime_list = [i for i in range(2,500) if isprime(i)]                 #Asal bölenler için kullanılacak\n",
    "solution=[]\n",
    "for i in non_prime_list:\n",
    "    num = i\n",
    "    j=0\n",
    "    sum_list = []                                                     #Asal bölenlerin toplanacağı liste\n",
    "    while j < len(prime_list):\n",
    "        if num%prime_list[j] == 0:\n",
    "            sum_list.append(str(prime_list[j]))\n",
    "            num=num/prime_list[j]\n",
    "            continue\n",
    "        else:j+=1\n",
    "            \n",
    "    prime_divisor_sum=0\n",
    "    for k in sum_list:\n",
    "        for l in k:prime_divisor_sum+=int(l)\n",
    "\n",
    "    number_sum = 0\n",
    "    for t in str(i):\n",
    "        number_sum+= int(t)\n",
    "    if number_sum == prime_divisor_sum:\n",
    "        solution.append(i)\n",
    "print(solution)"
   ]
  },
  {
   "cell_type": "code",
   "execution_count": null,
   "id": "0593f1aa",
   "metadata": {},
   "outputs": [],
   "source": []
  },
  {
   "cell_type": "code",
   "execution_count": null,
   "id": "baca0152",
   "metadata": {},
   "outputs": [],
   "source": []
  },
  {
   "cell_type": "code",
   "execution_count": null,
   "id": "d89e9f67",
   "metadata": {},
   "outputs": [],
   "source": []
  },
  {
   "cell_type": "code",
   "execution_count": null,
   "id": "17ad32af",
   "metadata": {},
   "outputs": [],
   "source": []
  },
  {
   "cell_type": "code",
   "execution_count": null,
   "id": "466fac3d",
   "metadata": {},
   "outputs": [],
   "source": []
  }
 ],
 "metadata": {
  "kernelspec": {
   "display_name": "Python 3 (ipykernel)",
   "language": "python",
   "name": "python3"
  },
  "language_info": {
   "codemirror_mode": {
    "name": "ipython",
    "version": 3
   },
   "file_extension": ".py",
   "mimetype": "text/x-python",
   "name": "python",
   "nbconvert_exporter": "python",
   "pygments_lexer": "ipython3",
   "version": "3.9.7"
  }
 },
 "nbformat": 4,
 "nbformat_minor": 5
}
