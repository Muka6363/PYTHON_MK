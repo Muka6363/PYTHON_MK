{
 "cells": [
  {
   "cell_type": "code",
   "execution_count": null,
   "id": "35d80b04",
   "metadata": {},
   "outputs": [],
   "source": []
  },
  {
   "cell_type": "raw",
   "id": "26fd5eaf",
   "metadata": {},
   "source": [
    "Edwin - Instructor -- Sonradan ilave yorum olrak paylaştı\n",
    "    Arkadaşlar girilen bir sayıyı basamaklarına ayırmak sıkça sorulan bir algoritma sorusudur. Daha büyük kod blokları içerisinde de bunu yapmaya ihtiyaç duyabilirsiniz. Bu soru yukarda da sorulduğu için algoritma yeteneğinizi geliştireceğine inandığım şu katkıyı yapmak isterim:\n",
    "\n",
    "    Önce şu kod bloğunu burda paylaşıyorum ki üzerinden aşağıdaki yazdıklarımı yorumlayabilesiniz.\n",
    "Not: append() metodu içine kalan değişkeni yerine direkt num%10 yazarak hafızada bir değişkenden tasarruf edebileceğinizi artık biliyorsunuz;"
   ]
  },
  {
   "cell_type": "code",
   "execution_count": 3,
   "id": "9446078f",
   "metadata": {},
   "outputs": [
    {
     "name": "stdout",
     "output_type": "stream",
     "text": [
      "enter a number except 0 :963852\n",
      "[9, 6, 3, 8, 5, 2]\n"
     ]
    }
   ],
   "source": [
    "num = int(input(\"enter a number except 0 :\"))\n",
    "digits = []\n",
    "while num > 0 :\n",
    "    kalan = num % 10  # 10'a bölümden kalan.. eldeki sayının birler basamağını verecektir. \n",
    "    digits.append(kalan)  # değer girildikçe listenin son elemanı olacak. sonra listeyi tersine çevirmek icap ediyor.\n",
    "    num //= 10  # burası bölümü verdiğinden her defasında sayının birinci basamağı dışında kalan basamakları verecektir.\n",
    "print(digits[::-1])  # listeyi tersine çevirerek birler basamağı en sonda olacak şekilde düzenleme yapmış olduk."
   ]
  },
  {
   "cell_type": "raw",
   "id": "545f2c0b",
   "metadata": {},
   "source": [
    "1--Bir sayının modulus 10'unun alınması onun birler basamağını verir. (Bunu hemen kağıt kalem kullanarak basit bir bölme işlemi ile görünüz.) Dolayısıyla sayının en sağındaki birler basamağını bu işlem ile alıp boş listeye ekliyoruz.\n",
    "\n",
    "2--Birler basamağını listeye aldık ve onunla işimiz bitti. şimdi ondan kurtulmamız gerekiyor: floor division 10; birler basamağı dışında kalan basamakları bize verecektir. (Hemen kağıt kalemle 542 bölü 10 yapın ve bölüm olarak elinizde 54 kaldığını görün.)\n",
    "\n",
    "3--Dolayısıyla % 10 ile birlikte  // 10 kullanarak önce birler basamağını çekip sonra ondan kurtuluyoruz. Sayının geriye kalanına da hep aynı işlemi döngü ile uyguladığımızda elimizde basamaklardan oluşan bir dolu liste kalıyor.   \n",
    "\n",
    "4--Artık işiniz sadece o listeyi doğru şekilde göstermek, yani sayının integer olarak gözüktüğü sıra ile elemanları yazdırmak. Bunun için;\n",
    "    --ya en son çıktı alırken eksi 1 step ile listeyi tersine çevirebilirsiniz.\n",
    "    --ya da baştan append() metodu yerine insert() metodu kullanmak suretiyle her defasında listeye en son girilen elemanı listenin başına sokup önceki girilenler sağa kaydırabilirsiniz."
   ]
  },
  {
   "cell_type": "code",
   "execution_count": 4,
   "id": "1c1c6f19",
   "metadata": {},
   "outputs": [
    {
     "name": "stdout",
     "output_type": "stream",
     "text": [
      "enter a number except 0 :963852\n",
      "[9, 6, 3, 8, 5, 2]\n"
     ]
    }
   ],
   "source": [
    "# insert() metodu kullanırsan listeyi tersine çevirmeye gerek kalmaz :\n",
    "\n",
    "num = int(input(\"enter a number except 0 :\"))\n",
    "digits = []\n",
    "while num > 0 :\n",
    "    digits.insert(0, (num % 10))  # her defasında girilen değer listenin ilk elemanı olacak. diğerleri sağa kayacak.\n",
    "    num //= 10\n",
    "print(digits)"
   ]
  },
  {
   "cell_type": "code",
   "execution_count": null,
   "id": "de948621",
   "metadata": {},
   "outputs": [],
   "source": []
  },
  {
   "cell_type": "raw",
   "id": "6ef6adbf",
   "metadata": {},
   "source": [
    "Asuman Hanım;\n",
    "Write a program to display the number names of the digits of a number entered by user, \n",
    "for example if the number is 231 then output should be Two Three One\n",
    "\n",
    "[Kullanıcı tarafından girilen bir sayının basamaklarının sayı adlarını görüntüleyen bir program yazın, \n",
    "örneğin sayı 231 ise çıktısı İki Üç Bir olmalıdır."
   ]
  },
  {
   "cell_type": "code",
   "execution_count": 1,
   "id": "e7dd4d5d",
   "metadata": {},
   "outputs": [
    {
     "name": "stdout",
     "output_type": "stream",
     "text": [
      "Please enter a number : 171\n",
      "one seven one\n"
     ]
    }
   ],
   "source": [
    "# Asuman Hanım çözümü:\n",
    "\n",
    "num=input(\"Please enter a number : \")\n",
    "numlist=[\"zero\", \"one\", \"two\", \"three\", \"four\", \"five\", \"six\", \"seven\", \"eight\", \"nine\"]\n",
    "new=[]\n",
    "for i in list(num):\n",
    "  remain=int(num) % 10 \n",
    "  num = num[:-1]  \n",
    "  new.append(numlist[remain])\n",
    "a=new[::-1]\n",
    "print(\" \".join(a))"
   ]
  },
  {
   "cell_type": "code",
   "execution_count": 8,
   "id": "6da1635d",
   "metadata": {},
   "outputs": [
    {
     "name": "stdout",
     "output_type": "stream",
     "text": [
      "dict_keys([1, 2, 3, 4, 5, 6, 7, 8, 9, 0])\n",
      "dict_values(['bir', 'iki', 'üç', 'dört', 'beş', 'altı', 'yedi', 'sekiz', 'dokuz', 'sıfır'])\n"
     ]
    }
   ],
   "source": [
    "dict_numbers = { 1 : 'bir', 2 : 'iki', 3 : 'üç', 4 : 'dört', 5 : 'beş',\n",
    "                6 : 'altı', 7 : 'yedi', 8 :'sekiz', 9 : 'dokuz', 0 : 'sıfır'}\n",
    "\n",
    "print(dict_numbers.keys())\n",
    "print(dict_numbers.values())"
   ]
  },
  {
   "cell_type": "code",
   "execution_count": 17,
   "id": "cde1e2b4",
   "metadata": {},
   "outputs": [
    {
     "name": "stdout",
     "output_type": "stream",
     "text": [
      "üç basamaklı bir sayı giriniz : 547\n",
      "beş dört yedi\n"
     ]
    }
   ],
   "source": [
    "dict_numbers = { 1 : 'bir', 2 : 'iki', 3 : 'üç', 4 : 'dört', 5 : 'beş',\n",
    "                6 : 'altı', 7 : 'yedi', 8 :'sekiz', 9 : 'dokuz', 0 : 'sıfır'}\n",
    "\n",
    "# dict_numbers.keys()\n",
    "# dict_numbers.values()\n",
    "\n",
    "num = input(\"üç basamaklı bir sayı giriniz : \")\n",
    "list_num = list(num)\n",
    "\n",
    "temp = []\n",
    "\n",
    "for i in list_num:\n",
    "    for ii in dict_numbers.keys():\n",
    "        if int(i) == ii :\n",
    "            temp.append(i)\n",
    "            \n",
    "print(dict_numbers[int(temp[0])], dict_numbers[int(temp[1])], dict_numbers[int(temp[2])])"
   ]
  },
  {
   "cell_type": "code",
   "execution_count": 14,
   "id": "9bd4009b",
   "metadata": {},
   "outputs": [
    {
     "data": {
      "text/plain": [
       "'bir'"
      ]
     },
     "execution_count": 14,
     "metadata": {},
     "output_type": "execute_result"
    }
   ],
   "source": [
    "dict_numbers[int(temp[0])]"
   ]
  },
  {
   "cell_type": "code",
   "execution_count": 18,
   "id": "94369efb",
   "metadata": {},
   "outputs": [
    {
     "name": "stdout",
     "output_type": "stream",
     "text": [
      "Üç basamaklı bir sayı giriniz : 759\n",
      "yedi beş dokuz\n"
     ]
    }
   ],
   "source": [
    "dict_numbers = { 1 : 'bir', 2 : 'iki', 3 : 'üç', 4 : 'dört', 5 : 'beş',\n",
    "                6 : 'altı', 7 : 'yedi', 8 :'sekiz', 9 : 'dokuz', 0 : 'sıfır'}\n",
    "\n",
    "num = input(\"Üç basamaklı bir sayı giriniz : \")\n",
    "list_num = list(num)\n",
    "\n",
    "temp = []\n",
    "\n",
    "for i in list_num:\n",
    "    for ii in dict_numbers.keys():\n",
    "        if int(i) == ii :\n",
    "            temp.append(i)\n",
    "            \n",
    "print(dict_numbers[int(temp[0])], dict_numbers[int(temp[1])], dict_numbers[int(temp[2])])\n",
    "\n",
    "#rakamları dictionary olarak (key/value) tanımladım,\n",
    "#input girilen numarayı string olarak alıp liste içine attım,\n",
    "#içinde 3 tane numara olan liste ile dic_number_key 'leri    iç içe for döngüsü ile karşılaştırdım,\n",
    "#eşleşen 3 numarayı geçici boş listeye attım,\n",
    "#her numaraya indexi ile ulaşıp bunu dictionarydeki value karşılığını çağırmak için kullandım."
   ]
  },
  {
   "cell_type": "code",
   "execution_count": null,
   "id": "ee6bc4bc",
   "metadata": {},
   "outputs": [],
   "source": [
    "# F3785 - Abdullah ***  benim yaptığımı yapmış, ama key'leri string olarak tanımlamış, \n",
    "                      # inputu string almış çevirmeye gerek kalmamış\n",
    "\n",
    "sayı = input('please input a number: ')\n",
    "dict = {0:'sıfır', 1:'bir', 2:'iki', 3:'üç',\n",
    "        4:'dört', 5:'beş', 6:'altı', 7:'yedi', \n",
    "        8:'sekiz', 9:'dokuz',}\n",
    "for i in sayı :\n",
    "  i = dict[int(i)] \n",
    "  print(i, end=' ')"
   ]
  },
  {
   "cell_type": "code",
   "execution_count": 1,
   "id": "f1a6f208",
   "metadata": {},
   "outputs": [
    {
     "name": "stdout",
     "output_type": "stream",
     "text": [
      "159\n",
      "one five nine \n"
     ]
    }
   ],
   "source": [
    "# F3798-Zübeyir\n",
    "list = ['zero', 'one', 'two', 'three', 'four', 'five', 'six', 'seven', 'eight', 'nine']\n",
    "x = input()\n",
    "y = \"\"\n",
    "for i in x :\n",
    "    list[int(i)]\n",
    "    y += list[int(i)]\n",
    "    y += ' '\n",
    "print(y)"
   ]
  },
  {
   "cell_type": "code",
   "execution_count": 21,
   "id": "2505f73f",
   "metadata": {},
   "outputs": [
    {
     "name": "stdout",
     "output_type": "stream",
     "text": [
      "Type a whole number:47856952\n",
      "Four Seven Eight Five Six Nine Five Two "
     ]
    }
   ],
   "source": [
    "# input validation F3561 - Hüseyin \n",
    "while True:\n",
    "  num=input(\"Type a whole number:\")\n",
    "  if not num.isdigit():\n",
    "    print(\"Invalid input. Try again.\\n\")\n",
    "    continue\n",
    "  else:\n",
    "    break\n",
    "\n",
    "#building key,values\n",
    "digits_text=[\"Zero\",\"One\",\"Two\",\"Three\",\"Four\",\"Five\",\"Six\",\"Seven\",\"Eight\",\"Nine\"]\n",
    "digits_char=[\"0\",\"1\",\"2\",\"3\",\"4\",\"5\",\"6\",\"7\",\"8\",\"9\"]\n",
    "digits_dict=dict(zip(digits_char,digits_text))\n",
    "#final output\n",
    "for i in num:\n",
    "  print(digits_dict[i],\"\",end=\"\")"
   ]
  },
  {
   "cell_type": "code",
   "execution_count": 22,
   "id": "3333b618",
   "metadata": {},
   "outputs": [
    {
     "name": "stdout",
     "output_type": "stream",
     "text": [
      "please input a number: 257\n",
      "iki beş yedi "
     ]
    }
   ],
   "source": []
  },
  {
   "cell_type": "code",
   "execution_count": 23,
   "id": "8b233466",
   "metadata": {},
   "outputs": [
    {
     "name": "stdout",
     "output_type": "stream",
     "text": [
      "enter a number: 7895623\n",
      "seven eight nine five six two three "
     ]
    }
   ],
   "source": [
    "# F3511- Hasan\n",
    "digits = {1:\"one\", 2: \"two\", 3: \"three\", 4: \"four\", 5: \"five\", 6: \"six\", 7: \"seven\", 8: \"eight\", 9: \"nine\", 0: \"zero\"}\n",
    "number = input(\"enter a number: \")\n",
    "if number.isdigit():\n",
    "    for i in number:\n",
    "        print(digits[int(i)], end = \" \")\n",
    "else:\n",
    "    print(\"please enter a valid numeric\")"
   ]
  },
  {
   "cell_type": "code",
   "execution_count": null,
   "id": "c5ab0eb4",
   "metadata": {},
   "outputs": [],
   "source": []
  },
  {
   "cell_type": "code",
   "execution_count": 19,
   "id": "f624c670",
   "metadata": {},
   "outputs": [
    {
     "name": "stdout",
     "output_type": "stream",
     "text": [
      "Please enter a number : 789\n",
      "seven eight nine\n"
     ]
    }
   ],
   "source": [
    "# F3733 - Rabia \n",
    "\n",
    "num=input(\"Please enter a number : \")\n",
    "numlist=[\"zero\", \"one\", \"two\", \"three\", \"four\", \"five\", \"six\", \"seven\", \"eight\", \"nine\"]\n",
    "new=[]\n",
    "for i in list(num):\n",
    "  remain=int(num) % 10\n",
    "  num = int(num) // 10\n",
    "  new.append(numlist[remain])\n",
    "a=new[::-1]\n",
    "print(\" \".join(a))"
   ]
  },
  {
   "cell_type": "code",
   "execution_count": 24,
   "id": "4f145b61",
   "metadata": {},
   "outputs": [
    {
     "name": "stdout",
     "output_type": "stream",
     "text": [
      "enter a number759\n",
      "Seven Five Nine \n"
     ]
    }
   ],
   "source": [
    "# F3514 - GENC\n",
    "number = input(\"enter a number\")\n",
    "word= \"\"\n",
    "for x in number:\n",
    "  if x == \"1\":\n",
    "    word+=\"One \"\n",
    "  if x == \"2\":\n",
    "    word+=\"Two \"\n",
    "  if x == \"3\":\n",
    "    word+=\"Three \"\n",
    "  if x == \"4\":\n",
    "    word+=\"Four \"\n",
    "  if x == \"5\":\n",
    "    word+=\"Five \"\n",
    "  if x == \"6\":\n",
    "    word+=\"Six \"\n",
    "  if x == \"7\":\n",
    "    word+=\"Seven \"\n",
    "  if x == \"8\":\n",
    "    word+=\"Eight \"\n",
    "  if x == \"9\":\n",
    "    word+=\"Nine \"\n",
    "  if x == \"0\":\n",
    "    word+=\"Zero \"\n",
    "print(word)"
   ]
  },
  {
   "cell_type": "code",
   "execution_count": null,
   "id": "c8a29b4e",
   "metadata": {},
   "outputs": [],
   "source": []
  },
  {
   "cell_type": "code",
   "execution_count": null,
   "id": "82b03809",
   "metadata": {},
   "outputs": [],
   "source": []
  },
  {
   "cell_type": "code",
   "execution_count": null,
   "id": "80a6f588",
   "metadata": {},
   "outputs": [],
   "source": []
  },
  {
   "cell_type": "code",
   "execution_count": null,
   "id": "2c2fcbe5",
   "metadata": {},
   "outputs": [],
   "source": []
  },
  {
   "cell_type": "code",
   "execution_count": null,
   "id": "5fa5e1de",
   "metadata": {},
   "outputs": [],
   "source": []
  },
  {
   "cell_type": "code",
   "execution_count": null,
   "id": "146e3f04",
   "metadata": {},
   "outputs": [],
   "source": []
  },
  {
   "cell_type": "code",
   "execution_count": null,
   "id": "a149f734",
   "metadata": {},
   "outputs": [],
   "source": []
  },
  {
   "cell_type": "code",
   "execution_count": null,
   "id": "b4fd58c4",
   "metadata": {},
   "outputs": [],
   "source": []
  },
  {
   "cell_type": "code",
   "execution_count": null,
   "id": "c404114b",
   "metadata": {},
   "outputs": [],
   "source": []
  },
  {
   "cell_type": "code",
   "execution_count": null,
   "id": "c202ae61",
   "metadata": {},
   "outputs": [],
   "source": []
  },
  {
   "cell_type": "code",
   "execution_count": null,
   "id": "d7021433",
   "metadata": {},
   "outputs": [],
   "source": []
  },
  {
   "cell_type": "code",
   "execution_count": null,
   "id": "ab85fd52",
   "metadata": {},
   "outputs": [],
   "source": []
  },
  {
   "cell_type": "code",
   "execution_count": null,
   "id": "32bba525",
   "metadata": {},
   "outputs": [],
   "source": []
  },
  {
   "cell_type": "code",
   "execution_count": null,
   "id": "bbbb0a80",
   "metadata": {},
   "outputs": [],
   "source": []
  },
  {
   "cell_type": "code",
   "execution_count": null,
   "id": "d07ad935",
   "metadata": {},
   "outputs": [],
   "source": []
  },
  {
   "cell_type": "code",
   "execution_count": null,
   "id": "e627bddc",
   "metadata": {},
   "outputs": [],
   "source": []
  },
  {
   "cell_type": "code",
   "execution_count": null,
   "id": "3bfd0ccd",
   "metadata": {},
   "outputs": [],
   "source": []
  },
  {
   "cell_type": "raw",
   "id": "5dfee443",
   "metadata": {},
   "source": [
    "The prime factors of 13195 are 5, 7, 13 and 29.\n",
    "What is the largest prime factor of the number 600851475143 ? "
   ]
  }
 ],
 "metadata": {
  "kernelspec": {
   "display_name": "Python 3 (ipykernel)",
   "language": "python",
   "name": "python3"
  },
  "language_info": {
   "codemirror_mode": {
    "name": "ipython",
    "version": 3
   },
   "file_extension": ".py",
   "mimetype": "text/x-python",
   "name": "python",
   "nbconvert_exporter": "python",
   "pygments_lexer": "ipython3",
   "version": "3.9.7"
  }
 },
 "nbformat": 4,
 "nbformat_minor": 5
}
