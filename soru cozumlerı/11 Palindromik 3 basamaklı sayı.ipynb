{
 "cells": [
  {
   "cell_type": "code",
   "execution_count": null,
   "id": "a7a05cd5",
   "metadata": {},
   "outputs": [],
   "source": []
  },
  {
   "cell_type": "raw",
   "id": "12b82dc7",
   "metadata": {},
   "source": [
    "Bir palindromik sayı sağdan ve soldan her iki şekilde de aynı okunur. İki basamaklı iki sayının çarpımından yapılan en büyük palindrom 9009 = 91 × 99'dur. İki 3 basamaklı sayının çarpımından yapılmış en büyük palindromu bulun. (edited) "
   ]
  },
  {
   "cell_type": "code",
   "execution_count": 9,
   "id": "2ea172eb",
   "metadata": {},
   "outputs": [
    {
     "name": "stdout",
     "output_type": "stream",
     "text": [
      "906609\n"
     ]
    }
   ],
   "source": [
    "polindrom=[]\n",
    "for i in range(100,1000):\n",
    "    for y in range(100,1000):\n",
    "        num=i*y\n",
    "        if str(num)==str(num)[::-1] :\n",
    "            polindrom.append(num)                \n",
    "print(max(polindrom))"
   ]
  },
  {
   "cell_type": "code",
   "execution_count": 10,
   "id": "6c4640a9",
   "metadata": {},
   "outputs": [
    {
     "name": "stdout",
     "output_type": "stream",
     "text": [
      "906609\n"
     ]
    }
   ],
   "source": [
    "# Asuman Hanım ***\n",
    "print(\n",
    "    max(\n",
    "    [i * j for i in range(100, 1000) for j in range(100, 1000) if str(i*j) == str(i*j)[::-1]]\n",
    "    )\n",
    ")"
   ]
  },
  {
   "cell_type": "code",
   "execution_count": 12,
   "id": "deb5f654",
   "metadata": {},
   "outputs": [
    {
     "name": "stdout",
     "output_type": "stream",
     "text": [
      "Kaç basamaklı sayı girmek istiyorsunuz4\n",
      "99000099\n"
     ]
    }
   ],
   "source": [
    "p=int(input(\"Kaç basamaklı sayı girmek istiyorsunuz\"))\n",
    "max=0\n",
    "for a in range(10**(p-1),10**p):\n",
    "  for b in range(10**(p-1),10**p):\n",
    "    if str(a*b)==str(a*b)[::-1]:\n",
    "      if a*b>max:\n",
    "        max=a*b\n",
    "print(max)"
   ]
  },
  {
   "cell_type": "code",
   "execution_count": 11,
   "id": "aead6cfe",
   "metadata": {},
   "outputs": [
    {
     "name": "stdout",
     "output_type": "stream",
     "text": [
      "906609\n"
     ]
    }
   ],
   "source": [
    "#değişkene atayarak çözüm -- F3511- Hasan\n",
    "palindromic = 0\n",
    "for i in range(100,1000):\n",
    "    for ii in range(100,1000):\n",
    "        is_pali = ii * i\n",
    "        if str(is_pali) == str(is_pali)[::-1] and is_pali > palindromic:\n",
    "            palindromic = is_pali\n",
    "print(palindromic)"
   ]
  },
  {
   "cell_type": "code",
   "execution_count": null,
   "id": "fa41c2eb",
   "metadata": {},
   "outputs": [],
   "source": []
  }
 ],
 "metadata": {
  "kernelspec": {
   "display_name": "Python 3 (ipykernel)",
   "language": "python",
   "name": "python3"
  },
  "language_info": {
   "codemirror_mode": {
    "name": "ipython",
    "version": 3
   },
   "file_extension": ".py",
   "mimetype": "text/x-python",
   "name": "python",
   "nbconvert_exporter": "python",
   "pygments_lexer": "ipython3",
   "version": "3.9.7"
  }
 },
 "nbformat": 4,
 "nbformat_minor": 5
}
