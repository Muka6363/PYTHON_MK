{
 "cells": [
  {
   "cell_type": "code",
   "execution_count": null,
   "id": "23595cca",
   "metadata": {},
   "outputs": [],
   "source": []
  },
  {
   "cell_type": "raw",
   "id": "8be8267c",
   "metadata": {},
   "source": [
    "F3808-Haliboss  3:54 PM\n",
    "Kullanıcıdan alacağınız sınırsız ürün bilgisini ürünler listesi içinde saklayınız.\n",
    "   ** Ürün sayısını kullanıcıya sorun.\n",
    "   ** Dictionary listesi yapısı (ürün_adı, fiyat) şeklinde olsun.\n",
    "   ** Ürün ekleme işlemi bittiğinde ürünleri ekranda listeleyin."
   ]
  },
  {
   "cell_type": "code",
   "execution_count": null,
   "id": "e33bc3d2",
   "metadata": {},
   "outputs": [],
   "source": []
  },
  {
   "cell_type": "code",
   "execution_count": null,
   "id": "bf26fd22",
   "metadata": {},
   "outputs": [],
   "source": []
  },
  {
   "cell_type": "code",
   "execution_count": null,
   "id": "8cb99cb6",
   "metadata": {},
   "outputs": [],
   "source": []
  },
  {
   "cell_type": "code",
   "execution_count": null,
   "id": "f956e19d",
   "metadata": {},
   "outputs": [],
   "source": []
  },
  {
   "cell_type": "code",
   "execution_count": null,
   "id": "7615c543",
   "metadata": {},
   "outputs": [],
   "source": []
  },
  {
   "cell_type": "code",
   "execution_count": null,
   "id": "ea537377",
   "metadata": {},
   "outputs": [],
   "source": []
  },
  {
   "cell_type": "code",
   "execution_count": null,
   "id": "35db3a52",
   "metadata": {},
   "outputs": [],
   "source": []
  },
  {
   "cell_type": "code",
   "execution_count": null,
   "id": "2cfe3e38",
   "metadata": {},
   "outputs": [],
   "source": []
  },
  {
   "cell_type": "code",
   "execution_count": null,
   "id": "4fcdd4a9",
   "metadata": {},
   "outputs": [],
   "source": []
  },
  {
   "cell_type": "code",
   "execution_count": null,
   "id": "00302c12",
   "metadata": {},
   "outputs": [],
   "source": []
  },
  {
   "cell_type": "code",
   "execution_count": null,
   "id": "7f9fd69b",
   "metadata": {},
   "outputs": [],
   "source": []
  },
  {
   "cell_type": "code",
   "execution_count": null,
   "id": "450aebab",
   "metadata": {},
   "outputs": [],
   "source": []
  },
  {
   "cell_type": "code",
   "execution_count": null,
   "id": "49d62db0",
   "metadata": {},
   "outputs": [],
   "source": []
  },
  {
   "cell_type": "code",
   "execution_count": null,
   "id": "065d9a5a",
   "metadata": {},
   "outputs": [],
   "source": []
  },
  {
   "cell_type": "code",
   "execution_count": null,
   "id": "595a8013",
   "metadata": {},
   "outputs": [],
   "source": []
  },
  {
   "cell_type": "code",
   "execution_count": 2,
   "id": "beee428b",
   "metadata": {},
   "outputs": [
    {
     "name": "stdout",
     "output_type": "stream",
     "text": [
      "How many products would you like to enter? 3\n",
      "Please enter your product name = ali\n",
      "Please enter your price of your product =33\n",
      "Please enter your product name = veli\n",
      "Please enter your price of your product =44\n",
      "Please enter your product name = deli\n",
      "Please enter your price of your product =55\n",
      "{'ali': '33', 'veli': '44', 'deli': '55'}\n"
     ]
    }
   ],
   "source": [
    "# F-3789 Mihail Tal  2 days ago\n",
    "keys_list =[]\n",
    "values_list =[]\n",
    "dict_items ={}\n",
    "counter = int(input(\"How many products would you like to enter? \"))\n",
    "while counter > 0:\n",
    "    keys = input(\"Please enter your product name = \")\n",
    "    keys_list.append(keys)\n",
    "    values = input(\"Please enter your price of your product =\" )\n",
    "    values_list.append(values)\n",
    "    counter -= 1\n",
    "dict_items = {keys_list[i] : values_list[i] for i in range(len(values_list))}\n",
    "print(dict_items)"
   ]
  },
  {
   "cell_type": "code",
   "execution_count": 3,
   "id": "e8a7a2f4",
   "metadata": {},
   "outputs": [
    {
     "name": "stdout",
     "output_type": "stream",
     "text": [
      "Ürün Sayısı Giriniz3\n",
      "ürün adı giriniz: a\n",
      "ürün fiyat giriniz: 3\n",
      "ürün adı giriniz: b\n",
      "ürün fiyat giriniz: 5\n",
      "ürün adı giriniz: c\n",
      "ürün fiyat giriniz: 9\n",
      "{'a': '3', 'b': '5', 'c': '9'}\n"
     ]
    }
   ],
   "source": [
    "# F3587-Mustafa  19 hours ago\n",
    "ürün_sayısı = int(input(\"Ürün Sayısı Giriniz\"))\n",
    "ürün_listesi = {}\n",
    "ürün_adı = []\n",
    "ürün_fiyat = []\n",
    "zipped=zip(ürün_adı,ürün_fiyat)\n",
    "for i in range(1, ürün_sayısı+1) :\n",
    "  a= input(\"ürün adı giriniz: \")\n",
    "  f=input(\"ürün fiyat giriniz: \")\n",
    "  ürün_adı.append(a)\n",
    "  ürün_fiyat.append(f)\n",
    "print(dict(zipped))"
   ]
  },
  {
   "cell_type": "code",
   "execution_count": null,
   "id": "afee1c52",
   "metadata": {},
   "outputs": [],
   "source": []
  },
  {
   "cell_type": "code",
   "execution_count": null,
   "id": "47985ed2",
   "metadata": {},
   "outputs": [],
   "source": []
  }
 ],
 "metadata": {
  "kernelspec": {
   "display_name": "Python 3 (ipykernel)",
   "language": "python",
   "name": "python3"
  },
  "language_info": {
   "codemirror_mode": {
    "name": "ipython",
    "version": 3
   },
   "file_extension": ".py",
   "mimetype": "text/x-python",
   "name": "python",
   "nbconvert_exporter": "python",
   "pygments_lexer": "ipython3",
   "version": "3.9.7"
  }
 },
 "nbformat": 4,
 "nbformat_minor": 5
}
