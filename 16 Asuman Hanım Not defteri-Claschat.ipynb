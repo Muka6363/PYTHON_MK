{
 "cells": [
  {
   "cell_type": "markdown",
   "id": "8c08142e",
   "metadata": {},
   "source": [
    "1)  A jumbled list is given whose elements are consecutive numbers. Write python code that outputs even numbers of missing numbers that are between the smallest element and the largest element of the list, but not shown in the list.\n",
    "\n",
    "Input\n",
    "\n",
    "liste = [48, 10, 11, 21, 36, 5, 6, 52, 28, 29, 53, 54, 45, 19, 20, 47, 55, 39, 41, 7, 9, 17, 26, 27, 42, 22, 37, 51, 46, 18, 44, 30, 34, 13, 15, 35, 33, 16, 50, 24]\n",
    "\n",
    "Expected Output:\n",
    "8 12 14 32 38 40"
   ]
  },
  {
   "cell_type": "code",
   "execution_count": null,
   "id": "37fa4fdf",
   "metadata": {},
   "outputs": [],
   "source": [
    "liste = [48, 10, 11, 21, 36, 5, 6, 52, 28, 29, 53, 54, 45, 19, 20, 47, 55, 39, 41, 7, 9, 17, 26, 27,42, 22, 37, 51, 46, 18, 44, 30, 34, 13, 15, 35, 33, 16, 50, 24]"
   ]
  },
  {
   "cell_type": "code",
   "execution_count": null,
   "id": "e76eb268",
   "metadata": {},
   "outputs": [
    {
     "name": "stdout",
     "output_type": "stream",
     "text": [
      "8 12 14 32 38 40\n"
     ]
    }
   ],
   "source": [
    "missing_nums = [i for i in range(min(liste), max(liste)+1) if i % 2 == 0 and not i in liste]\n",
    "print(* missing_nums)"
   ]
  },
  {
   "cell_type": "code",
   "execution_count": null,
   "id": "9c68ed1f",
   "metadata": {},
   "outputs": [],
   "source": [
    "liste = [48, 10, 11, 21, 36, 5, 6, 52, 28, 29, 53, 54, 45, 19, 20, 47, 55, 39, 41, 7, 9, 17, 26, 27, 42, 22, 37, 51, 46, 18, 44, 30, 34, 13, 15, 35, 33, 16, 50, 24]\n",
    "liste.sort()\n",
    "even_numbers = []\n",
    "\n",
    "for i in range(liste[0], liste[-1] + 1) :\n",
    "  if i not in liste and i % 2 == 0 :\n",
    "    even_numbers.append(i)\n",
    "\n",
    "print(*even_numbers)"
   ]
  },
  {
   "cell_type": "code",
   "execution_count": null,
   "id": "b4387ee5",
   "metadata": {},
   "outputs": [],
   "source": [
    "[i for i in range(min(liste), max(liste)+1) if i not in liste and i % 2 == 0]"
   ]
  },
  {
   "cell_type": "code",
   "execution_count": null,
   "id": "30543c55",
   "metadata": {},
   "outputs": [],
   "source": [
    "[i for i in range(min(liste), max(liste)+1) if i%2==0 and i not in liste]"
   ]
  },
  {
   "cell_type": "code",
   "execution_count": null,
   "id": "2fb182ed",
   "metadata": {},
   "outputs": [],
   "source": [
    "sorted(liste)\n",
    "liste2= [i for i in range(min(sorted(liste)),max(sorted(liste))) if i not in liste and i%2==0]"
   ]
  },
  {
   "cell_type": "code",
   "execution_count": null,
   "id": "3741f7f9",
   "metadata": {},
   "outputs": [],
   "source": [
    "ardışık = set(sorted(liste))\n",
    "tam_set = set(range(sorted(liste)[0], sorted(liste)[-1]))\n",
    "sonuç = tam_set - ardışık\n",
    "[i for i in sorted(sonuç) if i%2 ==0]"
   ]
  },
  {
   "cell_type": "markdown",
   "id": "5d6e4940",
   "metadata": {},
   "source": [
    "2 ) Try to print a multiplication table with numbers from 1 to 10.\n",
    "\n",
    "For Example,\n",
    "\n",
    "1 x 1 = 1\n",
    "\n",
    "1 x 2 = 2\n",
    "\n",
    "1 x 3 = 3\n",
    "\n",
    "1 x 4 = 4\n",
    "\n",
    "1 x 5 = 5\n",
    "\n",
    "1 x 6 = 6\n",
    "\n",
    "1 x 7 = 7\n",
    "\n",
    "1 x 8 = 8\n",
    "\n",
    "1 x 9 = 9\n",
    "\n",
    "1 x 10 = 10\n",
    "\n",
    "***********\n",
    "\n",
    "2 x 1 = 2\n",
    "\n",
    "2 x 2 = 4\n",
    "\n",
    "2 x 3 = 6"
   ]
  },
  {
   "cell_type": "code",
   "execution_count": null,
   "id": "c3dc80eb",
   "metadata": {},
   "outputs": [
    {
     "name": "stdout",
     "output_type": "stream",
     "text": [
      "1 X 1 = 1\n",
      "1 X 2 = 2\n",
      "1 X 3 = 3\n",
      "1 X 4 = 4\n",
      "1 X 5 = 5\n",
      "1 X 6 = 6\n",
      "1 X 7 = 7\n",
      "1 X 8 = 8\n",
      "1 X 9 = 9\n",
      "1 X 10 = 10\n",
      "**********\n",
      "2 X 1 = 2\n",
      "2 X 2 = 4\n",
      "2 X 3 = 6\n",
      "2 X 4 = 8\n",
      "2 X 5 = 10\n",
      "2 X 6 = 12\n",
      "2 X 7 = 14\n",
      "2 X 8 = 16\n",
      "2 X 9 = 18\n",
      "2 X 10 = 20\n",
      "**********\n",
      "3 X 1 = 3\n",
      "3 X 2 = 6\n",
      "3 X 3 = 9\n",
      "3 X 4 = 12\n",
      "3 X 5 = 15\n",
      "3 X 6 = 18\n",
      "3 X 7 = 21\n",
      "3 X 8 = 24\n",
      "3 X 9 = 27\n",
      "3 X 10 = 30\n",
      "**********\n",
      "4 X 1 = 4\n",
      "4 X 2 = 8\n",
      "4 X 3 = 12\n",
      "4 X 4 = 16\n",
      "4 X 5 = 20\n",
      "4 X 6 = 24\n",
      "4 X 7 = 28\n",
      "4 X 8 = 32\n",
      "4 X 9 = 36\n",
      "4 X 10 = 40\n",
      "**********\n",
      "5 X 1 = 5\n",
      "5 X 2 = 10\n",
      "5 X 3 = 15\n",
      "5 X 4 = 20\n",
      "5 X 5 = 25\n",
      "5 X 6 = 30\n",
      "5 X 7 = 35\n",
      "5 X 8 = 40\n",
      "5 X 9 = 45\n",
      "5 X 10 = 50\n",
      "**********\n",
      "6 X 1 = 6\n",
      "6 X 2 = 12\n",
      "6 X 3 = 18\n",
      "6 X 4 = 24\n",
      "6 X 5 = 30\n",
      "6 X 6 = 36\n",
      "6 X 7 = 42\n",
      "6 X 8 = 48\n",
      "6 X 9 = 54\n",
      "6 X 10 = 60\n",
      "**********\n",
      "7 X 1 = 7\n",
      "7 X 2 = 14\n",
      "7 X 3 = 21\n",
      "7 X 4 = 28\n",
      "7 X 5 = 35\n",
      "7 X 6 = 42\n",
      "7 X 7 = 49\n",
      "7 X 8 = 56\n",
      "7 X 9 = 63\n",
      "7 X 10 = 70\n",
      "**********\n",
      "8 X 1 = 8\n",
      "8 X 2 = 16\n",
      "8 X 3 = 24\n",
      "8 X 4 = 32\n",
      "8 X 5 = 40\n",
      "8 X 6 = 48\n",
      "8 X 7 = 56\n",
      "8 X 8 = 64\n",
      "8 X 9 = 72\n",
      "8 X 10 = 80\n",
      "**********\n",
      "9 X 1 = 9\n",
      "9 X 2 = 18\n",
      "9 X 3 = 27\n",
      "9 X 4 = 36\n",
      "9 X 5 = 45\n",
      "9 X 6 = 54\n",
      "9 X 7 = 63\n",
      "9 X 8 = 72\n",
      "9 X 9 = 81\n",
      "9 X 10 = 90\n",
      "**********\n",
      "10 X 1 = 10\n",
      "10 X 2 = 20\n",
      "10 X 3 = 30\n",
      "10 X 4 = 40\n",
      "10 X 5 = 50\n",
      "10 X 6 = 60\n",
      "10 X 7 = 70\n",
      "10 X 8 = 80\n",
      "10 X 9 = 90\n",
      "10 X 10 = 100\n",
      "**********\n"
     ]
    }
   ],
   "source": [
    "for i in range(1, 11) :\n",
    "  for j in range(1, 11) :\n",
    "    print(f\"{i} X {j} = {i * j}\")\n",
    "  print(\"**********\")"
   ]
  },
  {
   "cell_type": "code",
   "execution_count": null,
   "id": "c4e5adcc",
   "metadata": {},
   "outputs": [],
   "source": [
    "[print(i,\"x\",ii,\"=\",i*ii) for i in range(1,11) for ii in range(1,11)]"
   ]
  },
  {
   "cell_type": "code",
   "execution_count": null,
   "id": "ab033456",
   "metadata": {},
   "outputs": [],
   "source": [
    "for i in range(1,11):\n",
    "    print(\"***********\")\n",
    "    for ii in range(1,11):\n",
    "        print(i,\"x\",ii,\"=\",i*ii)"
   ]
  },
  {
   "cell_type": "code",
   "execution_count": null,
   "id": "48140051",
   "metadata": {},
   "outputs": [],
   "source": [
    "3 ) Write a program to check if two string are balanced.\n",
    "for example; strings s1 and s2 are balanced if all the characters in the s1 are present in s2"
   ]
  },
  {
   "cell_type": "code",
   "execution_count": null,
   "id": "0eab6b44",
   "metadata": {},
   "outputs": [],
   "source": [
    "s1 = input(\"karakter gir: \")\n",
    "s2 = input(\"karakter gir: \")\n",
    "if len(set(s2).intersection(set(s1))) == len(set(s1)):\n",
    "  print( \"dengeli dizi\" )\n",
    "else:\n",
    "  print(\"dengeli değil\""
   ]
  },
  {
   "cell_type": "code",
   "execution_count": null,
   "id": "c7f0f0f9",
   "metadata": {},
   "outputs": [],
   "source": [
    "s1 = input(\"bir ifade yazınız :\")\n",
    "s2 = input(\"ikinci ifadeyi yazınız :\")\n",
    "if set(s1).intersection(set(s2)) == set(s1):\n",
    "  print(\"s1 ve s2 dizeleri dengelidir.\")\n",
    "else:\n",
    "  print(\"s1 ve s2 dizeleri dengeli değildir.\")"
   ]
  },
  {
   "cell_type": "code",
   "execution_count": null,
   "id": "d791339d",
   "metadata": {},
   "outputs": [
    {
     "name": "stdout",
     "output_type": "stream",
     "text": [
      "Enter first word: rb\n",
      "Enter second word: rblklkş\n",
      "True\n"
     ]
    }
   ],
   "source": [
    "w1, w2 = input(\"Enter first word: \"), input(\"Enter second word: \")\n",
    "print(w1 in w2)"
   ]
  },
  {
   "cell_type": "code",
   "execution_count": null,
   "id": "cc8530f8",
   "metadata": {},
   "outputs": [
    {
     "name": "stdout",
     "output_type": "stream",
     "text": [
      "ilk kelime: rb\n",
      "ikinci kelime: rbşşşşknhr\n",
      "True\n"
     ]
    }
   ],
   "source": [
    "if set(input(\"ilk kelime: \"))-set(input(\"ikinci kelime: \")) == set():\n",
    "    print(True)\n",
    "else:\n",
    "    print(False)"
   ]
  },
  {
   "cell_type": "code",
   "execution_count": null,
   "id": "b34b2f6a",
   "metadata": {},
   "outputs": [
    {
     "name": "stdout",
     "output_type": "stream",
     "text": [
      "ilk kelime: rb\n",
      "ikinci kelime: rbşş\n"
     ]
    },
    {
     "data": {
      "text/plain": [
       "True"
      ]
     },
     "execution_count": 17,
     "metadata": {},
     "output_type": "execute_result"
    }
   ],
   "source": [
    "set(input(\"ilk kelime: \")) - set(input(\"ikinci kelime: \")) == set()"
   ]
  },
  {
   "cell_type": "code",
   "execution_count": null,
   "id": "c0b17d32",
   "metadata": {},
   "outputs": [],
   "source": [
    "s1, s2 = input(), input()\n",
    "\"Dengelidir, bütün karakterler mevcut.\" if set(s1).issubset(set(s2)) else \"Dengeli değildir.\""
   ]
  },
  {
   "cell_type": "markdown",
   "id": "139157bc",
   "metadata": {},
   "source": [
    "4)  ?set() | ?for loop | ?floor division | ?format() | ?f\"string**\n",
    "\n",
    "There is a large of socks that must be paired by color. Given an array of integers representing the color of each sock, determine how many pairs of socks with matching colors there are.\n",
    "\n",
    "Example :\n",
    "\n",
    "n = 7\n",
    "\n",
    "ar = [1, 2, 1, 2, 1, 3, 2]\n",
    "\n",
    "Note: There is one pair of color 1 and one of color 2. There are three odd socks left, one of each color. The number of pairs is 2."
   ]
  },
  {
   "cell_type": "code",
   "execution_count": null,
   "id": "2ccfe6a1",
   "metadata": {},
   "outputs": [
    {
     "name": "stdout",
     "output_type": "stream",
     "text": [
      "Toplam 5 çift çorap var. Renk kodları da {1, 2, 3, 4}'tür.\n"
     ]
    }
   ],
   "source": [
    "sock_list = [1, 2, 1, 3, 1, 2, 3, 4, 4, 4, 1]\n",
    "colors = set(sock_list)\n",
    "pairs = 0\n",
    "\n",
    "for renk in colors :\n",
    "  pairs += sock_list.count(renk) // 2\n",
    "\n",
    "print(f\"Toplam {pairs} çift çorap var.\", \"Renk kodları da {}'tür.\".format(colors))"
   ]
  },
  {
   "cell_type": "code",
   "execution_count": null,
   "id": "7909234a",
   "metadata": {},
   "outputs": [],
   "source": [
    "toplam_çift = 0\n",
    "for i in set(ar) :\n",
    "  if ar.count(i) != 0 :\n",
    "    toplam_çift += (ar.count(i) // 2)\n",
    "print(toplam_çift)"
   ]
  },
  {
   "cell_type": "code",
   "execution_count": null,
   "id": "6717ba4a",
   "metadata": {},
   "outputs": [],
   "source": [
    "n = 7\n",
    "corap = [1, 2, 1, 2, 1, 3, 2]\n",
    "cift = 0\n",
    "renkler = set()\n",
    "\n",
    "for i in range(n):\n",
    "    if corap[i] not in renkler:\n",
    "        renkler.add(corap[i])\n",
    "    else:\n",
    "        cift += 1\n",
    "        renkler.remove(corap[i])\n",
    "print(f\"{cift} çift çorap eşleşmiştir. {n-cift*2} tane çorap tektir.\")"
   ]
  },
  {
   "cell_type": "markdown",
   "id": "0c7655b9",
   "metadata": {},
   "source": [
    " 5 ) for loop | ?sum()**\n",
    "\n",
    "Abigail and Benson are playing Rock, Paper, Scissors.\n",
    "\n",
    "Each game is represented by an array of length 2, where the first element represents what Abigail played and the second element represents what Benson played.\n",
    "\n",
    "Given a sequence of games, determine who wins the most number of matches. If they tie, output \"Tie\".\n",
    "\n",
    "- R stands for Rock\n",
    "\n",
    "- P stands for Paper\n",
    "\n",
    "- S stands for Scissors\n",
    "\n",
    "Examples\n"
   ]
  },
  {
   "cell_type": "code",
   "execution_count": 20,
   "id": "d76e74ee",
   "metadata": {},
   "outputs": [
    {
     "name": "stdout",
     "output_type": "stream",
     "text": [
      "Paper beat Rock\n",
      "Rock beat Scissors\n",
      "Scissors beat Paper\n",
      "The winner is Abigail\n"
     ]
    }
   ],
   "source": [
    "x = [[\"R\", \"P\"], [\"R\", \"S\"], [\"S\", \"P\"]]\n",
    "winner = []\n",
    "\n",
    "for i in x :\n",
    "  if i[0] == i[-1] :\n",
    "    print(\"Draw!\")\n",
    "  elif (i[0] == \"R\") and (i[-1] == \"S\") :\n",
    "    print(\"Rock beat Scissors\")\n",
    "    winner += [1]\n",
    "  elif i[0] == \"R\" and i[-1] == \"P\" :\n",
    "    print(\"Paper beat Rock\")\n",
    "    winner += [-1]\n",
    "  elif i[0] == \"S\" and i[-1] == \"P\" :\n",
    "    print(\"Scissors beat Paper\")\n",
    "    winner += [1]\n",
    "  elif i[0] ==\"S\" and i[-1] == \"R\" :\n",
    "    print(\"Rock beat Scissors\") \n",
    "    winner += [-1]\n",
    "  elif i[0] == \"P\" and i[-1] ==\"R\" :\n",
    "    print(\"Paper beat Rock\")\n",
    "    winner += [1]\n",
    "  elif i[0] == \"P\" and i[-1] == \"S\" :\n",
    "    print(\"Scissors beat Paper\")\n",
    "    winner += [-1]\n",
    "\n",
    "if sum(winner) == 0 :\n",
    "  print(\"Tie\")\n",
    "elif sum(winner) >= 1 :\n",
    "  print(\"The winner is Abigail\")\n",
    "else:\n",
    "  print(\"The winner is Benson\")"
   ]
  },
  {
   "cell_type": "code",
   "execution_count": null,
   "id": "12b53e15",
   "metadata": {},
   "outputs": [],
   "source": [
    "import random\n",
    "secenek=[\"t\",\"k\",\"m\"]\n",
    "t=secenek[0]\n",
    "k=secenek[1]\n",
    "m=secenek[2]\n",
    "print(\"Taş,Kağıt, Makas oyununa hoş geldinizn Oyunu bitirmek için q tuşuna basın\")\n",
    "bil_puan = 0\n",
    "puan = 0\n",
    "while True:\n",
    "    secim = input(\"Taş mı kağıt mı makas mı? \")\n",
    "    bil_secim = random.choice(secenek)\n",
    "    if secim==t:\n",
    "        if bil_secim==t:\n",
    "            print(\"Bilgisayarın seçimi: TAŞ \\n Sonuç : BERABERE\")\n",
    "        elif bil_secim==k:\n",
    "            bil_puan += 1\n",
    "            print(\"Bilgisayarın seçimi: KAĞIT \\n Sonuç : KAYBETTİN\")\n",
    "        else:\n",
    "            puan += 1\n",
    "            print(\"Bilgisayarın seçimi: MAKAS \\n Sonuç : KAZANDIN !!\")\n",
    "    if secim==k:\n",
    "        if bil_secim==t:\n",
    "            puan += 1\n",
    "            print(\"Bilgisayarın seçimi: TAŞ \\n Sonuç : KAZANDIN !!\")\n",
    "        elif bil_secim==k:\n",
    "            print(\"Bilgisayarın seçimi: KAĞIT \\n Sonuç : BERABERE\")\n",
    "        else:\n",
    "            bil_puan += 1\n",
    "            print(\"Bilgisayarın seçimi: MAKAS \\n Sonuç : KAYBETTİN\")\n",
    "    if secim==m:\n",
    "        if bil_secim==t:\n",
    "            bil_puan += 1\n",
    "            print(\"Bilgisayarın seçimi: TAŞ \\n Sonuç : KAYBETTİN\")\n",
    "        elif bil_secim==k:\n",
    "            puan += 1\n",
    "            print(\"Bilgisayarın seçimi: KAĞIT \\n Sonuç : KAZANDIN !!\")\n",
    "        else:\n",
    "            print(\"Bilgisayarın seçimi: MAKAS \\n Sonuç : BERABERE\")\n",
    "    if secim=='q':\n",
    "        if bil_puan > puan:\n",
    "            print(f\"OYUN BİTTİ {bil_puan}-{puan} kaybettin\")\n",
    "        elif puan > bil_puan:\n",
    "            print(f\"ÇOK İYİ OYNADIN , {puan}-{bil_puan} KAZANDIN !!\")\n",
    "        else:\n",
    "            print(f\"OYUN {puan}-{bil_puan} BERABERE BİTTİ\")\n",
    "        break"
   ]
  },
  {
   "cell_type": "code",
   "execution_count": null,
   "id": "10819a66",
   "metadata": {},
   "outputs": [],
   "source": [
    "import random\n",
    "liste = [\"R\", \"P\", \"S\"]\n",
    "a = 0\n",
    "b = 0\n",
    "oyun = int(input(\"kaç el oyun oynansın : \"))\n",
    "while oyun > 0:\n",
    "  oyun -= 1\n",
    "  abigail = random.choice(liste)\n",
    "  benson = random.choice(liste)\n",
    "  if abigail == \"R\" and benson == \"P\":\n",
    "    print(\"abigail = \", abigail, \"benson = \", benson, \"So Besnson win\")\n",
    "    b += 1\n",
    "  elif abigail == \"R\" and benson == \"S\":\n",
    "     print(\"abigail = \", abigail, \"benson = \", benson, \"So Abigail win\")\n",
    "     a +=1\n",
    "  elif abigail == \"P\" and benson == \"R\":\n",
    "     print(\"abigail = \", abigail, \"benson = \", benson, \"So Abigail win\")\n",
    "     a += 1\n",
    "  elif abigail == \"P\" and benson == \"S\":\n",
    "     print(\"abigail = \", abigail, \"benson = \", benson, \"So Besnson win\")\n",
    "     b += 1\n",
    "  elif abigail == \"S\" and benson == \"P\":\n",
    "     print(\"abigail = \", abigail, \"benson = \", benson, \"So Abigail win\")\n",
    "     a += 1\n",
    "  elif abigail == \"S\" and benson == \"R\":\n",
    "     print(\"abigail = \", abigail, \"benson = \", benson, \"So Besnson win\")\n",
    "     b += 1\n",
    "  else:\n",
    "     print(\"abigail = \", abigail, \"benson = \", benson, \"So game is tie\")\n",
    "if a > b:\n",
    "  print(f\"abigail win game : {a}\", \"-\", b)\n",
    "elif b > a:\n",
    "  print(\"benson win game : {}\".format(b),\"-\", a)\n",
    "else:\n",
    "  print(\"game is tie\" , a, \"-\", b)"
   ]
  },
  {
   "cell_type": "markdown",
   "id": "2a363f9a",
   "metadata": {},
   "source": [
    "6)Create a function that returns the sum of missing numbers from the given list.\n",
    "\n",
    "Examples\n",
    "\n",
    "sum_missing_numbers([4, 3, 8, 1, 2]) ➞ 18\n",
    "\n",
    "- 5 + 6 + 7 = 18\n",
    "\n",
    "sum_missing_numbers([17, 16, 15, 10, 11, 12]) ➞ 27\n",
    "\n",
    "- 13 + 14 = 27\n",
    "\n",
    "sum_missing_numbers([1, 2, 3, 4, 5]) ➞ 0\n",
    "\n",
    "- No Missing Numbers (i.e. all numbers in [1, 5] are present in the list)"
   ]
  },
  {
   "cell_type": "code",
   "execution_count": 1,
   "id": "59aba6a9",
   "metadata": {},
   "outputs": [
    {
     "name": "stdout",
     "output_type": "stream",
     "text": [
      "18\n"
     ]
    }
   ],
   "source": [
    "numbers = [4, 3, 8, 1, 2]\n",
    "toplam = 0\n",
    "\n",
    "for i in range(min(numbers), max(numbers) + 1) :\n",
    "  if i not in numbers :\n",
    "    toplam += i\n",
    "print(toplam)"
   ]
  },
  {
   "cell_type": "code",
   "execution_count": null,
   "id": "b78bf3a9",
   "metadata": {},
   "outputs": [],
   "source": [
    "liste = [17, 16, 15, 10, 11, 12]\n",
    "sum([n for n in [i for i in range(min(liste), max(liste)+1)] if n not in liste])"
   ]
  },
  {
   "cell_type": "code",
   "execution_count": null,
   "id": "752cd8a5",
   "metadata": {},
   "outputs": [],
   "source": [
    "liste = [17, 16, 15, 10, 11, 12, 30, 22, 25]\n",
    "\n",
    "toplam = 0\n",
    "eksik = []\n",
    "for i in range(min(liste), max(liste)):\n",
    "  if len(set(liste).intersection({i})) == 0 :\n",
    "    toplam += i\n",
    "    eksik.append(i)\n",
    "print(toplam)\n",
    "\n",
    "\n",
    "print(eksik)"
   ]
  },
  {
   "cell_type": "code",
   "execution_count": null,
   "id": "943f136b",
   "metadata": {},
   "outputs": [],
   "source": [
    "liste = [4, 3, 8, 1, 2]\n",
    "sum_missing = sum(set(range(sorted(liste)[0], sorted(liste)[-1])) - set(sorted(liste)))\n",
    "sum_missing\n",
    "image.png "
   ]
  },
  {
   "cell_type": "code",
   "execution_count": null,
   "id": "16efd1e5",
   "metadata": {},
   "outputs": [],
   "source": [
    "givenlist = [1,3,5,6,7,9,11,14,15,16,17]\n",
    "a = min(givenlist)\n",
    "b = max(givenlist)\n",
    "mylist = range(a,b)\n",
    "missing_numbers = set(mylist) - set(givenlist)\n",
    "print(\"eksik sayılar:\", missing_numbers, \"toplamı:\",sum(missing_numbers))"
   ]
  },
  {
   "cell_type": "code",
   "execution_count": null,
   "id": "5d12aace",
   "metadata": {},
   "outputs": [],
   "source": [
    "a=[4,3,8,1,2]\n",
    "b=set(range(min(a), max(a)+1))\n",
    "a=set(a)\n",
    "print(sum(b-a))"
   ]
  },
  {
   "cell_type": "code",
   "execution_count": null,
   "id": "3c4520bb",
   "metadata": {},
   "outputs": [],
   "source": [
    "def sum_missing_numbers(num_list):\n",
    "    min_num=min(num_list)\n",
    "    max_num=max(num_list) \n",
    "    nub_sum=0\n",
    "    for i in range(min_num,max_num+1):\n",
    "        if  i not in liste:\n",
    "            nub_sum += i \n",
    "    return nub_sum  "
   ]
  },
  {
   "cell_type": "code",
   "execution_count": null,
   "id": "14babd92",
   "metadata": {},
   "outputs": [],
   "source": [
    "def miss_num(liste):\n",
    "    max(liste)\n",
    "    min(liste)\n",
    "    eksikler = []\n",
    "    for i in range(min(liste), max(liste)):\n",
    "        if i not in liste:\n",
    "            eksikler.append(i)\n",
    "    return sum(eksikler)\n",
    "\n",
    "miss_num([17,16,15,10,11,12])"
   ]
  },
  {
   "cell_type": "code",
   "execution_count": null,
   "id": "89e37ac4",
   "metadata": {},
   "outputs": [],
   "source": [
    "n = input(\"\")\n",
    "my_dict = {}\n",
    "\n",
    "for i in n :\n",
    "  my_dict[i] = n.count(i)\n",
    "\n",
    "if len(set(list(my_dict.values()))) > 2 :\n",
    "  print(\"NO\")\n",
    "elif len(set(list(my_dict.values()))) == 2 :\n",
    "  if len(list(my_dict.keys())) - list(my_dict.values()).count(1) > 1 :\n",
    "    print(\"NO\")\n",
    "  else :\n",
    "    print(\"YES\")\n",
    "elif len(set(list(my_dict.values()))) == 1 :\n",
    "  print(\"YES\")"
   ]
  },
  {
   "cell_type": "markdown",
   "id": "956872ad",
   "metadata": {},
   "source": [
    "7)Bir pisagor üçgeni oluşturan 1'den 100'e kadar sayıları ekrana yazdıran bir program yazın. Sınav için.: 3 4 5"
   ]
  },
  {
   "cell_type": "code",
   "execution_count": null,
   "id": "018be38f",
   "metadata": {},
   "outputs": [],
   "source": [
    "for i in range(1, 100) :\n",
    "  for j in range(i, 100) :\n",
    "    for k in range(j, 100) :\n",
    "      if i ** 2 + j ** 2 == k ** 2 :\n",
    "        print(i, j, k)"
   ]
  },
  {
   "cell_type": "code",
   "execution_count": null,
   "id": "90b71663",
   "metadata": {},
   "outputs": [],
   "source": [
    "sayılar = list(range(1,101))\n",
    "toplam = 0\n",
    "for x in sayılar:\n",
    "  for y in sayılar:\n",
    "    for z in sayılar:\n",
    "      if x ** 2 == (y ** 2) + (z ** 2):\n",
    "        toplam += 1\n",
    "        print(x, y, z)\n",
    "print(toplam)"
   ]
  },
  {
   "cell_type": "code",
   "execution_count": null,
   "id": "4bbd8b89",
   "metadata": {},
   "outputs": [],
   "source": [
    "for a in range(1,101):\n",
    "    for b in range(1,101):\n",
    "        for c in range(1,101):\n",
    "            if a**2 + b**2 == c**2:\n",
    "                print(a,b,c) \n"
   ]
  },
  {
   "cell_type": "code",
   "execution_count": null,
   "id": "e6955470",
   "metadata": {},
   "outputs": [],
   "source": [
    "\n",
    "[(a, b, c)  for a in range(1,101) for b in range(1,101) for c in range(1,101) if (a**2 + b**2 == c**2)]"
   ]
  },
  {
   "cell_type": "code",
   "execution_count": null,
   "id": "2b20093a",
   "metadata": {},
   "outputs": [],
   "source": [
    "pisagor = []\n",
    "for i in range(1, 100):\n",
    "  for ii in  range(1, 100):\n",
    "    for iii in  range(1, 100):\n",
    "      if (i ** 2) + (ii ** 2) == (iii ** 2):\n",
    "        pisagor.append((i, ii, iii))\n",
    "print(pisagor)"
   ]
  },
  {
   "cell_type": "code",
   "execution_count": null,
   "id": "d599abae",
   "metadata": {},
   "outputs": [],
   "source": [
    "import math\n",
    "def pisgor(n):\n",
    "    for b in range(n):\n",
    "        for a in range(1,b):\n",
    "            c = math.sqrt(a * a + b * b)\n",
    "            if c % 1 == 0:\n",
    "                print(a, b, int(c))\n",
    "pisgor(20)"
   ]
  },
  {
   "cell_type": "markdown",
   "id": "e6e7f562",
   "metadata": {},
   "source": [
    "8) input() | ?len() | ?set()**\n",
    "\n",
    "Write a Python function that takes a sequence of numbers and determines whether all the numbers are different from each other.\n",
    "\n",
    "Bir sayı dizisi alan ve tüm sayıların birbirinden farklı olup olmadığını belirleyen bir Python fonksiyonu yazın."
   ]
  },
  {
   "cell_type": "code",
   "execution_count": null,
   "id": "914f27a7",
   "metadata": {},
   "outputs": [],
   "source": [
    "number = input(\"Please enter a number: \")\n",
    "print(len(set(number)) == len(number))"
   ]
  },
  {
   "cell_type": "code",
   "execution_count": null,
   "id": "ae4451f8",
   "metadata": {},
   "outputs": [],
   "source": [
    "is_different = len(set(numbers))- len(numbers) == 0"
   ]
  },
  {
   "cell_type": "code",
   "execution_count": null,
   "id": "4abae64a",
   "metadata": {},
   "outputs": [],
   "source": [
    "sayı1, sayı2 = input(\"Bir sayı giriniz>>> : \"), input(\"Bir sayı giriniz>>> : \")\n",
    "\"farklı rakam var --->\", set(sayı1).difference(sayı2) if set(sayı1).difference(sayı2) else \"farklı rakam yok\""
   ]
  },
  {
   "cell_type": "code",
   "execution_count": null,
   "id": "880d6dca",
   "metadata": {},
   "outputs": [],
   "source": [
    "dizi = input(\"sayı dizisi gir: \")\n",
    "len(dizi.replace(\",\", \"\")) == len(set(dizi.replace(\",\", \"\")))"
   ]
  },
  {
   "cell_type": "code",
   "execution_count": null,
   "id": "4a8f5935",
   "metadata": {},
   "outputs": [],
   "source": [
    "def acma_1(get):\n",
    "  a =list(set(get))\n",
    "  b= list(get)\n",
    "  c= set(a).difference(set(b))\n",
    "  if c == 0:\n",
    "    return \"All numbers in your entry are same\"\n",
    "  else:\n",
    "    return \"There are dublicate numbers\"\n",
    "get = input(\"Enter a sequence of numbers: \")\n",
    "print(acma_1(get))"
   ]
  },
  {
   "cell_type": "code",
   "execution_count": null,
   "id": "7e068f62",
   "metadata": {},
   "outputs": [],
   "source": [
    "a = input(\"bir sayı girin: \")\n",
    "b = len(a)\n",
    "c = len(set(a))\n",
    "if b == c:\n",
    "  print(\"girdiğiniz sayıdaki tüm rakamlar farklıdır.\")\n",
    "else:\n",
    "  print(\"girdiğiniz sayıdaki bazı rakamlar aynıdır.\")"
   ]
  },
  {
   "cell_type": "markdown",
   "id": "cf4d290d",
   "metadata": {},
   "source": [
    "9)for loop | ?nested for loop | ?range() | ?str() | ?int()**\n",
    "\n",
    " - How many of the 3-digit numbers are equal to the sum of the cubes of their digits?\n",
    "\n",
    " - 3 basamaklı sayıların kaç tanesi rakamlarının küplerinin toplamına eşittir?"
   ]
  },
  {
   "cell_type": "code",
   "execution_count": null,
   "id": "8d75ebed",
   "metadata": {},
   "outputs": [],
   "source": [
    "kup_toplami = 0\n",
    "sayac = 0\n",
    "\n",
    "for i in range(100, 1000) :\n",
    "  for j in str(i) :\n",
    "    kup_toplami += int(j) ** 3\n",
    "  if kup_toplami == i:\n",
    "    print(i)\n",
    "    sayac +=1\n",
    "  kup_toplami = 0\n",
    "\n",
    "print(\"3 basamaklı sayıların {} tanesinin küplerinin toplamı kendisine eşittir.\".format(sayac))"
   ]
  },
  {
   "cell_type": "code",
   "execution_count": null,
   "id": "f24b4e27",
   "metadata": {},
   "outputs": [],
   "source": [
    "len([i for i in range(100,1000) if i == (int(str(i)[0])**3 + int(str(i)[1])**3 + int(str(i)[2])**3) ])"
   ]
  },
  {
   "cell_type": "code",
   "execution_count": null,
   "id": "2d65305f",
   "metadata": {},
   "outputs": [],
   "source": [
    "for i in range(100,1000):\n",
    "    if i != (int(str(i)[0]) ** 3 + int(str(i)[1]) ** 3 + int(str(i)[2]) ** 3) :\n",
    "        continue\n",
    "    else:\n",
    "        print(i)"
   ]
  },
  {
   "cell_type": "code",
   "execution_count": null,
   "id": "140e1bb5",
   "metadata": {},
   "outputs": [],
   "source": [
    "sayılar = range(100, 1000)\n",
    "sayılar = list(sayılar)\n",
    "\n",
    "liste =[]\n",
    "\n",
    "for i in sayılar:\n",
    "  i = str(i)\n",
    "  a = i[0]\n",
    "  b = i[1]\n",
    "  c = i[2]\n",
    "  \n",
    "  if (int(a) **3 ) + (int(b)**3) + (int(c)**3) == (100 * int(a)) + (10 * int(b)) + (1 * int(c)):\n",
    "    liste.append(i)\n",
    "  \n",
    "print(liste)"
   ]
  },
  {
   "cell_type": "code",
   "execution_count": null,
   "id": "9086859c",
   "metadata": {},
   "outputs": [],
   "source": [
    "[i for i in range(100, 1000) if int(str(i)[0]) ** 3 + int(str(i)[1]) ** 3 + int(str(i)[2]) ** 3 == i ]"
   ]
  },
  {
   "cell_type": "code",
   "execution_count": null,
   "id": "7b7e61ce",
   "metadata": {},
   "outputs": [],
   "source": [
    "x=int(input(\"Yüzler basamağı : ----- :\"))    \n",
    "y=int(input(\"Onlar basamağı : ----- :\"))\n",
    "z=int(input(\"Birler basamağı : ----- :\"))\n",
    "  a = (x*100) + (y*10) + (z)\n",
    "  if a == x**3+y**3+z**3:\n",
    "    print(\"Armstrong\")\n",
    "  else:\n",
    "    print(\"Tekrar Deneyin\")"
   ]
  },
  {
   "cell_type": "code",
   "execution_count": null,
   "id": "192e4585",
   "metadata": {},
   "outputs": [],
   "source": []
  },
  {
   "cell_type": "markdown",
   "id": "ec3daedc",
   "metadata": {},
   "source": [
    "10 )comprehension | ?nested for loop | ?for loop | ?join()**\n",
    "\n",
    "Write a program that square every digit of a number and concatenate them.\n",
    "For example, if we run 9119 through the function, 811181 will come out, because 9 ** 2 = 81 and 1 ** 2 = 1.\n",
    "\n",
    "Bir sayının her basamağını karesini alan ve bunları birleştiren bir program yazın. Örneğin 9119'u fonksiyon üzerinden çalıştırırsak sonuç 811181 çıkacaktır, çünkü 9 ** 2 = 81 ve 1 ** 2 = 1'dir."
   ]
  },
  {
   "cell_type": "code",
   "execution_count": null,
   "id": "1178f3c5",
   "metadata": {},
   "outputs": [],
   "source": [
    "number = input(\"Please enter a number: \")\n",
    "print(\"\".join([str(i) for i in [int(j) ** 2 for j in number]]))"
   ]
  },
  {
   "cell_type": "code",
   "execution_count": null,
   "id": "958883ff",
   "metadata": {},
   "outputs": [],
   "source": [
    "number = input(\"Please enter a number: \")\n",
    "text = \"\"\n",
    "for i in str(number):\n",
    "  text += str(int(i) ** 2)\n",
    "print(text)"
   ]
  },
  {
   "cell_type": "code",
   "execution_count": null,
   "id": "bacf973b",
   "metadata": {},
   "outputs": [],
   "source": [
    "sayı = input(\"bir sayı gir: \")\n",
    "sonuç = \"\"\n",
    "for i in sayı :\n",
    "  sonuç += str(int(i) ** 2)\n",
    "print(f\"sonuç : {sonuç}\")"
   ]
  },
  {
   "cell_type": "code",
   "execution_count": null,
   "id": "a445d681",
   "metadata": {},
   "outputs": [],
   "source": [
    "sayı = input(\"bir sayı girin: \")\n",
    "basamak = len(sayı)\n",
    "\n",
    "liste = \"\"\n",
    "sayı = int(sayı)\n",
    "değer = sayı\n",
    "\n",
    "while değer > 0:\n",
    "  bölüm = değer // (10 ** (basamak-1))\n",
    "  x = bölüm ** 2\n",
    "  x = str(x)\n",
    "  liste += x  \n",
    "  değer= değer % (10 ** (basamak-1))\n",
    "  basamak -= 1\n",
    "  if basamak == 0:   \n",
    "    print(liste)"
   ]
  },
  {
   "cell_type": "code",
   "execution_count": null,
   "id": "1401d9d1",
   "metadata": {},
   "outputs": [],
   "source": [
    "ans = []\n",
    "a = \"\"\n",
    "get_1 = \"\" \n",
    "while get_1.isdigit() == False :\n",
    "  get_1 = input(\"Enter a number: \")\n",
    "  if get_1.isdigit() == True :\n",
    "    for i in list(get_1):\n",
    "      ans.append(str(int(i)**2))\n",
    "print(a.join(ans))"
   ]
  },
  {
   "cell_type": "code",
   "execution_count": null,
   "id": "f05cbc60",
   "metadata": {},
   "outputs": [],
   "source": [
    "sayı = input(\"Bir sayı giriniz >> : \")\n",
    "a = [str(int(i)**2) for i in sayı]\n",
    "print(int(\"\".join(a)))"
   ]
  },
  {
   "cell_type": "code",
   "execution_count": null,
   "id": "7a4e1766",
   "metadata": {},
   "outputs": [],
   "source": [
    "num = input(\"give me a number : \")\n",
    "liste = []\n",
    "for i in num:\n",
    "  liste.append(str(int(i)**2))\n",
    "print(\"\".join(liste))"
   ]
  },
  {
   "cell_type": "code",
   "execution_count": null,
   "id": "1b758cab",
   "metadata": {},
   "outputs": [],
   "source": [
    "num = input('Enter a Number: ')\n",
    "res = [int(x)**2 for x in num]\n",
    "y = ''\n",
    "for i in res:\n",
    "    y = y + str(i) \n",
    "print(int(y))"
   ]
  },
  {
   "cell_type": "code",
   "execution_count": null,
   "id": "068f0eca",
   "metadata": {},
   "outputs": [],
   "source": [
    "a = input(\"bir sayı girin:\")\n",
    "counter =[]\n",
    "for i in a:\n",
    "  counter.append(int(i)**2)\n",
    "print(*counter, sep=\"\")"
   ]
  }
 ],
 "metadata": {
  "kernelspec": {
   "display_name": "Python 3.10.4 64-bit",
   "language": "python",
   "name": "python3"
  },
  "language_info": {
   "codemirror_mode": {
    "name": "ipython",
    "version": 3
   },
   "file_extension": ".py",
   "mimetype": "text/x-python",
   "name": "python",
   "nbconvert_exporter": "python",
   "pygments_lexer": "ipython3",
   "version": "3.10.4"
  },
  "vscode": {
   "interpreter": {
    "hash": "27f6fea6f47ae512550f0b8facdbd035a93e1dd89633f7bf2dd00a2502c71d0d"
   }
  }
 },
 "nbformat": 4,
 "nbformat_minor": 5
}
