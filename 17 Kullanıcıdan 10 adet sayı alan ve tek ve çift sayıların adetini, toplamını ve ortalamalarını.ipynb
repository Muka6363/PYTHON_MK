{
 "cells": [
  {
   "cell_type": "code",
   "execution_count": null,
   "id": "4768996d",
   "metadata": {},
   "outputs": [],
   "source": []
  },
  {
   "cell_type": "raw",
   "id": "1f69de0b",
   "metadata": {},
   "source": [
    "Kullanıcıdan 10 adet sayı alan ve tek ve çift sayıların adetini, toplamını ve ortalamalarını bulan programını yazınız?"
   ]
  },
  {
   "cell_type": "code",
   "execution_count": 27,
   "id": "1717fbc3",
   "metadata": {},
   "outputs": [
    {
     "name": "stdout",
     "output_type": "stream",
     "text": [
      "1 nci sayıyı giriniz : 25\n",
      "2 nci sayıyı giriniz : 36\n",
      "3 nci sayıyı giriniz : 65\n",
      "4 nci sayıyı giriniz : 685\n",
      "5 nci sayıyı giriniz : 614\n",
      "6 nci sayıyı giriniz : 652\n",
      "7 nci sayıyı giriniz : 654\n",
      "8 nci sayıyı giriniz : 98\n",
      "9 nci sayıyı giriniz : 87\n",
      "10 nci sayıyı giriniz : 15\n",
      "5 tane tek sayı var, toplamları 877 ve ortalaması 175\n",
      "5 tane çift sayı var, toplamları 2054 ve ortalaması 410\n"
     ]
    }
   ],
   "source": [
    "count = 1\n",
    "numbers = []\n",
    "odd, even, sum_odd, sum_even = 0, 0, 0, 0\n",
    "while count <= 10:\n",
    "    numbers.append(int(input(\"{} nci sayıyı giriniz : \".format(count))))\n",
    "    count +=1\n",
    "for i in numbers:\n",
    "    if i%2:\n",
    "        odd +=1\n",
    "        sum_odd += i\n",
    "    else:\n",
    "        even +=1\n",
    "        sum_even += i\n",
    "print(f\"{odd} tane tek sayı var, toplamları {sum_odd} ve ortalaması {sum_odd//odd}\")\n",
    "print(f\"{even} tane çift sayı var, toplamları {sum_even} ve ortalaması {sum_even//even}\")"
   ]
  },
  {
   "cell_type": "code",
   "execution_count": 19,
   "id": "999e8b72",
   "metadata": {},
   "outputs": [
    {
     "data": {
      "text/plain": [
       "5"
      ]
     },
     "execution_count": 19,
     "metadata": {},
     "output_type": "execute_result"
    }
   ],
   "source": [
    "odd"
   ]
  },
  {
   "cell_type": "code",
   "execution_count": 20,
   "id": "439ec8ec",
   "metadata": {},
   "outputs": [
    {
     "data": {
      "text/plain": [
       "5"
      ]
     },
     "execution_count": 20,
     "metadata": {},
     "output_type": "execute_result"
    }
   ],
   "source": [
    "even"
   ]
  },
  {
   "cell_type": "code",
   "execution_count": 2,
   "id": "81fdc60b",
   "metadata": {},
   "outputs": [
    {
     "name": "stdout",
     "output_type": "stream",
     "text": [
      "Please enter ten numbers: 5\n",
      "Please enter ten numbers: 6\n",
      "Please enter ten numbers: 36\n",
      "Please enter ten numbers: 32\n",
      "Please enter ten numbers: 32\n",
      "Please enter ten numbers: 36\n",
      "Please enter ten numbers: 58\n",
      "Please enter ten numbers: 9\n",
      "Please enter ten numbers: 9\n",
      "Please enter ten numbers: 5\n",
      "Here's even numbers of that list: [6, 36, 32, 32, 36, 58]\n",
      "Here's the sum of these numbers: 200\n",
      "Here's the average of these numbers: 33.333333333333336\n",
      "Here's odd numbers of that list: [5, 9, 9, 5]\n",
      "Here's the sum of these numbers: 28\n",
      "Here's the average of these numbers: 7.0\n"
     ]
    }
   ],
   "source": [
    "# F3539 - Buğra\n",
    "\n",
    "ten_nums_given = []\n",
    "for num in range(10):\n",
    "    ten_nums_given.append(int(input(\"Please enter ten numbers: \")))\n",
    "even_numbers = []\n",
    "odd_numbers = []\n",
    "for num in ten_nums_given:\n",
    "    if num % 2 == 0:\n",
    "        even_numbers.append(num)\n",
    "    else:\n",
    "        odd_numbers.append(num)\n",
    "print(\"Here's even numbers of that list: {}\\nHere's the sum of these numbers: {}\\nHere's the average of these numbers: {}\".format(even_numbers, sum(even_numbers), sum(even_numbers) / len(even_numbers)))\n",
    "print(\"Here's odd numbers of that list: {}\\nHere's the sum of these numbers: {}\\nHere's the average of these numbers: {}\".format(odd_numbers, sum(odd_numbers), sum(odd_numbers) / len(odd_numbers)))"
   ]
  },
  {
   "cell_type": "code",
   "execution_count": 1,
   "id": "a6941337",
   "metadata": {},
   "outputs": [
    {
     "name": "stdout",
     "output_type": "stream",
     "text": [
      "How many numbers to enter:5\n",
      "6\n",
      "48\n",
      "6\n",
      "39\n",
      "5\n",
      "Odd number:2,sum:44,avg:22.0 \n",
      "Even number:3,sum:60,avg:20.0\n"
     ]
    }
   ],
   "source": [
    "# F3549-Ethem\n",
    "\n",
    "a=int(input(\"How many numbers to enter:\"))\n",
    "x,y,even,odd=0,0,0,0\n",
    "for i in range(1,a+1):\n",
    "  sayı=int(input())\n",
    "  if sayı%2==0:\n",
    "    x+=1\n",
    "    even+=sayı \n",
    "  else:\n",
    "    y+=1\n",
    "    odd+=sayı\n",
    "print(f\"Odd number:{y},sum:{odd},avg:{odd/y} \\nEven number:{x},sum:{even},avg:{even/x}\")"
   ]
  }
 ],
 "metadata": {
  "kernelspec": {
   "display_name": "Python 3 (ipykernel)",
   "language": "python",
   "name": "python3"
  },
  "language_info": {
   "codemirror_mode": {
    "name": "ipython",
    "version": 3
   },
   "file_extension": ".py",
   "mimetype": "text/x-python",
   "name": "python",
   "nbconvert_exporter": "python",
   "pygments_lexer": "ipython3",
   "version": "3.9.7"
  }
 },
 "nbformat": 4,
 "nbformat_minor": 5
}
