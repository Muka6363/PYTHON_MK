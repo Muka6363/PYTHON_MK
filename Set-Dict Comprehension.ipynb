{
 "cells": [
  {
   "cell_type": "code",
   "execution_count": null,
   "id": "9a951881",
   "metadata": {},
   "outputs": [],
   "source": []
  },
  {
   "cell_type": "markdown",
   "id": "fb3b4ac6",
   "metadata": {},
   "source": [
    "# Set Comprehensions İşlemleri"
   ]
  },
  {
   "cell_type": "code",
   "execution_count": 3,
   "id": "f350ddd1",
   "metadata": {},
   "outputs": [
    {
     "data": {
      "text/plain": [
       "{10, 20, 30, 42}"
      ]
     },
     "execution_count": 3,
     "metadata": {},
     "output_type": "execute_result"
    }
   ],
   "source": [
    "#listeyi set'e çevirmek için; \n",
    "#1-set() fonksiyonu içine atarız\n",
    "\n",
    "birliste = [10,10,20,20,30,30,42]\n",
    "birset = set([10,10,20,20,30,30,42]) #set fonksiyonu içine atınca tekrarları eler\n",
    "birset"
   ]
  },
  {
   "cell_type": "code",
   "execution_count": 4,
   "id": "5148fd54",
   "metadata": {},
   "outputs": [
    {
     "data": {
      "text/plain": [
       "{10, 20, 30, 42}"
      ]
     },
     "execution_count": 4,
     "metadata": {},
     "output_type": "execute_result"
    }
   ],
   "source": [
    "#listeyi set'e çevirmek için; \n",
    "#2-önce boş küme oluşturup for döngüsü ile elemanları içine ekleriz,\n",
    "\n",
    "birliste = [10,10,20,20,30,30,42]\n",
    "birset = set()\n",
    "for i in birliste:\n",
    "    birset.add(i)  # tekrar etmeyenleri alır, tekrarları eklemez\n",
    "birset"
   ]
  },
  {
   "cell_type": "code",
   "execution_count": 7,
   "id": "32f46333",
   "metadata": {},
   "outputs": [
    {
     "data": {
      "text/plain": [
       "{10, 20, 30, 42}"
      ]
     },
     "execution_count": 7,
     "metadata": {},
     "output_type": "execute_result"
    }
   ],
   "source": [
    "#listeyi set'e çevirmek için; \n",
    "#3-set comprehension yapısına dönüştürürüz\n",
    "\n",
    "birliste = [10,10,20,20,30,30,42]\n",
    "# Bu listeyi {} içerisinde set comprehension yapısına dönüştürüyoruz\n",
    "\n",
    "{i for i in birliste} # Çıktıda görüldüğü üzere tekil(uniq) sonuçlar yazılmıştır."
   ]
  },
  {
   "cell_type": "code",
   "execution_count": 9,
   "id": "ff2ff13a",
   "metadata": {},
   "outputs": [
    {
     "data": {
      "text/plain": [
       "{5.0, 10.0, 15.0, 21.0}"
      ]
     },
     "execution_count": 9,
     "metadata": {},
     "output_type": "execute_result"
    }
   ],
   "source": [
    "birliste = [10,10,20,20,30,30,42]\n",
    "{i/2 for i in birliste} # uniq elemanları buldu ve 2' ye böldü."
   ]
  },
  {
   "cell_type": "code",
   "execution_count": 10,
   "id": "8eb43dcd",
   "metadata": {},
   "outputs": [
    {
     "data": {
      "text/plain": [
       "{10, 20, 30, 42}"
      ]
     },
     "execution_count": 10,
     "metadata": {},
     "output_type": "execute_result"
    }
   ],
   "source": [
    "{eleman for eleman in [10,10,20,20,30,30,42]}  # hepsi sadece tek satırda kullanım."
   ]
  },
  {
   "cell_type": "markdown",
   "id": "3b47608d",
   "metadata": {},
   "source": [
    "# Dict (Sözlük) Comprehensions İşlemleri"
   ]
  },
  {
   "cell_type": "code",
   "execution_count": 12,
   "id": "3deb504c",
   "metadata": {},
   "outputs": [
    {
     "data": {
      "text/plain": [
       "[0, 1, 2, 3, 4]"
      ]
     },
     "execution_count": 12,
     "metadata": {},
     "output_type": "execute_result"
    }
   ],
   "source": [
    "birliste = [e for e in range(5)] # 0--->4 arasında liste oluşturur.\n",
    "birliste"
   ]
  },
  {
   "cell_type": "code",
   "execution_count": 13,
   "id": "fdb561d7",
   "metadata": {},
   "outputs": [
    {
     "data": {
      "text/plain": [
       "{0: 0, 1: 1, 2: 4, 3: 9, 4: 16}"
      ]
     },
     "execution_count": 13,
     "metadata": {},
     "output_type": "execute_result"
    }
   ],
   "source": [
    "birsozluk = {x: x**2 for x in birliste} # liste elemanlarını -->key       karelerini--> Value yapar\n",
    "birsozluk\n",
    "# ÇIKTI: {0: 0, 1: 1, 2: 4, 3: 9, 4: 16}"
   ]
  },
  {
   "cell_type": "code",
   "execution_count": 11,
   "id": "2039301a",
   "metadata": {},
   "outputs": [
    {
     "data": {
      "text/plain": [
       "{0: 0, 1: 1, 2: 4, 3: 9, 4: 16}"
      ]
     },
     "execution_count": 11,
     "metadata": {},
     "output_type": "execute_result"
    }
   ],
   "source": [
    "{x: x**2 for x in [e for e in range(5)]} # hepsi tek satırda kullanım."
   ]
  },
  {
   "cell_type": "code",
   "execution_count": null,
   "id": "20165b34",
   "metadata": {},
   "outputs": [],
   "source": []
  }
 ],
 "metadata": {
  "kernelspec": {
   "display_name": "Python 3 (ipykernel)",
   "language": "python",
   "name": "python3"
  },
  "language_info": {
   "codemirror_mode": {
    "name": "ipython",
    "version": 3
   },
   "file_extension": ".py",
   "mimetype": "text/x-python",
   "name": "python",
   "nbconvert_exporter": "python",
   "pygments_lexer": "ipython3",
   "version": "3.9.7"
  }
 },
 "nbformat": 4,
 "nbformat_minor": 5
}
