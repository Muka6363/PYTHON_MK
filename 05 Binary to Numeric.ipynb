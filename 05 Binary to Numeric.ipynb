{
 "cells": [
  {
   "cell_type": "code",
   "execution_count": null,
   "id": "da605797",
   "metadata": {},
   "outputs": [],
   "source": [
    "29 Mayıs 2022"
   ]
  },
  {
   "cell_type": "raw",
   "id": "0b5dda9c",
   "metadata": {},
   "source": [
    "Write a program to convert binary to decimal.  :cherry_blossom:\n",
    "Kullanıcıdan binary bir numara girmesini isteyelim ve onu decimal sayıya convert edelim \n",
    "örn: kullanıcı 1101001 sayısını girdi çıktı : 105 olmalı"
   ]
  },
  {
   "cell_type": "code",
   "execution_count": 40,
   "id": "4fc833fe",
   "metadata": {},
   "outputs": [
    {
     "name": "stdout",
     "output_type": "stream",
     "text": [
      "Enter a binary number : 1101001\n",
      "Binary 1101001 is equal decimal 105.\n"
     ]
    }
   ],
   "source": [
    "binary = input(\"Enter a binary number : \" )\n",
    "temp = 0\n",
    "üs = 0\n",
    "decimal = 0\n",
    "\n",
    "for i in binary[::-1]:\n",
    "    temp = int(i) * (2 ** üs)\n",
    "    üs += 1\n",
    "    decimal += temp\n",
    "print(f\"Binary {binary} is equal decimal {decimal}.\")"
   ]
  },
  {
   "cell_type": "code",
   "execution_count": 5,
   "id": "05bb4fbc",
   "metadata": {},
   "outputs": [
    {
     "name": "stdout",
     "output_type": "stream",
     "text": [
      "1 ve 0'lardan oluşan bir sayı giriniz: 1010101010111\n",
      "5463\n"
     ]
    }
   ],
   "source": [
    "# F3847-Carlos (* * *)\n",
    "\n",
    "sayı=input(\"1 ve 0'lardan oluşan bir sayı giriniz: \")\n",
    "print(int(sayı,2))"
   ]
  },
  {
   "cell_type": "code",
   "execution_count": 27,
   "id": "5538a17b",
   "metadata": {},
   "outputs": [
    {
     "name": "stdout",
     "output_type": "stream",
     "text": [
      "please enter binary number1111\n",
      "15\n"
     ]
    }
   ],
   "source": [
    "# F-3789 Mihail Tal \n",
    "\n",
    "binary = input(\"please enter binary number : \")\n",
    "total = 0\n",
    "n= len(binary)\n",
    "for x in binary:\n",
    "  total = total + int(x)*2**(n-1)\n",
    "  n-=1\n",
    "print(total)"
   ]
  },
  {
   "cell_type": "code",
   "execution_count": 28,
   "id": "1ac24d58",
   "metadata": {},
   "outputs": [
    {
     "name": "stdout",
     "output_type": "stream",
     "text": [
      "Please type a number: 1111\n",
      "15\n"
     ]
    }
   ],
   "source": [
    "# F3791 - Noah\n",
    "\n",
    "number = input(\"Please type a number: \")\n",
    "counter = 0\n",
    "result = 0\n",
    "\n",
    "for i in range(len(number) -1, -1, -1):\n",
    "  \n",
    "  if number[i] == \"0\":\n",
    "    counter +=1    \n",
    "    continue  \n",
    "    \n",
    "  result += 2 ** counter\n",
    "  counter += 1\n",
    "  \n",
    "print(result)"
   ]
  },
  {
   "cell_type": "code",
   "execution_count": 37,
   "id": "1443bc33",
   "metadata": {},
   "outputs": [
    {
     "name": "stdout",
     "output_type": "stream",
     "text": [
      "Enter a binary number: 1111\n",
      "Enter a binary number: 1111\n",
      "15\n"
     ]
    }
   ],
   "source": [
    "# F3718 - Gökmen D\n",
    "\n",
    "bin_sayı = input('Enter a binary number: ')\n",
    "\n",
    "while i not in [0, 1]:\n",
    "       bin_sayı = input('Enter a binary number: ')\n",
    "       break\n",
    "\n",
    "giri = bin_sayı[::-1]\n",
    "\n",
    "a = 0 \n",
    "sum = 0\n",
    "\n",
    "for i in giri:\n",
    "    b = int(i) * (pow(2, a))\n",
    "    sum += b\n",
    "    a += 1\n",
    "\n",
    "print(sum)"
   ]
  },
  {
   "cell_type": "code",
   "execution_count": 46,
   "id": "aa4c4cf2",
   "metadata": {},
   "outputs": [
    {
     "name": "stdout",
     "output_type": "stream",
     "text": [
      "Binary sayı giriniz: 1111\n",
      "1111 in decimal form is 15.\n"
     ]
    }
   ],
   "source": [
    "# F3795 Nedim\n",
    "\n",
    "bina = int(input(\"Binary sayı giriniz: \"))\n",
    "n = len(str(bina))\n",
    "n = n-1\n",
    "count = 0\n",
    "for i in str(bina):\n",
    "    y = int(i)*(2**n)\n",
    "    count = count + y\n",
    "    n -= 1\n",
    "print(f\"{bina} in decimal form is {count}.\")"
   ]
  },
  {
   "cell_type": "code",
   "execution_count": 47,
   "id": "dec78e1d",
   "metadata": {},
   "outputs": [
    {
     "name": "stdout",
     "output_type": "stream",
     "text": [
      "Enter your a binary number: 1111\n",
      "The decimal equivalent of '1111' binary number is '15'.\n"
     ]
    }
   ],
   "source": [
    "# F3555-Zabraham\n",
    "\n",
    "bin_num = input(\"Enter your a binary number: \")\n",
    "if bin_num.isalpha():\n",
    "        print(\"Please enter you number a binary number value\")\n",
    "elif bin_num.isdigit() == True:\n",
    "    k = 0\n",
    "    dec = 0\n",
    "    for i in bin_num[::-1]:\n",
    "        dec += int(i)*(2**k)\n",
    "        k+=1\n",
    "print(f\"The decimal equivalent of '{bin_num}' binary number is '{dec}'.\")"
   ]
  },
  {
   "cell_type": "code",
   "execution_count": 49,
   "id": "22779396",
   "metadata": {},
   "outputs": [
    {
     "name": "stdout",
     "output_type": "stream",
     "text": [
      "Binary sayı girin : 1101001\n",
      "105\n"
     ]
    }
   ],
   "source": [
    "# Hasan Hoca çözümü\n",
    "\n",
    "a = input('Binary sayı girin : ')\n",
    "b = 0\n",
    "n = 1\n",
    "c = 0\n",
    "for i in a[::-1]:\n",
    "    if b <= len(a):\n",
    "        c += (int(i)*n)\n",
    "        b += 1\n",
    "        n *= 2\n",
    "print(c)"
   ]
  },
  {
   "cell_type": "code",
   "execution_count": 50,
   "id": "aebb60da",
   "metadata": {},
   "outputs": [
    {
     "name": "stdout",
     "output_type": "stream",
     "text": [
      "Enter a binary number :1101001\n",
      "Binary to decimal is 105\n"
     ]
    }
   ],
   "source": [
    "# F3768 - Fredy\n",
    "\n",
    "binary=input(\"Enter a binary number :\")\n",
    "decimal=0\n",
    "for i,j in zip(range(len(binary)),binary[::-1]):\n",
    "  decimal+=pow(2,i)*int(j)\n",
    "print(\"Binary to decimal is\",decimal)"
   ]
  }
 ],
 "metadata": {
  "kernelspec": {
   "display_name": "Python 3 (ipykernel)",
   "language": "python",
   "name": "python3"
  },
  "language_info": {
   "codemirror_mode": {
    "name": "ipython",
    "version": 3
   },
   "file_extension": ".py",
   "mimetype": "text/x-python",
   "name": "python",
   "nbconvert_exporter": "python",
   "pygments_lexer": "ipython3",
   "version": "3.9.7"
  }
 },
 "nbformat": 4,
 "nbformat_minor": 5
}
