{
 "cells": [
  {
   "cell_type": "code",
   "execution_count": null,
   "id": "aae7f117",
   "metadata": {},
   "outputs": [],
   "source": []
  },
  {
   "cell_type": "markdown",
   "id": "406f2981",
   "metadata": {},
   "source": [
    "<img src=\"https://docs.google.com/uc?id=14xeXxFrVRjvOoUYWn_GuyE-v84wVzrqr\" class=\"img-fluid\" alt=\"CLRWY\" width=\"400\" height=\"200\">"
   ]
  },
  {
   "cell_type": "markdown",
   "id": "22263af8",
   "metadata": {},
   "source": [
    "<h1><p style=\"text-align: center; color:darkblue\">Python In-Class <br>06 July 2022</p><h1>"
   ]
  },
  {
   "cell_type": "code",
   "execution_count": 2,
   "id": "8561a286",
   "metadata": {},
   "outputs": [],
   "source": [
    "import random"
   ]
  },
  {
   "cell_type": "code",
   "execution_count": null,
   "id": "1b191387",
   "metadata": {},
   "outputs": [],
   "source": [
    "random.shuffle()"
   ]
  },
  {
   "cell_type": "code",
   "execution_count": 3,
   "id": "bde93e8f",
   "metadata": {},
   "outputs": [
    {
     "data": {
      "text/plain": [
       "21"
      ]
     },
     "execution_count": 3,
     "metadata": {},
     "output_type": "execute_result"
    }
   ],
   "source": [
    "random.randint(10, 30)"
   ]
  },
  {
   "cell_type": "code",
   "execution_count": 4,
   "id": "f5795845",
   "metadata": {},
   "outputs": [
    {
     "data": {
      "text/plain": [
       "'k'"
      ]
     },
     "execution_count": 4,
     "metadata": {},
     "output_type": "execute_result"
    }
   ],
   "source": [
    "chr(107)"
   ]
  },
  {
   "cell_type": "code",
   "execution_count": 6,
   "id": "87beb917",
   "metadata": {},
   "outputs": [
    {
     "data": {
      "text/plain": [
       "'c'"
      ]
     },
     "execution_count": 6,
     "metadata": {},
     "output_type": "execute_result"
    }
   ],
   "source": [
    "chr(random.randint(97, 122)) # KÜÇÜK HARF"
   ]
  },
  {
   "cell_type": "code",
   "execution_count": 7,
   "id": "117b429d",
   "metadata": {},
   "outputs": [
    {
     "data": {
      "text/plain": [
       "'X'"
      ]
     },
     "execution_count": 7,
     "metadata": {},
     "output_type": "execute_result"
    }
   ],
   "source": [
    "chr(random.randint(65, 90))  # BÜYÜK HARF"
   ]
  },
  {
   "cell_type": "code",
   "execution_count": 8,
   "id": "94660af9",
   "metadata": {},
   "outputs": [
    {
     "data": {
      "text/plain": [
       "'3'"
      ]
     },
     "execution_count": 8,
     "metadata": {},
     "output_type": "execute_result"
    }
   ],
   "source": [
    "chr(random.randint(48, 57)) # RAKAM"
   ]
  },
  {
   "cell_type": "code",
   "execution_count": 9,
   "id": "3c9d0e7d",
   "metadata": {},
   "outputs": [
    {
     "data": {
      "text/plain": [
       "'.'"
      ]
     },
     "execution_count": 9,
     "metadata": {},
     "output_type": "execute_result"
    }
   ],
   "source": [
    "chr(random.randint(33, 47))  # ÖZEL KARAKTER1"
   ]
  },
  {
   "cell_type": "code",
   "execution_count": 5,
   "id": "3481a5fd",
   "metadata": {},
   "outputs": [
    {
     "data": {
      "text/plain": [
       "':'"
      ]
     },
     "execution_count": 5,
     "metadata": {},
     "output_type": "execute_result"
    }
   ],
   "source": [
    "chr(random.randint(58, 64))  # ÖZEL KARAKTER 2"
   ]
  },
  {
   "cell_type": "code",
   "execution_count": 6,
   "id": "b98afe1d",
   "metadata": {},
   "outputs": [
    {
     "data": {
      "text/plain": [
       "['V', 'O', 'H']"
      ]
     },
     "execution_count": 6,
     "metadata": {},
     "output_type": "execute_result"
    }
   ],
   "source": [
    "uppers = [chr(random.randint(65, 90)) for i in range(3)]\n",
    "\n",
    "uppers"
   ]
  },
  {
   "cell_type": "code",
   "execution_count": 14,
   "id": "71f04eba",
   "metadata": {},
   "outputs": [
    {
     "data": {
      "text/plain": [
       "['g', 'b', 'p']"
      ]
     },
     "execution_count": 14,
     "metadata": {},
     "output_type": "execute_result"
    }
   ],
   "source": [
    "lowers = [chr(random.randint(97, 122)) for i in range(3)]\n",
    "\n",
    "lowers"
   ]
  },
  {
   "cell_type": "code",
   "execution_count": 15,
   "id": "94835fae",
   "metadata": {},
   "outputs": [
    {
     "data": {
      "text/plain": [
       "['4', '8', '1']"
      ]
     },
     "execution_count": 15,
     "metadata": {},
     "output_type": "execute_result"
    }
   ],
   "source": [
    "numbers = [chr(random.randint(48, 57)) for i in range(3)]\n",
    "\n",
    "numbers"
   ]
  },
  {
   "cell_type": "code",
   "execution_count": 16,
   "id": "2829f50c",
   "metadata": {},
   "outputs": [
    {
     "data": {
      "text/plain": [
       "'(:'"
      ]
     },
     "execution_count": 16,
     "metadata": {},
     "output_type": "execute_result"
    }
   ],
   "source": [
    "chars = chr(random.randint(33, 47)) + chr(random.randint(58, 64))\n",
    "chars"
   ]
  },
  {
   "cell_type": "code",
   "execution_count": 17,
   "id": "12bbbe9c",
   "metadata": {},
   "outputs": [
    {
     "data": {
      "text/plain": [
       "'4-8-1'"
      ]
     },
     "execution_count": 17,
     "metadata": {},
     "output_type": "execute_result"
    }
   ],
   "source": [
    "\"-\".join(numbers)"
   ]
  },
  {
   "cell_type": "code",
   "execution_count": 18,
   "id": "57c95658",
   "metadata": {},
   "outputs": [
    {
     "data": {
      "text/plain": [
       "'481'"
      ]
     },
     "execution_count": 18,
     "metadata": {},
     "output_type": "execute_result"
    }
   ],
   "source": [
    "\"\".join(numbers)"
   ]
  },
  {
   "cell_type": "code",
   "execution_count": 19,
   "id": "4bfa1a7b",
   "metadata": {},
   "outputs": [
    {
     "data": {
      "text/plain": [
       "'EJMgbp481(:'"
      ]
     },
     "execution_count": 19,
     "metadata": {},
     "output_type": "execute_result"
    }
   ],
   "source": [
    "passw = \"\".join(uppers) + \"\".join(lowers) + \"\".join(numbers) + chars\n",
    "\n",
    "passw"
   ]
  },
  {
   "cell_type": "code",
   "execution_count": null,
   "id": "9d3ea3df",
   "metadata": {},
   "outputs": [],
   "source": [
    "random.shuffle()"
   ]
  },
  {
   "cell_type": "code",
   "execution_count": 20,
   "id": "502e2765",
   "metadata": {},
   "outputs": [
    {
     "data": {
      "text/plain": [
       "['E', 'J', 'M', 'g', 'b', 'p', '4', '8', '1', '(', ':']"
      ]
     },
     "execution_count": 20,
     "metadata": {},
     "output_type": "execute_result"
    }
   ],
   "source": [
    "pass_list = list(passw)\n",
    "pass_list"
   ]
  },
  {
   "cell_type": "code",
   "execution_count": 21,
   "id": "e8f64e31",
   "metadata": {},
   "outputs": [],
   "source": [
    "random.shuffle(pass_list)"
   ]
  },
  {
   "cell_type": "code",
   "execution_count": 22,
   "id": "f795f5db",
   "metadata": {},
   "outputs": [
    {
     "data": {
      "text/plain": [
       "['b', 'p', 'J', 'g', '(', 'E', '1', 'M', ':', '4', '8']"
      ]
     },
     "execution_count": 22,
     "metadata": {},
     "output_type": "execute_result"
    }
   ],
   "source": [
    "pass_list"
   ]
  },
  {
   "cell_type": "code",
   "execution_count": 23,
   "id": "452142f2",
   "metadata": {},
   "outputs": [
    {
     "data": {
      "text/plain": [
       "'bpJg(E1M:48'"
      ]
     },
     "execution_count": 23,
     "metadata": {},
     "output_type": "execute_result"
    }
   ],
   "source": [
    "\"\".join(pass_list)"
   ]
  },
  {
   "cell_type": "code",
   "execution_count": 24,
   "id": "5bd8d505",
   "metadata": {},
   "outputs": [],
   "source": [
    "def karıştır(password) :\n",
    "    templist = list(password)\n",
    "    random.shuffle(templist)\n",
    "    return \"\".join(templist)\n",
    "    "
   ]
  },
  {
   "cell_type": "code",
   "execution_count": 25,
   "id": "43c4839c",
   "metadata": {},
   "outputs": [
    {
     "data": {
      "text/plain": [
       "'EJMgbp481(:'"
      ]
     },
     "execution_count": 25,
     "metadata": {},
     "output_type": "execute_result"
    }
   ],
   "source": [
    "passw"
   ]
  },
  {
   "cell_type": "code",
   "execution_count": 26,
   "id": "ef1e9ec2",
   "metadata": {},
   "outputs": [
    {
     "name": "stdout",
     "output_type": "stream",
     "text": [
      "EJ4(1b8Mpg:\n"
     ]
    }
   ],
   "source": [
    "print(karıştır(passw))"
   ]
  },
  {
   "cell_type": "markdown",
   "id": "04111b3c",
   "metadata": {},
   "source": [
    "# Exceptions"
   ]
  },
  {
   "cell_type": "code",
   "execution_count": 27,
   "id": "c8122c60",
   "metadata": {},
   "outputs": [
    {
     "data": {
      "text/plain": [
       "10"
      ]
     },
     "execution_count": 27,
     "metadata": {},
     "output_type": "execute_result"
    }
   ],
   "source": [
    "int(\"10\") # ınteger deger yerıne asagıdakı gıbı str-text deger gırdısı olunca value erroru alırsınız."
   ]
  },
  {
   "cell_type": "code",
   "execution_count": 28,
   "id": "42453326",
   "metadata": {},
   "outputs": [
    {
     "ename": "ValueError",
     "evalue": "invalid literal for int() with base 10: 'on'",
     "output_type": "error",
     "traceback": [
      "\u001b[1;31m---------------------------------------------------------------------------\u001b[0m",
      "\u001b[1;31mValueError\u001b[0m                                Traceback (most recent call last)",
      "Input \u001b[1;32mIn [28]\u001b[0m, in \u001b[0;36m<cell line: 1>\u001b[1;34m()\u001b[0m\n\u001b[1;32m----> 1\u001b[0m \u001b[38;5;28;43mint\u001b[39;49m\u001b[43m(\u001b[49m\u001b[38;5;124;43m\"\u001b[39;49m\u001b[38;5;124;43mon\u001b[39;49m\u001b[38;5;124;43m\"\u001b[39;49m\u001b[43m)\u001b[49m\n",
      "\u001b[1;31mValueError\u001b[0m: invalid literal for int() with base 10: 'on'"
     ]
    }
   ],
   "source": [
    "int(\"on\")"
   ]
  },
  {
   "cell_type": "code",
   "execution_count": 7,
   "id": "9ad0feed",
   "metadata": {},
   "outputs": [],
   "source": [
    "import math"
   ]
  },
  {
   "cell_type": "code",
   "execution_count": 8,
   "id": "5e1df509",
   "metadata": {},
   "outputs": [
    {
     "data": {
      "text/plain": [
       "5.0"
      ]
     },
     "execution_count": 8,
     "metadata": {},
     "output_type": "execute_result"
    }
   ],
   "source": [
    "math.sqrt(25) # sıfır veya sıfırdan buyuk olma sartı olan sayıların karekokunu alma ıslemı. negatıf deger gırısı olursa value error alır."
   ]
  },
  {
   "cell_type": "code",
   "execution_count": 9,
   "id": "cd2aa196",
   "metadata": {},
   "outputs": [
    {
     "ename": "ValueError",
     "evalue": "math domain error",
     "output_type": "error",
     "traceback": [
      "\u001b[1;31m---------------------------------------------------------------------------\u001b[0m",
      "\u001b[1;31mValueError\u001b[0m                                Traceback (most recent call last)",
      "\u001b[1;32mc:\\Users\\User\\Downloads\\PythonPlus8_session21_July6th22_Exceptions, Exception Handling, Task Solutions.ipynb Hücre 32\u001b[0m in \u001b[0;36m<module>\u001b[1;34m\u001b[0m\n\u001b[1;32m----> <a href='vscode-notebook-cell:/c%3A/Users/User/Downloads/PythonPlus8_session21_July6th22_Exceptions%2C%20Exception%20Handling%2C%20Task%20Solutions.ipynb#ch0000031?line=0'>1</a>\u001b[0m math\u001b[39m.\u001b[39;49msqrt(\u001b[39m-\u001b[39;49m\u001b[39m25\u001b[39;49m)\n",
      "\u001b[1;31mValueError\u001b[0m: math domain error"
     ]
    }
   ],
   "source": [
    "math.sqrt(-25)"
   ]
  },
  {
   "cell_type": "code",
   "execution_count": 32,
   "id": "78f56a84",
   "metadata": {},
   "outputs": [
    {
     "data": {
      "text/plain": [
       "24"
      ]
     },
     "execution_count": 32,
     "metadata": {},
     "output_type": "execute_result"
    }
   ],
   "source": [
    "math.factorial(4)"
   ]
  },
  {
   "cell_type": "code",
   "execution_count": 33,
   "id": "8c00f9ba",
   "metadata": {},
   "outputs": [
    {
     "ename": "ValueError",
     "evalue": "factorial() not defined for negative values",
     "output_type": "error",
     "traceback": [
      "\u001b[1;31m---------------------------------------------------------------------------\u001b[0m",
      "\u001b[1;31mValueError\u001b[0m                                Traceback (most recent call last)",
      "Input \u001b[1;32mIn [33]\u001b[0m, in \u001b[0;36m<cell line: 1>\u001b[1;34m()\u001b[0m\n\u001b[1;32m----> 1\u001b[0m \u001b[43mmath\u001b[49m\u001b[38;5;241;43m.\u001b[39;49m\u001b[43mfactorial\u001b[49m\u001b[43m(\u001b[49m\u001b[38;5;241;43m-\u001b[39;49m\u001b[38;5;241;43m4\u001b[39;49m\u001b[43m)\u001b[49m\n",
      "\u001b[1;31mValueError\u001b[0m: factorial() not defined for negative values"
     ]
    }
   ],
   "source": [
    "math.factorial(-4)"
   ]
  },
  {
   "cell_type": "code",
   "execution_count": 34,
   "id": "c2a3d703",
   "metadata": {},
   "outputs": [
    {
     "data": {
      "text/plain": [
       "6.907755278982137"
      ]
     },
     "execution_count": 34,
     "metadata": {},
     "output_type": "execute_result"
    }
   ],
   "source": [
    "math.log(1000)"
   ]
  },
  {
   "cell_type": "code",
   "execution_count": 35,
   "id": "caceb994",
   "metadata": {},
   "outputs": [
    {
     "ename": "ValueError",
     "evalue": "math domain error",
     "output_type": "error",
     "traceback": [
      "\u001b[1;31m---------------------------------------------------------------------------\u001b[0m",
      "\u001b[1;31mValueError\u001b[0m                                Traceback (most recent call last)",
      "Input \u001b[1;32mIn [35]\u001b[0m, in \u001b[0;36m<cell line: 1>\u001b[1;34m()\u001b[0m\n\u001b[1;32m----> 1\u001b[0m \u001b[43mmath\u001b[49m\u001b[38;5;241;43m.\u001b[39;49m\u001b[43mlog\u001b[49m\u001b[43m(\u001b[49m\u001b[38;5;241;43m-\u001b[39;49m\u001b[38;5;241;43m10\u001b[39;49m\u001b[43m)\u001b[49m\n",
      "\u001b[1;31mValueError\u001b[0m: math domain error"
     ]
    }
   ],
   "source": [
    "math.log(-10)"
   ]
  },
  {
   "cell_type": "code",
   "execution_count": 36,
   "id": "af3febaa",
   "metadata": {},
   "outputs": [
    {
     "ename": "TypeError",
     "evalue": "can only concatenate str (not \"int\") to str",
     "output_type": "error",
     "traceback": [
      "\u001b[1;31m---------------------------------------------------------------------------\u001b[0m",
      "\u001b[1;31mTypeError\u001b[0m                                 Traceback (most recent call last)",
      "Input \u001b[1;32mIn [36]\u001b[0m, in \u001b[0;36m<cell line: 1>\u001b[1;34m()\u001b[0m\n\u001b[1;32m----> 1\u001b[0m \u001b[38;5;28mprint\u001b[39m(\u001b[38;5;124;43m\"\u001b[39;49m\u001b[38;5;124;43m5\u001b[39;49m\u001b[38;5;124;43m\"\u001b[39;49m\u001b[43m \u001b[49m\u001b[38;5;241;43m+\u001b[39;49m\u001b[43m \u001b[49m\u001b[38;5;241;43m5\u001b[39;49m)\n",
      "\u001b[1;31mTypeError\u001b[0m: can only concatenate str (not \"int\") to str"
     ]
    }
   ],
   "source": [
    "print(\"5\" + 5)\n",
    "# beklenen tur ıle gırılen tur farklı olması halınde type Error alınır...\n",
    "# ınt + str toplanamaz."
   ]
  },
  {
   "cell_type": "code",
   "execution_count": 37,
   "id": "05675c6a",
   "metadata": {},
   "outputs": [
    {
     "ename": "TypeError",
     "evalue": "'str' object cannot be interpreted as an integer",
     "output_type": "error",
     "traceback": [
      "\u001b[1;31m---------------------------------------------------------------------------\u001b[0m",
      "\u001b[1;31mTypeError\u001b[0m                                 Traceback (most recent call last)",
      "Input \u001b[1;32mIn [37]\u001b[0m, in \u001b[0;36m<cell line: 1>\u001b[1;34m()\u001b[0m\n\u001b[1;32m----> 1\u001b[0m \u001b[43mmath\u001b[49m\u001b[38;5;241;43m.\u001b[39;49m\u001b[43mfactorial\u001b[49m\u001b[43m(\u001b[49m\u001b[38;5;124;43m\"\u001b[39;49m\u001b[38;5;124;43m5\u001b[39;49m\u001b[38;5;124;43m\"\u001b[39;49m\u001b[43m)\u001b[49m\n",
      "\u001b[1;31mTypeError\u001b[0m: 'str' object cannot be interpreted as an integer"
     ]
    }
   ],
   "source": [
    "math.factorial(\"5\") # ınt beklenen yere str deger gırısı olmus... TypeError..."
   ]
  },
  {
   "cell_type": "markdown",
   "id": "e4d4f35d",
   "metadata": {},
   "source": [
    "# Exception Handling"
   ]
  },
  {
   "cell_type": "code",
   "execution_count": 13,
   "id": "2195f57e",
   "metadata": {},
   "outputs": [
    {
     "ename": "SyntaxError",
     "evalue": "'(' was never closed (711780969.py, line 4)",
     "output_type": "error",
     "traceback": [
      "\u001b[1;36m  Input \u001b[1;32mIn [13]\u001b[1;36m\u001b[0m\n\u001b[1;33m    print(\"hello world\"\u001b[0m\n\u001b[1;37m         ^\u001b[0m\n\u001b[1;31mSyntaxError\u001b[0m\u001b[1;31m:\u001b[0m '(' was never closed\n"
     ]
    }
   ],
   "source": [
    "print(\"hello world\")\n",
    "print(\"hello world\")\n",
    "print(\"hello world\")\n",
    "print(\"hello world\"\n",
    "print(\"hello world\")\n",
    "2/0\n",
    "print(\"hello world\")\n",
    "print(\"hello world\")\n",
    "print(\"hello world\")\n",
    "print(\"hello world\")\n",
    "print(\"hello world\")"
   ]
  },
  {
   "cell_type": "code",
   "execution_count": 40,
   "id": "a4d8abc6",
   "metadata": {},
   "outputs": [
    {
     "ename": "SyntaxError",
     "evalue": "unexpected EOF while parsing (3988315941.py, line 2)",
     "output_type": "error",
     "traceback": [
      "\u001b[1;36m  Input \u001b[1;32mIn [40]\u001b[1;36m\u001b[0m\n\u001b[1;33m    print(hello\u001b[0m\n\u001b[1;37m               ^\u001b[0m\n\u001b[1;31mSyntaxError\u001b[0m\u001b[1;31m:\u001b[0m unexpected EOF while parsing\n"
     ]
    }
   ],
   "source": [
    "print(\"hello\")\n",
    "print(hello\n",
    "# soz dızımı hataları dedıgımız syntaxerror larda kodun hıc bır yerı calısmaz.hata verır..."
   ]
  },
  {
   "cell_type": "code",
   "execution_count": 14,
   "id": "d62f551a",
   "metadata": {},
   "outputs": [
    {
     "name": "stdout",
     "output_type": "stream",
     "text": [
      "hello\n"
     ]
    },
    {
     "ename": "NameError",
     "evalue": "name 'hello' is not defined",
     "output_type": "error",
     "traceback": [
      "\u001b[1;31m---------------------------------------------------------------------------\u001b[0m",
      "\u001b[1;31mNameError\u001b[0m                                 Traceback (most recent call last)",
      "\u001b[1;32mc:\\Users\\User\\Downloads\\PythonPlus8_session21_July6th22_Exceptions, Exception Handling, Task Solutions.ipynb Hücre 42\u001b[0m in \u001b[0;36m<module>\u001b[1;34m\u001b[0m\n\u001b[0;32m      <a href='vscode-notebook-cell:/c%3A/Users/User/Downloads/PythonPlus8_session21_July6th22_Exceptions%2C%20Exception%20Handling%2C%20Task%20Solutions.ipynb#ch0000041?line=0'>1</a>\u001b[0m \u001b[39mprint\u001b[39m(\u001b[39m\"\u001b[39m\u001b[39mhello\u001b[39m\u001b[39m\"\u001b[39m)\n\u001b[1;32m----> <a href='vscode-notebook-cell:/c%3A/Users/User/Downloads/PythonPlus8_session21_July6th22_Exceptions%2C%20Exception%20Handling%2C%20Task%20Solutions.ipynb#ch0000041?line=1'>2</a>\u001b[0m \u001b[39mprint\u001b[39m(hello)\n",
      "\u001b[1;31mNameError\u001b[0m: name 'hello' is not defined"
     ]
    }
   ],
   "source": [
    "print(\"hello\")\n",
    "print(hello)\n",
    "# name error da sadece o kod kısmı ve devamı calısmaz. oncesınde sıkıntı yokç calısırız."
   ]
  },
  {
   "cell_type": "code",
   "execution_count": 2,
   "id": "7a386984",
   "metadata": {},
   "outputs": [],
   "source": [
    "while True:\n",
    "    no_one = int(input(\"The first number please : \"))\n",
    "    no_two = int(input(\"The second number please : \"))\n",
    "    division = no_one / no_two\n",
    "    print(\"The result of the division is : \", division)\n",
    "    break\n",
    "# burada 2 sayı alınıp bolum ıslemı yapmaya calısılıyor. ancak bolum kısmı \"0\" gırıldıgınde\n",
    "# bolum sonucu tanımsız hale gelıyor. bu da ZeroDıvısıonError hatasını verır.\n"
   ]
  },
  {
   "cell_type": "code",
   "execution_count": 4,
   "id": "8f3615ab",
   "metadata": {},
   "outputs": [],
   "source": [
    "while True :\n",
    "    no_one = int(input(\"the first number please :\"))\n",
    "    no_two = int(input(\"the second number please :\"))\n",
    "    try : # bunun ıcıne, olası hata verebılecek kodumuzu yazıyoruz. eger hata yoksa alt blok komple calısacak. break ıle whıle looptan cıkacak\n",
    "        division = no_one / no_two\n",
    "        print(\"the result of the division is : \", division)\n",
    "        break\n",
    "    except : # try bolumunde bulunan kod blogunda herhangı bır hata-error olması halınde bu kısma gecılır. buranın ıcındekı blok calısır. \n",
    "        print(\"something went wrong...Try again.\")\n",
    "        break"
   ]
  },
  {
   "cell_type": "code",
   "execution_count": 2,
   "id": "b3ffe583",
   "metadata": {},
   "outputs": [
    {
     "name": "stdout",
     "output_type": "stream",
     "text": [
      "bende sıkıntı yokmuş demek ki bak çalıştım.\n"
     ]
    }
   ],
   "source": [
    "try : \n",
    "    x = 2/3\n",
    "    print(\"bende sıkıntı yokmuş demek ki bak çalıştım.\")\n",
    "\n",
    "except :\n",
    "    print(\"bir şeyler ters gitti.\")\n",
    "    "
   ]
  },
  {
   "cell_type": "code",
   "execution_count": 45,
   "id": "010802d2",
   "metadata": {},
   "outputs": [
    {
     "name": "stdout",
     "output_type": "stream",
     "text": [
      "ben birinci kod satırıyım.\n",
      "bir şeyler ters gitti.\n"
     ]
    }
   ],
   "source": [
    "try : \n",
    "    print(\"ben birinci kod satırıyım.\")\n",
    "    x = 2/0\n",
    "    print(\"bende sıkıntı yokmuş demek ki bak çalıştım.\")\n",
    "\n",
    "except :\n",
    "    print(\"bir şeyler ters gitti.\")"
   ]
  },
  {
   "cell_type": "code",
   "execution_count": 3,
   "id": "c6344b9f",
   "metadata": {},
   "outputs": [
    {
     "name": "stdout",
     "output_type": "stream",
     "text": [
      "a\n",
      "b\n",
      "1.0\n"
     ]
    }
   ],
   "source": [
    "try : \n",
    "    print(\"a\")\n",
    "    x = 2/2\n",
    "    print(\"b\")\n",
    "    print(x)\n",
    "\n",
    "except :\n",
    "    print(\"c\")"
   ]
  },
  {
   "cell_type": "code",
   "execution_count": 4,
   "id": "05e9a157",
   "metadata": {},
   "outputs": [
    {
     "name": "stdout",
     "output_type": "stream",
     "text": [
      "a\n",
      "b\n",
      "1.0\n",
      "ben try except bloğunun altındaki satırım.\n"
     ]
    }
   ],
   "source": [
    "try : \n",
    "    print(\"a\")\n",
    "    x = 2/2\n",
    "    print(\"b\")\n",
    "    print(x)\n",
    "\n",
    "except :\n",
    "    print(\"c\")\n",
    "    \n",
    "print(\"ben try except bloğunun altındaki satırım.\")"
   ]
  },
  {
   "cell_type": "markdown",
   "metadata": {},
   "source": [
    "try(Errorsuz)-----else-----fınally\n",
    "try(Error)-----except-----fınally\n",
    "\n",
    "-- except yanına bırsey yazılmazsa yanı, ozel bır exceptıon turu yazılmadıgı yazamn, try altında gerceklesen her turlu error ıcın \n",
    "   bu except kısmında yer alan blok calısacak...\n",
    "\n",
    "DIKKAT: Ancak ozel bır (except TypeError-NameError-ValueError vs.) except tanımlanmıssa o zaman try altındakı kod blogunda sadece\n",
    "   bu belırtılen except meydana gelırse bu except  blogundakı kod calısır. \n",
    "\n",
    "   1. <try'de except var--dırekt except kısmına gıdılır ve excepte gıdıldıgı ıcın \"else\" kısmı gecılır. buraya gıremez. ancak except kısmına gırıldıgınde exceptte ozel bır error tanımlandıgı gorulur. bu tanımlanan except cınsınde bır errorumuz yoksa ve \"else\" kısmına da gırılemedıgı ıcın de dırekt \"fınally\" kısmına gecılır>\n",
    "   2. <bırden cok except tanımlana bılır ayrı ayrı ozel olarak. bunların hepsı tek tek kontrol edılır. hangısınde var olan except tespıt edılırse artık oradan sonraya bakılmaz ve varsa \"finally\" kısmına gecılır.>\n",
    "   3. UNUTMA <sadece try-except varsa her ıkısının bıtımıne \"break\">\n",
    "             <try-except-else varsa ya \"try-except\" ya da \"try-else\" calısacagı ıcın \"except (bırden fazla varsa hepsının) ve else\" bıtımıne \"break\">\n",
    "             <try-except-else-finally varsa, sadece \"finally\" bıtımıne \"break\">\n",
    "   yazılmalıdır. aksı takdırde dongu sonsuzluga dogru yol alır.\n",
    "   4. ... \n",
    "      except Exception as _errora verecegımız ozel ısım_ :\n",
    "        print(\"The exception that raised is :\", _errora verecegımız ozel ısım_ )\n",
    "        break\n",
    "   komutuyla try de olusacak exceptıon a kendı tanımladıgımız bır ısım verebılırız. prınte de yazarsak sonucta cıkartabılırız.\n",
    "   5.       except NameError : # sadece bır tane de belırtılebılır\n",
    "               ...\n",
    "            except (ValueError, TypeError): # parantezde bırden cok da belırtılebılır\n",
    "               ...\n"
   ]
  },
  {
   "cell_type": "code",
   "execution_count": 5,
   "id": "f8adb4ed",
   "metadata": {},
   "outputs": [
    {
     "name": "stdout",
     "output_type": "stream",
     "text": [
      "the result of the division is :  5.0\n"
     ]
    }
   ],
   "source": [
    "while True :\n",
    "    no_one = int(input(\"the first number please :\"))\n",
    "    no_two = int(input(\"the second number please :\"))\n",
    "    \n",
    "    try :\n",
    "        division = no_one / no_two\n",
    "        print(\"the result of the division is : \", division)\n",
    "        break\n",
    "        \n",
    "    except :\n",
    "        print(\"something went wrong...Try again.\")\n",
    "        break"
   ]
  },
  {
   "cell_type": "code",
   "execution_count": 6,
   "id": "29c79012",
   "metadata": {},
   "outputs": [
    {
     "name": "stdout",
     "output_type": "stream",
     "text": [
      "You can't divide by zero!...Try again.\n",
      "thanks for using our mini divison calculator. come again!\n"
     ]
    }
   ],
   "source": [
    "while True :\n",
    "    no_one = int(input(\"the first number please :\"))   # burada dıkkat edınız. ınputlar try den once yazılmıs. ona dahıl degıl.yanı, \n",
    "    no_two = int(input(\"the second number please :\"))  # tyr-except-else-fınally konseptı buradakı hatalar ıcın ıslemeyecektır.\n",
    "    \n",
    "    try :                                               # bu kod blogu hatasız calısırsa:--->else--->finally sıralamasıyla calısacak\n",
    "        division = no_one / no_two                      # bu kod blogunda hata cıkarsa:--->except--->finally sıralamasıyla calısacak\n",
    "                                                        \n",
    "    except ZeroDivisionError:\n",
    "        print(\"You can't divide by zero!...Try again.\")\n",
    "\n",
    "    else :\n",
    "        print(\"the result of the division is : \", division)\n",
    "\n",
    "    finally :\n",
    "        print(\"thanks for using our mini divison calculator. come again!\")\n",
    "        break"
   ]
  },
  {
   "cell_type": "code",
   "execution_count": 1,
   "id": "6e950c91",
   "metadata": {},
   "outputs": [
    {
     "name": "stdout",
     "output_type": "stream",
     "text": [
      "the first number please :5\n",
      "the second number please :beş\n",
      "thanks for using our mini divison calculator. come again!\n"
     ]
    }
   ],
   "source": [
    "while True :\n",
    "    \n",
    "    try :\n",
    "        no_one = int(input(\"the first number please :\"))\n",
    "        no_two = int(input(\"the second number please :\"))\n",
    "        division = no_one / no_two\n",
    "\n",
    "    except ZeroDivisionError:\n",
    "        print(\"You can't divide by zero!...Try again.\")\n",
    "\n",
    "    else :\n",
    "        print(\"the result of the division is : \", division)\n",
    "\n",
    "    finally :\n",
    "        print(\"thanks for using our mini divison calculator. come again!\")\n",
    "        break"
   ]
  },
  {
   "cell_type": "code",
   "execution_count": 2,
   "id": "e33885ee",
   "metadata": {},
   "outputs": [
    {
     "name": "stdout",
     "output_type": "stream",
     "text": [
      "the first number please :5\n",
      "the second number please :0\n",
      "The exception that raised is : division by zero\n"
     ]
    }
   ],
   "source": [
    "while True :\n",
    "    no_one = int(input(\"the first number please :\"))\n",
    "    no_two = int(input(\"the second number please :\"))\n",
    "    \n",
    "    try :\n",
    "        division = no_one / no_two\n",
    "        print(\"the result of the division is : \", division)\n",
    "        break\n",
    "        \n",
    "    except Exception as dıgıdık :\n",
    "        print(\"The exception that raised is :\", dıgıdık)\n",
    "        break"
   ]
  },
  {
   "cell_type": "code",
   "execution_count": 3,
   "id": "6b6cb05d",
   "metadata": {},
   "outputs": [
    {
     "name": "stdout",
     "output_type": "stream",
     "text": [
      "the first number please :5\n",
      "the second number please :beş\n",
      "The exception that raised is : invalid literal for int() with base 10: 'beş'\n"
     ]
    }
   ],
   "source": [
    "while True :\n",
    "    \n",
    "    \n",
    "    try :\n",
    "        no_one = int(input(\"the first number please :\"))\n",
    "        no_two = int(input(\"the second number please :\"))\n",
    "        division = no_one / no_two\n",
    "        print(\"the result of the division is : \", division)\n",
    "        break\n",
    "        \n",
    "    except Exception as dıgıdık :\n",
    "        print(\"The exception that raised is :\", dıgıdık)\n",
    "        break"
   ]
  },
  {
   "cell_type": "code",
   "execution_count": 4,
   "id": "59359322",
   "metadata": {},
   "outputs": [
    {
     "ename": "NameError",
     "evalue": "name 'dıgıdık' is not defined",
     "output_type": "error",
     "traceback": [
      "\u001b[1;31m---------------------------------------------------------------------------\u001b[0m",
      "\u001b[1;31mNameError\u001b[0m                                 Traceback (most recent call last)",
      "Input \u001b[1;32mIn [4]\u001b[0m, in \u001b[0;36m<cell line: 1>\u001b[1;34m()\u001b[0m\n\u001b[1;32m----> 1\u001b[0m \u001b[43mdıgıdık\u001b[49m\n",
      "\u001b[1;31mNameError\u001b[0m: name 'dıgıdık' is not defined"
     ]
    }
   ],
   "source": [
    "dıgıdık"
   ]
  },
  {
   "cell_type": "code",
   "execution_count": 6,
   "id": "092d5a09",
   "metadata": {},
   "outputs": [
    {
     "name": "stdout",
     "output_type": "stream",
     "text": [
      "something else went wrong\n"
     ]
    }
   ],
   "source": [
    "try :\n",
    "    x\n",
    "    \n",
    "except ZeroDivisionError :\n",
    "    print(\"You are trying to divide by zero\")\n",
    "except :\n",
    "    print(\"something else went wrong\")"
   ]
  },
  {
   "cell_type": "code",
   "execution_count": 7,
   "id": "7a8808cd",
   "metadata": {},
   "outputs": [
    {
     "name": "stdout",
     "output_type": "stream",
     "text": [
      "You are trying to divide by zero\n"
     ]
    }
   ],
   "source": [
    "try :\n",
    "    x = 2/0\n",
    "    \n",
    "except ZeroDivisionError :\n",
    "    print(\"You are trying to divide by zero\")\n",
    "except :\n",
    "    print(\"something else went wrong\")"
   ]
  },
  {
   "cell_type": "code",
   "execution_count": 7,
   "id": "a282496f",
   "metadata": {},
   "outputs": [
    {
     "name": "stdout",
     "output_type": "stream",
     "text": [
      "the wrong is related to name error\n"
     ]
    }
   ],
   "source": [
    "try :\n",
    "    x\n",
    "    \n",
    "except ZeroDivisionError :\n",
    "    print(\"You are trying to divide by zero\")\n",
    "except NameError :\n",
    "    print(\"the wrong is related to name error\")\n",
    "except :\n",
    "    print(\"something else went wrong\")"
   ]
  },
  {
   "cell_type": "code",
   "execution_count": 8,
   "id": "7747bdcd",
   "metadata": {},
   "outputs": [
    {
     "ename": "ValueError",
     "evalue": "invalid literal for int() with base 10: 'on'",
     "output_type": "error",
     "traceback": [
      "\u001b[1;31m---------------------------------------------------------------------------\u001b[0m",
      "\u001b[1;31mValueError\u001b[0m                                Traceback (most recent call last)",
      "Input \u001b[1;32mIn [8]\u001b[0m, in \u001b[0;36m<cell line: 1>\u001b[1;34m()\u001b[0m\n\u001b[1;32m----> 1\u001b[0m \u001b[38;5;28;43mint\u001b[39;49m\u001b[43m(\u001b[49m\u001b[38;5;124;43m\"\u001b[39;49m\u001b[38;5;124;43mon\u001b[39;49m\u001b[38;5;124;43m\"\u001b[39;49m\u001b[43m)\u001b[49m\n",
      "\u001b[1;31mValueError\u001b[0m: invalid literal for int() with base 10: 'on'"
     ]
    }
   ],
   "source": [
    "int(\"on\")"
   ]
  },
  {
   "cell_type": "code",
   "execution_count": 9,
   "id": "a30f952c",
   "metadata": {},
   "outputs": [
    {
     "name": "stdout",
     "output_type": "stream",
     "text": [
      "something else went wrong\n"
     ]
    }
   ],
   "source": [
    "try :\n",
    "    int(\"on\")\n",
    "    \n",
    "except ZeroDivisionError :\n",
    "    print(\"You are trying to divide by zero\")\n",
    "except NameError :\n",
    "    print(\"the wrong is related to name error\")\n",
    "except :\n",
    "    print(\"something else went wrong\")"
   ]
  },
  {
   "cell_type": "code",
   "execution_count": 14,
   "id": "6214e4c4",
   "metadata": {},
   "outputs": [
    {
     "name": "stdout",
     "output_type": "stream",
     "text": [
      "the wrong is related to value or type error\n"
     ]
    }
   ],
   "source": [
    "try :\n",
    "    int(\"on\")\n",
    "    \n",
    "except ZeroDivisionError :\n",
    "    print(\"You are trying to divide by zero\")\n",
    "except NameError :\n",
    "    print(\"the wrong is related to name error\")\n",
    "except (ValueError, TypeError):\n",
    "    print(\"the wrong is related to value or type error\")\n",
    "except :\n",
    "    print(\"something else went wrong\")"
   ]
  },
  {
   "cell_type": "code",
   "execution_count": 14,
   "id": "58187c62",
   "metadata": {},
   "outputs": [
    {
     "name": "stdout",
     "output_type": "stream",
     "text": [
      "You are trying to divide by zero\n"
     ]
    }
   ],
   "source": [
    "try :\n",
    "    4 /0\n",
    "    \n",
    "except ArithmeticError :                        # ArithmeticError : OverFlowError-ZeroDivisionError-FloatingPointError cesıtlerın hepsını kapsar. \n",
    "    print(\"You are trying to divide by zero\")   # sayısal hesaplamalar sırasında cıkan errorlardır.\n",
    "except NameError :\n",
    "    print(\"the wrong is related to name error\")\n",
    "except (ValueError, TypeError):\n",
    "    print(\"the wrong is related to value or type error\")\n",
    "except :\n",
    "    print(\"something else went wrong\")"
   ]
  },
  {
   "cell_type": "code",
   "execution_count": 15,
   "id": "40615368",
   "metadata": {},
   "outputs": [
    {
     "name": "stdout",
     "output_type": "stream",
     "text": [
      "the wrong is related to value or type error\n"
     ]
    }
   ],
   "source": [
    "try :\n",
    "    4 + \"4\"\n",
    "    \n",
    "except ZeroDivisionError :\n",
    "    print(\"You are trying to divide by zero\")\n",
    "except NameError :\n",
    "    print(\"the wrong is related to name error\")\n",
    "except (ValueError, TypeError):\n",
    "    print(\"the wrong is related to value or type error\")\n",
    "except :\n",
    "    print(\"something else went wrong\")"
   ]
  },
  {
   "cell_type": "code",
   "execution_count": null,
   "id": "30a4485b",
   "metadata": {},
   "outputs": [],
   "source": []
  },
  {
   "cell_type": "code",
   "execution_count": 15,
   "id": "fd36ccfc",
   "metadata": {},
   "outputs": [],
   "source": [
    "fruits = [\"banana\", \"mango\", \"pear\", \"apple\", \"kiwi\", \"grape\"]"
   ]
  },
  {
   "cell_type": "code",
   "execution_count": 16,
   "id": "f43bc94d",
   "metadata": {},
   "outputs": [
    {
     "name": "stdout",
     "output_type": "stream",
     "text": [
      "pick an index number :9\n",
      "there is no such an index. Try again!\n",
      "pick an index number :8\n",
      "there is no such an index. Try again!\n",
      "pick an index number :beş\n",
      "you should enter integer. Try again!\n",
      "pick an index number :2\n",
      "your favorite fruit is pear\n"
     ]
    }
   ],
   "source": [
    "while True :\n",
    "    try :\n",
    "        index = int(input(\"pick an index number :\"))\n",
    "        print(\"your favorite fruit is\", fruits[index])\n",
    "        break\n",
    "    except IndexError :\n",
    "        print(\"there is no such an index. Try again!\")\n",
    "        \n",
    "    except ValueError :\n",
    "        print(\"you should enter integer. Try again!\")"
   ]
  },
  {
   "cell_type": "code",
   "execution_count": null,
   "id": "56c6a8f9",
   "metadata": {},
   "outputs": [],
   "source": []
  },
  {
   "cell_type": "code",
   "execution_count": null,
   "id": "fcd8ce5b",
   "metadata": {},
   "outputs": [],
   "source": []
  }
 ],
 "metadata": {
  "kernelspec": {
   "display_name": "Python 3.10.4 64-bit",
   "language": "python",
   "name": "python3"
  },
  "language_info": {
   "codemirror_mode": {
    "name": "ipython",
    "version": 3
   },
   "file_extension": ".py",
   "mimetype": "text/x-python",
   "name": "python",
   "nbconvert_exporter": "python",
   "pygments_lexer": "ipython3",
   "version": "3.10.4"
  },
  "vscode": {
   "interpreter": {
    "hash": "afb734500600fd355917ca529030176ea0ca205570884b88f2f6f7d791fd3fbe"
   }
  }
 },
 "nbformat": 4,
 "nbformat_minor": 5
}
