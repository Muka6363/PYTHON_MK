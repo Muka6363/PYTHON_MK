{
  "nbformat": 4,
  "nbformat_minor": 0,
  "metadata": {
    "colab": {
      "name": "Nesne Tabanlı Progr.ipynb",
      "provenance": [],
      "authorship_tag": "ABX9TyML6ceo33TedN0+/Nu2TANO",
      "include_colab_link": true
    },
    "kernelspec": {
      "name": "python3",
      "display_name": "Python 3"
    },
    "language_info": {
      "name": "python"
    }
  },
  "cells": [
    {
      "cell_type": "markdown",
      "metadata": {
        "id": "view-in-github",
        "colab_type": "text"
      },
      "source": [
        "<a href=\"https://colab.research.google.com/github/Muka6363/PYTHON_MK/blob/main/Nesne_Tabanl%C4%B1_Progr.ipynb\" target=\"_parent\"><img src=\"https://colab.research.google.com/assets/colab-badge.svg\" alt=\"Open In Colab\"/></a>"
      ]
    },
    {
      "cell_type": "code",
      "execution_count": 3,
      "metadata": {
        "colab": {
          "base_uri": "https://localhost:8080/"
        },
        "id": "P92LxGJlJsqU",
        "outputId": "9a8ef31f-805a-499e-d771-5c6b8f249f31"
      },
      "outputs": [
        {
          "output_type": "stream",
          "name": "stdout",
          "text": [
            " __init__ fonksıyonu calısıyor\n",
            "alı velı 20\n",
            " __init__ fonksıyonu calısıyor\n",
            "kemol delo 80\n"
          ]
        }
      ],
      "source": [
        "class calısan :\n",
        "  def __init__(self, name, surname, age):\n",
        "     self.name = name\n",
        "     self.surname = surname\n",
        "     self.age = age\n",
        "     print(\" __init__ fonksıyonu calısıyor\")\n",
        "personel1 = calısan(\"alı\", \"velı\", 20)\n",
        "print(personel1.name, personel1.surname, personel1.age)\n",
        "\n",
        "personel2 = calısan(\"kemol\", \"delo\", 80)\n",
        "print(personel2.name, personel2.surname, personel2.age)"
      ]
    },
    {
      "cell_type": "code",
      "source": [
        "class calısan :\n",
        "  def __init__(self, name, surname, age):\n",
        "     self.name = name\n",
        "     self.surname = surname\n",
        "     self.age = age\n",
        "  def info(self):\n",
        "    print(f\"adı :{self.name}, soyadı:{self.surname}, yası: {self.age}\")\n",
        "\n",
        "personel1 = calısan(\"alı\", \"velı\", 20)\n",
        "print(personel1.name, personel1.surname, personel1.age)\n",
        "\n",
        "personel2 = calısan(\"kemol\", \"delo\", 80)\n",
        "print(personel2.name, personel2.surname, personel2.age)\n",
        "\n",
        "personel1.info()\n",
        "personel2.info()\n",
        "  "
      ],
      "metadata": {
        "colab": {
          "base_uri": "https://localhost:8080/"
        },
        "id": "B6k0g6PHLjkT",
        "outputId": "0cbd4836-e0d0-48bd-ffbd-2aa1eb3b715e"
      },
      "execution_count": 9,
      "outputs": [
        {
          "output_type": "stream",
          "name": "stdout",
          "text": [
            "alı velı 20\n",
            "kemol delo 80\n",
            "adı :alı, soyadı:velı, yası: 20\n",
            "adı :kemol, soyadı:delo, yası: 80\n"
          ]
        }
      ]
    },
    {
      "cell_type": "code",
      "source": [
        "class calısan :\n",
        "  def __init__(self, name=\"girilmedi\", surname=\"girilmedi\", age= \"-\"): #self mutlaka yazılmalı... dıger tum parametreler bu sekılde de ekstra dgeısken tanımlanarak da yazılabılır\n",
        "     self.name = name\n",
        "     self.surname = surname\n",
        "     self.age = age\n",
        "  def info(self):\n",
        "    print(f\"adı : {self.name}, soyadı: {self.surname}, yası: {self.age}\")\n",
        "\n",
        "personel1 = calısan(\"alı\", \"velı\", 20) # hepsını gırersenız sorunsuz cıktı verır\n",
        "personel1.info()\n",
        "personel1 = calısan(\"alı\", \"velı\")  # en sonuncusunu gırmezsenız yukarıdakı tanımlanan cıktı verır\n",
        "personel1.info()\n",
        "personel1 = calısan(\"alı\", 20)   #aradakı bırını yazmayacaksanız, devamında gırdıgınızı tanımlamanız gerekır, yoksa sırasıyla atandıgı ıcın yanlıs olacaktır\n",
        "personel1.info()\n",
        "personel1 = calısan(\"alı\", age=20)    # bunun gıbı gırmek zarondasınız\n",
        "personel1.info()\n",
        "personel1 = calısan(age=20)    # tanımlanmayan yerıne parametredekı dger yazılır. atama yoluyla arguman yazarsanız sırası bıle onemlı degıldır.\n",
        "personel1.info()\n",
        "personel1 = calısan( age = 20, name=\"alı\", surname=\"velı\") # sıralama onemlı degıl demıstık yukarıda :))\n",
        "personel1.info()\n"
      ],
      "metadata": {
        "colab": {
          "base_uri": "https://localhost:8080/"
        },
        "id": "uB7xl24sMrNT",
        "outputId": "202bfe93-d0d5-48e5-d003-cc8ebc6aaf71"
      },
      "execution_count": 21,
      "outputs": [
        {
          "output_type": "stream",
          "name": "stdout",
          "text": [
            "adı : alı, soyadı: velı, yası: 20\n",
            "adı : alı, soyadı: velı, yası: -\n",
            "adı : alı, soyadı: 20, yası: -\n",
            "adı : alı, soyadı: girilmedi, yası: 20\n",
            "adı : girilmedi, soyadı: girilmedi, yası: 20\n",
            "adı : alı, soyadı: velı, yası: 20\n"
          ]
        }
      ]
    },
    {
      "cell_type": "code",
      "source": [
        ""
      ],
      "metadata": {
        "id": "cIf1NzrPQIQM"
      },
      "execution_count": null,
      "outputs": []
    }
  ]
}