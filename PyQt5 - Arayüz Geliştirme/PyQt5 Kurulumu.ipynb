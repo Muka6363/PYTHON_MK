{
 "cells": [
  {
   "cell_type": "markdown",
   "metadata": {},
   "source": [
    "# PyQt5 Kurulumu\n",
    "\n",
    "Bu bölümle birlikte artık PyQt5 arayüz geliştirme işlemlerimize başlıyoruz. PyQt5 çok kapsamlı modüllerden oluştuğu için bu bölümde sadece temel bilgilerimizi alacağız ve proje olarak 2 tane arayüz geliştireceğiz. \n",
    "\n",
    "\n",
    "PyQt5 , Python ile hazır olarak gelmediği için bunu ilk olarak kurmamız gerekiyor.\n",
    "\n",
    "### Linux Dağıtımlar İçin Kurulum\n",
    "            \n",
    "            1. Terminali açıyoruz. \n",
    "            2. İlk olarak şu komutu çalıştırıyoruz. \"sudo apt-get install python3-pyqt5\"\n",
    "            3. Daha sonra şu komutu çalıştırıyoruz. \"sudo apt-get install python3-pyqt5.qtsql\"\n",
    "            4. En son şu komutu çalıştırıyoruz. \"sudo apt-get install qttools5-dev-tools\"\n",
    "\n",
    "### Windows İşletim Sistemi İçin Kurulum\n",
    "\n",
    "\n",
    "\n",
    "\n",
    "*1.İlk olarak şu linke gidiyoruz. https://sourceforge.net/projects/pyqt/files/PyQt5/PyQt-5.6/*\n",
    "\n",
    "*2.Buradan 32 bit .exe dosyasını indiriyoruz.*\n",
    "\n",
    "*3.İndirdiğimiz dosyayı çalıştırdığımızda bilgisayarımız bunu PyQt5 olarak C:\\Python35\\Lib\\site-packages altına yükleyecek.*\n",
    "\n",
    "*4.Artık PyQt5 ile arayüz geliştirebiliriz.*\n",
    "\n",
    "\n",
    "\n",
    "#### PyQt5' e nasıl çalışmalıyız ? \n",
    "\n",
    "\n",
    "Şimdi burada yapmam gereken birkaç uyarı var. Öncelikle PyQt5 çok kapsamlı modüllerden oluştuğu için sadece en gerekli temel bilgileri ve arayüz geliştirmenin temel mantığını öğretmeye çalışacağım. Bu sebeple, her sınıfı , her fonksiyonu ezberlemeye çalışmak pek akılcı olmayacaktır. Ayrıca derslerden bağımsız her dersin sonunda mutlaka öğrendiklerimizle ilgili alıştırma yapmalısınız. Aceleci davranırsanız maalesef mantığını öğrenemezsiniz. Ancak eğer Arayüz Geliştirme mantığını kavrarsanız başka bir programlama dilinde Arayüz Geliştirme mantığına direk aşina olmuş olacaksınız.\n",
    "\n",
    "### Yararlı Kaynaklar\n",
    "\n",
    "PyQt5 ile ilgili yararlı kaynaklar;\n",
    "\n",
    "PyQt5 Dokümantasyon : http://pyqt.sourceforge.net/Docs/PyQt5/class_reference.html\n",
    "\n",
    "ZetCode Tutorial : http://zetcode.com/gui/pyqt5/\n",
    "\n",
    "Tutorials Point : https://www.tutorialspoint.com/pyqt/pyqt_tutorial.pdf\n",
    "\n",
    "Her türlü sorunuz için bana ulaşabilirsiniz :)\n",
    "\n",
    "Buradan itibaren artık PyQt5 notebook'u paylaşmayacağım. Sadece derslerde kullandığımız kodları paylaşacağım."
   ]
  },
  {
   "cell_type": "code",
   "execution_count": null,
   "metadata": {
    "collapsed": true
   },
   "outputs": [],
   "source": []
  }
 ],
 "metadata": {
  "kernelspec": {
   "display_name": "Python 3",
   "language": "python",
   "name": "python3"
  },
  "language_info": {
   "codemirror_mode": {
    "name": "ipython",
    "version": 3
   },
   "file_extension": ".py",
   "mimetype": "text/x-python",
   "name": "python",
   "nbconvert_exporter": "python",
   "pygments_lexer": "ipython3",
   "version": "3.6.1"
  }
 },
 "nbformat": 4,
 "nbformat_minor": 2
}
