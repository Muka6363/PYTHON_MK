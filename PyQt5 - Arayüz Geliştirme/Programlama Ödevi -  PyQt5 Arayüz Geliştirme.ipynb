{
 "cells": [
  {
   "cell_type": "markdown",
   "metadata": {},
   "source": [
    "## Programlama Ödevi -  PyQt5 Arayüz Geliştirme"
   ]
  },
  {
   "cell_type": "markdown",
   "metadata": {},
   "source": [
    "### Proje 1 \n",
    "\n",
    "İleri Seviye Modüller bölümünde yazdığımız döviz programı arayüz şeklinde yapmaya çalışın. Bu sizi arayüz konusunda oldukça geliştirecektir.\n",
    "\n",
    "\n",
    "### Proje 2 \n",
    "\n",
    "İleri Seviye Modüller bölümünde yazdığımız mail gönderme işlemini arayüz şeklinde yapmaya çalışın.\n",
    "\n",
    "\n",
    "### Proje 3\n",
    "\n",
    "İleri Seviye Modüller bölümünde yaptığımız fotoğraf kırpma işlemini arayüz halinde yapmaya çalışın.\n",
    "\n",
    "\n",
    "### Proje 4\n",
    "\n",
    "\n",
    "İleri Seviye Modüller bölümünde yaptığımız Imdb film verileri işlemini arayüz halinde geliştirmeye çalışın.\n"
   ]
  },
  {
   "cell_type": "code",
   "execution_count": null,
   "metadata": {
    "collapsed": true
   },
   "outputs": [],
   "source": []
  }
 ],
 "metadata": {
  "kernelspec": {
   "display_name": "Python 3",
   "language": "python",
   "name": "python3"
  },
  "language_info": {
   "codemirror_mode": {
    "name": "ipython",
    "version": 3
   },
   "file_extension": ".py",
   "mimetype": "text/x-python",
   "name": "python",
   "nbconvert_exporter": "python",
   "pygments_lexer": "ipython3",
   "version": "3.6.1"
  }
 },
 "nbformat": 4,
 "nbformat_minor": 2
}
