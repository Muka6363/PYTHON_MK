{
 "cells": [
  {
   "cell_type": "markdown",
   "id": "c6ce4647",
   "metadata": {},
   "source": [
    "<img src=\"https://docs.google.com/uc?id=14xeXxFrVRjvOoUYWn_GuyE-v84wVzrqr\" class=\"img-fluid\" alt=\"CLRWY\" width=\"400\" height=\"200\">"
   ]
  },
  {
   "cell_type": "markdown",
   "id": "17517012",
   "metadata": {},
   "source": [
    "<h1><p style=\"text-align: center; color:darkblue\">Python In-Class <br>17 June 2022</p><h1>"
   ]
  },
  {
   "cell_type": "code",
   "execution_count": 1,
   "id": "d27e40e9",
   "metadata": {},
   "outputs": [],
   "source": [
    "a = \"i\"\n",
    "b = \"love\"\n",
    "c = \"you\""
   ]
  },
  {
   "cell_type": "code",
   "execution_count": 2,
   "id": "0fce07eb",
   "metadata": {},
   "outputs": [],
   "source": [
    "def texter(text1, text2, text3) :\n",
    "    print(text2, text3, text1)\n",
    "    "
   ]
  },
  {
   "cell_type": "code",
   "execution_count": 3,
   "id": "c11f6e86",
   "metadata": {},
   "outputs": [
    {
     "name": "stdout",
     "output_type": "stream",
     "text": [
      "i love you\n"
     ]
    }
   ],
   "source": [
    "texter(c,a,b)"
   ]
  },
  {
   "cell_type": "code",
   "execution_count": 4,
   "id": "3d601367",
   "metadata": {},
   "outputs": [
    {
     "name": "stdout",
     "output_type": "stream",
     "text": [
      "\n"
     ]
    },
    {
     "data": {
      "text/plain": [
       "NoneType"
      ]
     },
     "execution_count": 4,
     "metadata": {},
     "output_type": "execute_result"
    }
   ],
   "source": [
    "type(print())"
   ]
  },
  {
   "cell_type": "code",
   "execution_count": null,
   "id": "59490678",
   "metadata": {},
   "outputs": [],
   "source": [
    "return print(d, e, f)  #bu return etmez çünkü print bir değer üretmez!"
   ]
  },
  {
   "cell_type": "code",
   "execution_count": 5,
   "id": "f8be988f",
   "metadata": {},
   "outputs": [
    {
     "name": "stdout",
     "output_type": "stream",
     "text": [
      "[1, 2, 3]\n"
     ]
    }
   ],
   "source": [
    "print([1,2,3])"
   ]
  },
  {
   "cell_type": "code",
   "execution_count": 6,
   "id": "85f53b2d",
   "metadata": {},
   "outputs": [
    {
     "name": "stdout",
     "output_type": "stream",
     "text": [
      "[1, 2, 3]\n"
     ]
    },
    {
     "ename": "TypeError",
     "evalue": "object of type 'NoneType' has no len()",
     "output_type": "error",
     "traceback": [
      "\u001b[1;31m---------------------------------------------------------------------------\u001b[0m",
      "\u001b[1;31mTypeError\u001b[0m                                 Traceback (most recent call last)",
      "Input \u001b[1;32mIn [6]\u001b[0m, in \u001b[0;36m<cell line: 1>\u001b[1;34m()\u001b[0m\n\u001b[1;32m----> 1\u001b[0m \u001b[38;5;28;43mlen\u001b[39;49m\u001b[43m(\u001b[49m\u001b[38;5;28;43mprint\u001b[39;49m\u001b[43m(\u001b[49m\u001b[43m[\u001b[49m\u001b[38;5;241;43m1\u001b[39;49m\u001b[43m,\u001b[49m\u001b[38;5;241;43m2\u001b[39;49m\u001b[43m,\u001b[49m\u001b[38;5;241;43m3\u001b[39;49m\u001b[43m]\u001b[49m\u001b[43m)\u001b[49m\u001b[43m)\u001b[49m\n",
      "\u001b[1;31mTypeError\u001b[0m: object of type 'NoneType' has no len()"
     ]
    }
   ],
   "source": [
    "len(print([1,2,3]))  # hata verir. çünkü print([1,2,3]) bir değer değildir. "
   ]
  },
  {
   "cell_type": "code",
   "execution_count": 7,
   "id": "bd3b7ba1",
   "metadata": {},
   "outputs": [],
   "source": [
    "def bitanefonksiyon(x = \"ali\", y = 22) :\n",
    "    print(x, y, \"yaşındadır.\")"
   ]
  },
  {
   "cell_type": "code",
   "execution_count": 8,
   "id": "6eaae29e",
   "metadata": {},
   "outputs": [
    {
     "name": "stdout",
     "output_type": "stream",
     "text": [
      "ali 22 yaşındadır.\n"
     ]
    }
   ],
   "source": [
    "bitanefonksiyon()"
   ]
  },
  {
   "cell_type": "code",
   "execution_count": 9,
   "id": "67efcba4",
   "metadata": {},
   "outputs": [
    {
     "name": "stdout",
     "output_type": "stream",
     "text": [
      "deli 33 yaşındadır.\n"
     ]
    }
   ],
   "source": [
    "bitanefonksiyon(y = 33, x = \"deli\")"
   ]
  },
  {
   "cell_type": "code",
   "execution_count": 10,
   "id": "dc5bde7a",
   "metadata": {},
   "outputs": [
    {
     "name": "stdout",
     "output_type": "stream",
     "text": [
      "ali 22 yaşındadır.\n"
     ]
    }
   ],
   "source": [
    "bitanefonksiyon()"
   ]
  },
  {
   "cell_type": "code",
   "execution_count": 11,
   "id": "65c4d72f",
   "metadata": {},
   "outputs": [
    {
     "name": "stdout",
     "output_type": "stream",
     "text": [
      "veli 40 yaşındadır.\n"
     ]
    }
   ],
   "source": [
    "bitanefonksiyon(\"veli\", 40)"
   ]
  },
  {
   "cell_type": "code",
   "execution_count": 12,
   "id": "d9718376",
   "metadata": {},
   "outputs": [
    {
     "name": "stdout",
     "output_type": "stream",
     "text": [
      "gamze 22 yaşındadır.\n"
     ]
    }
   ],
   "source": [
    "bitanefonksiyon(\"gamze\")"
   ]
  },
  {
   "cell_type": "code",
   "execution_count": 13,
   "id": "a513a589",
   "metadata": {},
   "outputs": [
    {
     "name": "stdout",
     "output_type": "stream",
     "text": [
      "33 22 yaşındadır.\n"
     ]
    }
   ],
   "source": [
    "bitanefonksiyon(33)"
   ]
  },
  {
   "cell_type": "code",
   "execution_count": 14,
   "id": "5b4889cb",
   "metadata": {},
   "outputs": [],
   "source": [
    "def parrot(voltage, state='a stiff', action='voom', type='Norwegian Blue'):\n",
    "    print(\"-- This parrot wouldn't\", action, end=' ')\n",
    "    print(\"if you put\", voltage, \"volts through it.\")\n",
    "    print(\"-- Lovely plumage, the\", type)\n",
    "    print(\"-- It's\", state, \"!\")"
   ]
  },
  {
   "cell_type": "code",
   "execution_count": 1,
   "id": "efd4a1b4",
   "metadata": {},
   "outputs": [
    {
     "ename": "NameError",
     "evalue": "name 'parrot' is not defined",
     "output_type": "error",
     "traceback": [
      "\u001b[1;31m---------------------------------------------------------------------------\u001b[0m",
      "\u001b[1;31mNameError\u001b[0m                                 Traceback (most recent call last)",
      "\u001b[1;32mc:\\Users\\User\\Desktop\\CLARUSWAY\\PYTHON PLUSSS\\PythonPlus3_session16_June17th22_The matter of arguments.ipynb Cell 3'\u001b[0m in \u001b[0;36m<module>\u001b[1;34m\u001b[0m\n\u001b[1;32m----> <a href='vscode-notebook-cell:/c%3A/Users/User/Desktop/CLARUSWAY/PYTHON%20PLUSSS/PythonPlus3_session16_June17th22_The%20matter%20of%20arguments.ipynb#ch0000002?line=0'>1</a>\u001b[0m parrot()\n",
      "\u001b[1;31mNameError\u001b[0m: name 'parrot' is not defined"
     ]
    }
   ],
   "source": [
    "parrot()  \n",
    "\n",
    "# tanımlamada positional argümanların default değerleri yoktur. \n",
    "# bu yüzden fonk.da positional argüman varsa mutlaka ona değer atanmalı."
   ]
  },
  {
   "cell_type": "code",
   "execution_count": 16,
   "id": "be9b6c2c",
   "metadata": {},
   "outputs": [
    {
     "name": "stdout",
     "output_type": "stream",
     "text": [
      "-- This parrot wouldn't voom if you put 1000 volts through it.\n",
      "-- Lovely plumage, the Norwegian Blue\n",
      "-- It's a stiff !\n"
     ]
    }
   ],
   "source": [
    "parrot(1000)"
   ]
  },
  {
   "cell_type": "code",
   "execution_count": 17,
   "id": "3abacb7f",
   "metadata": {},
   "outputs": [
    {
     "name": "stdout",
     "output_type": "stream",
     "text": [
      "-- This parrot wouldn't VOOOOOOM if you put 1000000 volts through it.\n",
      "-- Lovely plumage, the Norwegian Blue\n",
      "-- It's a stiff !\n"
     ]
    }
   ],
   "source": [
    "parrot(voltage = 1000000, action = \"VOOOOOOM\")  # çağırırken tüm argümanları keyword olarak yolladık."
   ]
  },
  {
   "cell_type": "code",
   "execution_count": 18,
   "id": "9576812a",
   "metadata": {},
   "outputs": [
    {
     "name": "stdout",
     "output_type": "stream",
     "text": [
      "-- This parrot wouldn't VOOOOOOM if you put 1000000 volts through it.\n",
      "-- Lovely plumage, the Norwegian Blue\n",
      "-- It's a stiff !\n"
     ]
    }
   ],
   "source": [
    "parrot(action = \"VOOOOOOM\", voltage = 1000000)  # keyword argümanların sırasını değiştirdik. aynı çıktıyı verdi."
   ]
  },
  {
   "cell_type": "code",
   "execution_count": null,
   "id": "9eaf71c6",
   "metadata": {},
   "outputs": [],
   "source": [
    "def parrot(voltage, state='a stiff', action='voom', type='Norwegian Blue'):\n",
    "    print(\"-- This parrot wouldn't\", action, end=' ')\n",
    "    print(\"if you put\", voltage, \"volts through it.\")\n",
    "    print(\"-- Lovely plumage, the\", type)\n",
    "    print(\"-- It's\", state, \"!\")"
   ]
  },
  {
   "cell_type": "code",
   "execution_count": 19,
   "id": "c1849181",
   "metadata": {},
   "outputs": [
    {
     "name": "stdout",
     "output_type": "stream",
     "text": [
      "-- This parrot wouldn't JUMP if you put A MILLION volts through it.\n",
      "-- Lovely plumage, the Norwegian Blue\n",
      "-- It's BEREFT OF LIFE !\n"
     ]
    }
   ],
   "source": [
    "parrot(\"A MILLION\", \"BEREFT OF LIFE\", \"JUMP\" )  \n",
    "# tüm argümanları positional olarak yolladık. foksiyondaki yerlerine sırayla gitti. "
   ]
  },
  {
   "cell_type": "code",
   "execution_count": 20,
   "id": "c77ed684",
   "metadata": {},
   "outputs": [
    {
     "name": "stdout",
     "output_type": "stream",
     "text": [
      "-- This parrot wouldn't voom if you put A THOUSAND volts through it.\n",
      "-- Lovely plumage, the Norwegian Blue\n",
      "-- It's PUSHING UP THE DAISIES !\n"
     ]
    }
   ],
   "source": [
    "parrot(\"A THOUSAND\", state = \"PUSHING UP THE DAISIES\" )  # pos. ve keyword argümanları beraber yolladık."
   ]
  },
  {
   "cell_type": "code",
   "execution_count": 24,
   "id": "5153284c",
   "metadata": {},
   "outputs": [
    {
     "ename": "SyntaxError",
     "evalue": "positional argument follows keyword argument (2097885695.py, line 1)",
     "output_type": "error",
     "traceback": [
      "\u001b[1;36m  Input \u001b[1;32mIn [24]\u001b[1;36m\u001b[0m\n\u001b[1;33m    parrot(voltage = 5, \"dead\")\u001b[0m\n\u001b[1;37m                              ^\u001b[0m\n\u001b[1;31mSyntaxError\u001b[0m\u001b[1;31m:\u001b[0m positional argument follows keyword argument\n"
     ]
    }
   ],
   "source": [
    "parrot(voltage = 5, \"dead\") # positional argümanlar mutlaka keyword argümanlardan önce yazılmalı!"
   ]
  },
  {
   "cell_type": "code",
   "execution_count": null,
   "id": "08d128c8",
   "metadata": {},
   "outputs": [],
   "source": [
    "def parrot(voltage, state='a stiff', action='voom', type='Norwegian Blue'):\n",
    "    print(\"-- This parrot wouldn't\", action, end=' ')\n",
    "    print(\"if you put\", voltage, \"volts through it.\")\n",
    "    print(\"-- Lovely plumage, the\", type)\n",
    "    print(\"-- It's\", state, \"!\")"
   ]
  },
  {
   "cell_type": "code",
   "execution_count": 25,
   "id": "270c8701",
   "metadata": {},
   "outputs": [
    {
     "ename": "SyntaxError",
     "evalue": "positional argument follows keyword argument (3405546516.py, line 1)",
     "output_type": "error",
     "traceback": [
      "\u001b[1;36m  Input \u001b[1;32mIn [25]\u001b[1;36m\u001b[0m\n\u001b[1;33m    parrot(state = \"BALL\", \"a billion\")\u001b[0m\n\u001b[1;37m                                      ^\u001b[0m\n\u001b[1;31mSyntaxError\u001b[0m\u001b[1;31m:\u001b[0m positional argument follows keyword argument\n"
     ]
    }
   ],
   "source": [
    "parrot(state = \"BALL\", \"a billion\")"
   ]
  },
  {
   "cell_type": "code",
   "execution_count": 26,
   "id": "dede0aab",
   "metadata": {},
   "outputs": [
    {
     "ename": "SyntaxError",
     "evalue": "non-default argument follows default argument (3201837974.py, line 1)",
     "output_type": "error",
     "traceback": [
      "\u001b[1;36m  Input \u001b[1;32mIn [26]\u001b[1;36m\u001b[0m\n\u001b[1;33m    def argu(a, b = \"dünya\", c, d = \"satürn\") :\u001b[0m\n\u001b[1;37m                                ^\u001b[0m\n\u001b[1;31mSyntaxError\u001b[0m\u001b[1;31m:\u001b[0m non-default argument follows default argument\n"
     ]
    }
   ],
   "source": [
    "def argu(a, b = \"dünya\", c, d = \"satürn\") :\n",
    "    print(a, b, c, d, sep=\"\\n\")"
   ]
  },
  {
   "cell_type": "code",
   "execution_count": 27,
   "id": "d36977b5",
   "metadata": {},
   "outputs": [],
   "source": [
    "def argu(a, c, b = \"dünya\", d = \"satürn\") :\n",
    "    print(a, b, c, d, sep=\"\\n\")"
   ]
  },
  {
   "cell_type": "code",
   "execution_count": 28,
   "id": "72843a60",
   "metadata": {},
   "outputs": [
    {
     "ename": "TypeError",
     "evalue": "argu() missing 2 required positional arguments: 'a' and 'c'",
     "output_type": "error",
     "traceback": [
      "\u001b[1;31m---------------------------------------------------------------------------\u001b[0m",
      "\u001b[1;31mTypeError\u001b[0m                                 Traceback (most recent call last)",
      "Input \u001b[1;32mIn [28]\u001b[0m, in \u001b[0;36m<cell line: 1>\u001b[1;34m()\u001b[0m\n\u001b[1;32m----> 1\u001b[0m \u001b[43margu\u001b[49m\u001b[43m(\u001b[49m\u001b[43m)\u001b[49m\n",
      "\u001b[1;31mTypeError\u001b[0m: argu() missing 2 required positional arguments: 'a' and 'c'"
     ]
    }
   ],
   "source": [
    "argu()"
   ]
  },
  {
   "cell_type": "code",
   "execution_count": 29,
   "id": "4a8e817e",
   "metadata": {},
   "outputs": [
    {
     "name": "stdout",
     "output_type": "stream",
     "text": [
      "uranus\n",
      "dünya\n",
      "jupyter\n",
      "satürn\n"
     ]
    }
   ],
   "source": [
    "argu(\"uranus\", \"jupyter\")"
   ]
  },
  {
   "cell_type": "code",
   "execution_count": 2,
   "id": "84ef5097",
   "metadata": {},
   "outputs": [],
   "source": [
    "def argu(a, c, b = \"dünya\", d = \"satürn\") :\n",
    "    print(a, b, c, d, sep=\"\\n\")"
   ]
  },
  {
   "cell_type": "code",
   "execution_count": 3,
   "id": "1da7c160",
   "metadata": {},
   "outputs": [
    {
     "name": "stdout",
     "output_type": "stream",
     "text": [
      "uranüs\n",
      "dünya\n",
      "jupyter\n",
      "satürn\n"
     ]
    }
   ],
   "source": [
    "argu(a = \"uranüs\", c = \"jupyter\")"
   ]
  },
  {
   "cell_type": "code",
   "execution_count": null,
   "id": "8091582e",
   "metadata": {},
   "outputs": [],
   "source": [
    "argu(\"plüto\", c = \"venüs\", \"mars\")"
   ]
  },
  {
   "cell_type": "code",
   "execution_count": 5,
   "id": "b363d0c5",
   "metadata": {},
   "outputs": [
    {
     "ename": "TypeError",
     "evalue": "argu() got multiple values for argument 'c'",
     "output_type": "error",
     "traceback": [
      "\u001b[1;31m---------------------------------------------------------------------------\u001b[0m",
      "\u001b[1;31mTypeError\u001b[0m                                 Traceback (most recent call last)",
      "\u001b[1;32mc:\\Users\\User\\Desktop\\CLARUSWAY\\PYTHON PLUSSS\\PythonPlus3_session16_June17th22_The matter of arguments.ipynb Hücre 35\u001b[0m in \u001b[0;36m<module>\u001b[1;34m\u001b[0m\n\u001b[0;32m      <a href='vscode-notebook-cell:/c%3A/Users/User/Desktop/CLARUSWAY/PYTHON%20PLUSSS/PythonPlus3_session16_June17th22_The%20matter%20of%20arguments.ipynb#ch0000034?line=0'>1</a>\u001b[0m \u001b[39mdef\u001b[39;00m \u001b[39margu\u001b[39m(a, c, b \u001b[39m=\u001b[39m \u001b[39m\"\u001b[39m\u001b[39mdünya\u001b[39m\u001b[39m\"\u001b[39m, d \u001b[39m=\u001b[39m \u001b[39m\"\u001b[39m\u001b[39msatürn\u001b[39m\u001b[39m\"\u001b[39m) :\n\u001b[0;32m      <a href='vscode-notebook-cell:/c%3A/Users/User/Desktop/CLARUSWAY/PYTHON%20PLUSSS/PythonPlus3_session16_June17th22_The%20matter%20of%20arguments.ipynb#ch0000034?line=1'>2</a>\u001b[0m     \u001b[39mprint\u001b[39m(a, b, c, d, sep\u001b[39m=\u001b[39m\u001b[39m\"\u001b[39m\u001b[39m\\n\u001b[39;00m\u001b[39m\"\u001b[39m)\n\u001b[1;32m----> <a href='vscode-notebook-cell:/c%3A/Users/User/Desktop/CLARUSWAY/PYTHON%20PLUSSS/PythonPlus3_session16_June17th22_The%20matter%20of%20arguments.ipynb#ch0000034?line=3'>4</a>\u001b[0m argu(\u001b[39m\"\u001b[39;49m\u001b[39mplüto\u001b[39;49m\u001b[39m\"\u001b[39;49m, \u001b[39m\"\u001b[39;49m\u001b[39mmars\u001b[39;49m\u001b[39m\"\u001b[39;49m, c \u001b[39m=\u001b[39;49m \u001b[39m\"\u001b[39;49m\u001b[39mvenüs\u001b[39;49m\u001b[39m\"\u001b[39;49m)\n",
      "\u001b[1;31mTypeError\u001b[0m: argu() got multiple values for argument 'c'"
     ]
    }
   ],
   "source": [
    "def argu(a, c, b = \"dünya\", d = \"satürn\") :\n",
    "    print(a, b, c, d, sep=\"\\n\")\n",
    "    \n",
    "argu(\"plüto\", \"mars\", c = \"venüs\")"
   ]
  },
  {
   "cell_type": "code",
   "execution_count": 33,
   "id": "6d2db058",
   "metadata": {},
   "outputs": [
    {
     "name": "stdout",
     "output_type": "stream",
     "text": [
      "dünya\n",
      "venüs\n",
      "plüto\n",
      "guneş\n"
     ]
    }
   ],
   "source": [
    "argu(d = \"guneş\", a = \"dünya\", c = \"plüto\", b = \"venüs\")"
   ]
  },
  {
   "cell_type": "code",
   "execution_count": null,
   "id": "e25f366b",
   "metadata": {},
   "outputs": [],
   "source": [
    "def argu(a, c, b = \"dünya\", d = \"satürn\") :\n",
    "    print(a, b, c, d, sep=\"\\n\")"
   ]
  },
  {
   "cell_type": "code",
   "execution_count": 34,
   "id": "deb32df2",
   "metadata": {},
   "outputs": [
    {
     "name": "stdout",
     "output_type": "stream",
     "text": [
      "guneş\n",
      "plüto\n",
      "dünya\n",
      "venüs\n"
     ]
    }
   ],
   "source": [
    "argu(\"guneş\", \"dünya\", \"plüto\", \"venüs\")"
   ]
  },
  {
   "cell_type": "code",
   "execution_count": 35,
   "id": "d1737f1a",
   "metadata": {},
   "outputs": [],
   "source": [
    "def fonksiyon(x, y) :\n",
    "    print(x, y, \"yaşındadır.\")"
   ]
  },
  {
   "cell_type": "code",
   "execution_count": 36,
   "id": "df505384",
   "metadata": {},
   "outputs": [
    {
     "name": "stdout",
     "output_type": "stream",
     "text": [
      "ali 33 yaşındadır.\n"
     ]
    }
   ],
   "source": [
    "fonksiyon(x = \"ali\", y = 33)"
   ]
  },
  {
   "cell_type": "code",
   "execution_count": 37,
   "id": "04395b0a",
   "metadata": {},
   "outputs": [
    {
     "name": "stdout",
     "output_type": "stream",
     "text": [
      "ali 33 yaşındadır.\n"
     ]
    }
   ],
   "source": [
    "fonksiyon(y = 33, x = \"ali\")"
   ]
  },
  {
   "cell_type": "code",
   "execution_count": 38,
   "id": "1937bd11",
   "metadata": {},
   "outputs": [
    {
     "name": "stdout",
     "output_type": "stream",
     "text": [
      "orange banana melon ananas "
     ]
    }
   ],
   "source": [
    "def fruiterer(*fruit) :\n",
    "    for i in fruit :\n",
    "        print(i, end = \" \")\n",
    "    \n",
    "fruiterer(\"orange\", \"banana\", \"melon\", \"ananas\")"
   ]
  },
  {
   "cell_type": "code",
   "execution_count": 39,
   "id": "155cb8f7",
   "metadata": {},
   "outputs": [
    {
     "name": "stdout",
     "output_type": "stream",
     "text": [
      "<class 'tuple'>\n"
     ]
    }
   ],
   "source": [
    "def fruiterer(*fruit) :\n",
    "    print(type(fruit))\n",
    "    \n",
    "fruiterer(\"orange\", \"banana\", \"melon\", \"ananas\")"
   ]
  },
  {
   "cell_type": "code",
   "execution_count": 40,
   "id": "65fc4940",
   "metadata": {},
   "outputs": [
    {
     "data": {
      "text/plain": [
       "('orange', 'banana', 'melon', 'ananas')"
      ]
     },
     "execution_count": 40,
     "metadata": {},
     "output_type": "execute_result"
    }
   ],
   "source": [
    "\"orange\", \"banana\", \"melon\", \"ananas\""
   ]
  },
  {
   "cell_type": "code",
   "execution_count": 41,
   "id": "a108d3eb",
   "metadata": {},
   "outputs": [],
   "source": [
    "def slicer(* num) :\n",
    "    even = []\n",
    "    odd = []\n",
    "    \n",
    "    for i in num : \n",
    "        if i % 2 == 0 :\n",
    "            even.append(i)\n",
    "        else :\n",
    "            odd.append(i)\n",
    "    print(\"even list :\", even)\n",
    "    print(\"odd list :\", odd)\n",
    "    "
   ]
  },
  {
   "cell_type": "code",
   "execution_count": 42,
   "id": "83b60a2e",
   "metadata": {},
   "outputs": [
    {
     "name": "stdout",
     "output_type": "stream",
     "text": [
      "even list : [2, 4, 6, 8]\n",
      "odd list : [1, 3, 5, 7, 9]\n"
     ]
    }
   ],
   "source": [
    "slicer(1,2,3,4,5,6,7,8,9)"
   ]
  },
  {
   "cell_type": "code",
   "execution_count": null,
   "id": "82e80df7",
   "metadata": {},
   "outputs": [],
   "source": []
  },
  {
   "cell_type": "code",
   "execution_count": null,
   "id": "43356836",
   "metadata": {},
   "outputs": [],
   "source": []
  }
 ],
 "metadata": {
  "kernelspec": {
   "display_name": "Python 3.10.4 64-bit",
   "language": "python",
   "name": "python3"
  },
  "language_info": {
   "codemirror_mode": {
    "name": "ipython",
    "version": 3
   },
   "file_extension": ".py",
   "mimetype": "text/x-python",
   "name": "python",
   "nbconvert_exporter": "python",
   "pygments_lexer": "ipython3",
   "version": "3.10.4"
  },
  "vscode": {
   "interpreter": {
    "hash": "afb734500600fd355917ca529030176ea0ca205570884b88f2f6f7d791fd3fbe"
   }
  }
 },
 "nbformat": 4,
 "nbformat_minor": 5
}
