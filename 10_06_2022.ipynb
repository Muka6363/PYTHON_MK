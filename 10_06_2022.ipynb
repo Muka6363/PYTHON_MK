{
  "cells": [
    {
      "cell_type": "markdown",
      "id": "8c08142e",
      "metadata": {
        "id": "8c08142e"
      },
      "source": [
        "1)  A jumbled list is given whose elements are consecutive numbers. Write python code that outputs even numbers of missing numbers that are between the smallest element and the largest element of the list, but not shown in the list.\n",
        "\n",
        "Input\n",
        "\n",
        "liste = [48, 10, 11, 21, 36, 5, 6, 52, 28, 29, 53, 54, 45, 19, 20, 47, 55, 39, 41, 7, 9, 17, 26, 27, 42, 22, 37, 51, 46, 18, 44, 30, 34, 13, 15, 35, 33, 16, 50, 24]\n",
        "\n",
        "Expected Output:\n",
        "8 12 14 32 38 40\n",
        "\n",
        "----------------------------------------------------------------------------\n",
        "Elemanları ardışık sayılar olan karışık bir liste verilir. Listenin en küçük öğesi ile en büyük öğesi arasında bulunan ancak listede gösterilmeyen çift sayıdaki eksik sayıların çıktısını veren bir python kodu yazın.\n",
        "\n",
        "Giriş\n",
        "\n",
        "liste = [48, 10, 11, 21, 36, 5, 6, 52, 28, 29, 53, 54, 45, 19, 20, 47, 55, 39, 41, 7, 9, 17, 26, 27 , 42, 22, 37, 51, 46, 18, 44, 30, 34, 13, 15, 35, 33, 16, 50, 24]\n",
        "\n",
        "Beklenen Çıktı: 8 12 14 32 38 40\n",
        "\n",
        "\n"
      ]
    },
    {
      "cell_type": "markdown",
      "id": "5d6e4940",
      "metadata": {
        "id": "5d6e4940"
      },
      "source": [
        "2 ) Try to print a multiplication table with numbers from 1 to 10.\n",
        "--------------------------------------------------------------------------\n",
        "1'den 10'a kadar sayılar içeren bir çarpım tablosu yazdırmayı deneyin.\n",
        "---------------------------------------------------------------------------\n",
        "For Example,\n",
        "\n",
        "1 x 1 = 1\n",
        "\n",
        "1 x 2 = 2\n",
        "\n",
        "1 x 3 = 3\n",
        "\n",
        "1 x 4 = 4\n",
        "\n",
        "1 x 5 = 5\n",
        "\n",
        "1 x 6 = 6\n",
        "\n",
        "1 x 7 = 7\n",
        "\n",
        "1 x 8 = 8\n",
        "\n",
        "1 x 9 = 9\n",
        "\n",
        "1 x 10 = 10\n",
        "\n",
        "***********\n",
        "\n",
        "2 x 1 = 2\n",
        "\n",
        "2 x 2 = 4\n",
        "\n",
        "2 x 3 = 6"
      ]
    },
    {
      "cell_type": "markdown",
      "source": [
        "3 ) Write a program to check if two string are balanced.\n",
        "## for example; strings s1 and s2 are balanced if all the characters in the s1 are present in s2\n",
        "--------------------------------------------------------------------------------------------------\n",
        "İki dizenin dengeli olup olmadığını kontrol eden bir program yazın.\n",
        "örneğin; s1'deki tüm karakterler s'de mevcutsa, s1 ve s2 dizeleri dengelenir"
      ],
      "metadata": {
        "id": "KK47L3XbxI-b"
      },
      "id": "KK47L3XbxI-b"
    },
    {
      "cell_type": "markdown",
      "source": [
        "---------------------------------------------------------------------------------------------------"
      ],
      "metadata": {
        "id": "wJtLXPmWxfDV"
      },
      "id": "wJtLXPmWxfDV"
    },
    {
      "cell_type": "markdown",
      "id": "139157bc",
      "metadata": {
        "id": "139157bc"
      },
      "source": [
        "4)  set() | for loop | floor division | format() | \"string\"\n",
        "\n",
        "There is a large of socks that must be paired by color. Given an array of integers representing the color of each sock, determine how many pairs of socks with matching colors there are.\n",
        "\n",
        "Example :\n",
        "\n",
        "n = 7\n",
        "\n",
        "ar = [1, 2, 1, 2, 1, 3, 2]\n",
        "\n",
        "--------------------------------------------------------------------------\n",
        "Renge göre eşleştirilmesi gereken çok sayıda çorap var. Her bir çorabın rengini temsil eden bir tamsayı dizisi verildiğinde, eşleşen renklere sahip kaç çift çorap olduğunu belirleyin.\n",
        "\n",
        "Örnek :\n",
        "\n",
        "sayı = 7\n",
        "\n",
        "ar = [1, 2, 1, 2, 1, 3, 2]\n",
        "\n"
      ]
    },
    {
      "cell_type": "markdown",
      "source": [
        "----------------------------------------------------------------------------------------------"
      ],
      "metadata": {
        "id": "S-xu1_bNxlQd"
      },
      "id": "S-xu1_bNxlQd"
    },
    {
      "cell_type": "markdown",
      "id": "0c7655b9",
      "metadata": {
        "id": "0c7655b9"
      },
      "source": [
        " 5 ) for loop | sum()\n",
        "\n",
        "Abigail and Benson are playing Rock, Paper, Scissors.\n",
        "\n",
        "Each game is represented by an array of length 2, where the first element represents what Abigail played and the second element represents what Benson played.\n",
        "\n",
        "Given a sequence of games, determine who wins the most number of matches. If they tie, output \"Tie\".\n",
        "\n",
        "- R stands for Rock\n",
        "\n",
        "- P stands for Paper\n",
        "\n",
        "- S stands for Scissors\n",
        "----------------------------------------\n",
        "Abigail ve Benson, Taş, kağıt ve makas oynuyorlar.\n",
        "\n",
        "Her oyun 2 uzunluğunda bir diziyle temsil edilir; burada ilk öğe Abigail'in oynadığını ve ikinci öğe Benson'ın oynadığını temsil eder.\n",
        "\n",
        "Bir dizi oyun verildiğinde, en çok maçı kimin kazandığını belirleyin. Bağlanırlarsa, 'Tie' çıktısını alın.\n",
        "\n",
        "- R, Rock anlamına gelir\n",
        "\n",
        "- P, Kağıt anlamına gelir\n",
        "\n",
        "- S, Makas anlamına gelir\n",
        "\n",
        "\n"
      ]
    },
    {
      "cell_type": "markdown",
      "source": [
        "------------------------------------------------------------------------------------------------------"
      ],
      "metadata": {
        "id": "eZ-vu-jPxuNp"
      },
      "id": "eZ-vu-jPxuNp"
    },
    {
      "cell_type": "markdown",
      "id": "2a363f9a",
      "metadata": {
        "id": "2a363f9a"
      },
      "source": [
        "6)Create a function that returns the sum of missing numbers from the given list.\n",
        "\n",
        "Examples\n",
        "\n",
        "sum_missing_numbers([4, 3, 8, 1, 2]) ➞ 18\n",
        "\n",
        "- 5 + 6 + 7 = 18\n",
        "\n",
        "sum_missing_numbers([17, 16, 15, 10, 11, 12]) ➞ 27\n",
        "\n",
        "- 13 + 14 = 27\n",
        "\n",
        "sum_missing_numbers([1, 2, 3, 4, 5]) ➞ 0\n",
        "\n",
        "- No Missing Numbers (i.e. all numbers in [1, 5] are present in the list)\n",
        "-----------------------------------------------------------------------\n",
        "Verilen listedeki eksik sayıların toplamını döndüren bir işlev oluşturun.\n",
        "Örnekler\n",
        "\n",
        "sum_missing_numbers([4, 3, 8, 1, 2]) ➞ 18\n",
        "\n",
        "- 5 + 6 + 7 = 18\n",
        "\n",
        "sum_missing_numbers([17, 16, 15, 10, 11, 12]) ➞ 27\n",
        "\n",
        "- 13 + 14 = 27\n",
        "\n",
        "sum_missing_numbers([1, 2, 3, 4, 5]) ➞ 0\n",
        "\n",
        "- Eksik Numara Yok (yani [1, 5] içindeki tüm numaralar listede mevcut)"
      ]
    },
    {
      "cell_type": "markdown",
      "source": [
        "---------------------------------------------------------------------------------------"
      ],
      "metadata": {
        "id": "jtWfCv0Kxz9a"
      },
      "id": "jtWfCv0Kxz9a"
    },
    {
      "cell_type": "markdown",
      "id": "956872ad",
      "metadata": {
        "id": "956872ad"
      },
      "source": [
        "7)Bir pisagor üçgeni oluşturan 1'den 100'e kadar sayıları ekrana yazdıran bir program yazın. Sınav için.: 3 4 5"
      ]
    },
    {
      "cell_type": "markdown",
      "source": [
        "--------------------------------------------------------------------------------------"
      ],
      "metadata": {
        "id": "E-X2f0WQx18u"
      },
      "id": "E-X2f0WQx18u"
    },
    {
      "cell_type": "markdown",
      "id": "e6e7f562",
      "metadata": {
        "id": "e6e7f562"
      },
      "source": [
        "8) input() | len() | set()\n",
        "\n",
        "Write a Python function that takes a sequence of numbers and determines whether all the numbers are different from each other.\n",
        "\n",
        "Bir sayı dizisi alan ve tüm sayıların birbirinden farklı olup olmadığını belirleyen bir Python fonksiyonu yazın."
      ]
    },
    {
      "cell_type": "markdown",
      "source": [
        "-----------------------------------------------------------------------------------------"
      ],
      "metadata": {
        "id": "yQ-yBTUSx4OR"
      },
      "id": "yQ-yBTUSx4OR"
    },
    {
      "cell_type": "markdown",
      "id": "cf4d290d",
      "metadata": {
        "id": "cf4d290d"
      },
      "source": [
        "9)for loop | nested for loop | range() |?str() | int()\n",
        "\n",
        " - How many of the 3-digit numbers are equal to the sum of the cubes of their digits?\n",
        "\n",
        " - 3 basamaklı sayıların kaç tanesi rakamlarının küplerinin toplamına eşittir?"
      ]
    },
    {
      "cell_type": "markdown",
      "source": [
        "--------------------------------------------------------------------------------"
      ],
      "metadata": {
        "id": "qQ1yB7EKx6Fu"
      },
      "id": "qQ1yB7EKx6Fu"
    },
    {
      "cell_type": "markdown",
      "id": "ec3daedc",
      "metadata": {
        "id": "ec3daedc"
      },
      "source": [
        "10 )comprehension | nested for loop | for loop | join()\n",
        "\n",
        "Write a program that square every digit of a number and concatenate them.\n",
        "For example, if we run 9119 through the function, 811181 will come out, because 9 ** 2 = 81 and 1 ** 2 = 1.\n",
        "\n",
        "Bir sayının her basamağını karesini alan ve bunları birleştiren bir program yazın. Örneğin 9119'u fonksiyon üzerinden çalıştırırsak sonuç 811181 çıkacaktır, çünkü 9 ** 2 = 81 ve 1 ** 2 = 1'dir."
      ]
    }
  ],
  "metadata": {
    "kernelspec": {
      "display_name": "Python 3 (ipykernel)",
      "language": "python",
      "name": "python3"
    },
    "language_info": {
      "codemirror_mode": {
        "name": "ipython",
        "version": 3
      },
      "file_extension": ".py",
      "mimetype": "text/x-python",
      "name": "python",
      "nbconvert_exporter": "python",
      "pygments_lexer": "ipython3",
      "version": "3.10.4"
    },
    "colab": {
      "name": "10.06.2022.ipynb",
      "provenance": [],
      "collapsed_sections": []
    }
  },
  "nbformat": 4,
  "nbformat_minor": 5
}