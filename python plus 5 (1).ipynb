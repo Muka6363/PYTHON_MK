{
 "cells": [
  {
   "cell_type": "code",
   "execution_count": 42,
   "id": "8b85adc4",
   "metadata": {},
   "outputs": [],
   "source": [
    "words = [\"apple\", \"swim\", \"clock\", \"me\", \"kiwi\", \"banana\"]"
   ]
  },
  {
   "cell_type": "code",
   "execution_count": 43,
   "id": "d6abc132",
   "metadata": {},
   "outputs": [
    {
     "name": "stdout",
     "output_type": "stream",
     "text": [
      "swim\n",
      "me\n",
      "kiwi\n"
     ]
    }
   ],
   "source": [
    "for i in filter(lambda x: len(x)<5, words): # words ---> iterable \n",
    "                                            # lambda x: len(x)<5 ---> fonksiyonumuz\n",
    "                                            # filter (function, iterable) --> true, false sonuç bekler\n",
    "                                            # len(x)<5 ---> lambda fonk. body si; buna göre true false döndürür.\n",
    "                                            # apple aldı baktı olmadı false döndürdü yazdırmadı, swim aldı true döndü yazdırdı.\n",
    "                                            # filter belirlenen fonk. iterable bütün elemanlarına uygular.\n",
    "    print(i)"
   ]
  },
  {
   "cell_type": "code",
   "execution_count": 44,
   "id": "25ea7cc0",
   "metadata": {},
   "outputs": [
    {
     "name": "stdout",
     "output_type": "stream",
     "text": [
      "swim\n",
      "me\n",
      "kiwi\n"
     ]
    }
   ],
   "source": [
    "for i in filter(lambda x: len(x)<5, [\"apple\", \"swim\", \"clock\", \"me\", \"kiwi\", \"banana\"]):\n",
    "    print(i)"
   ]
  },
  {
   "cell_type": "code",
   "execution_count": 45,
   "id": "ee806c6b",
   "metadata": {},
   "outputs": [],
   "source": [
    "#lambda yı kullanarak sesli harfleri seçelim:\n",
    "\n",
    "first_ten = [\"a\", \"b\", \"c\", \"d\", \"e\", \"f\", \"g\", \"h\", \"i\", \"j\"]\n",
    "vowels_list = [\"a\", \"e\", \"i\", \"ı\", \"u\", \"ü\", \"o\", \"ö\"]\n",
    "\n",
    "#vowels = filter(fonk, iterable)\n",
    "#fonk = lambda\n",
    "#first_ten = iterable\n",
    "\n",
    "# fonk = lambda x: True if x in vowels_list else False    #ternary yapı"
   ]
  },
  {
   "cell_type": "code",
   "execution_count": 49,
   "id": "d018de3c",
   "metadata": {},
   "outputs": [
    {
     "name": "stdout",
     "output_type": "stream",
     "text": [
      "['a', 'e', 'i']\n"
     ]
    }
   ],
   "source": [
    "liste = \"\"   #fonk.öncesindeki yöntemlerimizle\n",
    "for i in first_ten:\n",
    "    if i in vowels_list:\n",
    "        liste+=i\n",
    "print(list(liste))"
   ]
  },
  {
   "cell_type": "code",
   "execution_count": 51,
   "id": "410c8cf8",
   "metadata": {},
   "outputs": [
    {
     "data": {
      "text/plain": [
       "['a', 'e', 'i']"
      ]
     },
     "execution_count": 51,
     "metadata": {},
     "output_type": "execute_result"
    }
   ],
   "source": [
    "def vowels(word):\n",
    "    return [i for i in word if i in vowels_list] #list. comp.\n",
    "vowels(first_ten)"
   ]
  },
  {
   "cell_type": "code",
   "execution_count": 52,
   "id": "f722e745",
   "metadata": {},
   "outputs": [
    {
     "data": {
      "text/plain": [
       "['a', 'e', 'i']"
      ]
     },
     "execution_count": 52,
     "metadata": {},
     "output_type": "execute_result"
    }
   ],
   "source": [
    "def vowels(word): #fonk ile yazsaydık\n",
    "        return [i for i in word if i in vowels_list] #list. comp.\n",
    "vowels(first_ten)"
   ]
  },
  {
   "cell_type": "code",
   "execution_count": 53,
   "id": "ef1c9d3a",
   "metadata": {},
   "outputs": [
    {
     "data": {
      "text/plain": [
       "['a', 'e', 'i']"
      ]
     },
     "execution_count": 53,
     "metadata": {},
     "output_type": "execute_result"
    }
   ],
   "source": [
    "#list.comp.ile yazsaydık.(1.yol)\n",
    "\n",
    "[i for i in first_ten if i in vowels_list]\n",
    "    "
   ]
  },
  {
   "cell_type": "code",
   "execution_count": 54,
   "id": "3bb640b1",
   "metadata": {},
   "outputs": [
    {
     "data": {
      "text/plain": [
       "['a', 'e', 'i']"
      ]
     },
     "execution_count": 54,
     "metadata": {},
     "output_type": "execute_result"
    }
   ],
   "source": [
    "vowels = filter(lambda x: True if x in vowels_list else False, first_ten)  # 2.yol lambda + ternary yapı\n",
    "list(vowels)"
   ]
  },
  {
   "cell_type": "code",
   "execution_count": 55,
   "id": "5425a58e",
   "metadata": {},
   "outputs": [
    {
     "data": {
      "text/plain": [
       "['a', 'e', 'i']"
      ]
     },
     "execution_count": 55,
     "metadata": {},
     "output_type": "execute_result"
    }
   ],
   "source": [
    "# 3.yol\n",
    "vowels = filter(lambda x: x in vowels_list, first_ten) # lambda var ternary yapı yok.\n",
    "list(vowels)"
   ]
  },
  {
   "cell_type": "code",
   "execution_count": 56,
   "id": "7952493c",
   "metadata": {},
   "outputs": [],
   "source": [
    "# bir yerde in kullanılmışsa orada True ya da False vardır.\n",
    "# burada lambda nın body si olan kısım --> x in vowels_list ---> bu kısım ya True ya da False döndürür."
   ]
  },
  {
   "cell_type": "markdown",
   "id": "856df70b",
   "metadata": {},
   "source": [
    "# Lambda within User Defined Functions"
   ]
  },
  {
   "cell_type": "markdown",
   "id": "4a94059f",
   "metadata": {},
   "source": [
    "lambda fonk ile alt fonksiyonlar üreteceğiz, lambda fonk.tek kullanımlık bir fonk. iken değişkenlere atayarak onu\n",
    "defined fonk. haline getireceğiz.\n",
    "buradaki def fonk. modular fonk. \n",
    "biz bu fonk. içine farklı valuelar atayıp bunları farklı variable lara atayarak \n",
    "return tek bir lambda olan defined fonk. birden fazla defined functionus üretiyoruz."
   ]
  },
  {
   "cell_type": "code",
   "execution_count": 57,
   "id": "ae610114",
   "metadata": {},
   "outputs": [
    {
     "name": "stdout",
     "output_type": "stream",
     "text": [
      "4\n",
      "8\n",
      "16\n"
     ]
    }
   ],
   "source": [
    "def modular_function(n):\n",
    "    return lambda x: x ** n   # x bir int. değer olmak üzere\n",
    "power_of_2 = modular_function(2) #first sub-function derived from def\n",
    "power_of_3 = modular_function(3) #second sub-function derived from def\n",
    "power_of_4 = modular_function(4) #third sub-function derived from def\n",
    "\n",
    "print(power_of_2(2))   # 2 to the power of 2 \n",
    "print(power_of_3(2))   # 2 to the power of 3\n",
    "print(power_of_4(2))   # 2 to the power of 4 "
   ]
  },
  {
   "cell_type": "code",
   "execution_count": 58,
   "id": "beb62ae1",
   "metadata": {},
   "outputs": [],
   "source": [
    "def modular_function(n):\n",
    "    return lambda x: x ** n  # n = 2 olsa\n",
    "    #return lambda x: x **2  --> fonk. x in karesini return eder(2 değeri için)\n",
    "    #return lambda x: x **3 ---> fonk. x in küpünü alan bir fonk.haline gelir.\n",
    "#buradaki n lambda fonk. değişkeni haline geliyor.\n",
    "#burada return da lambda olması demek modular_function çalıştığına lambda fonk.döndür demektir."
   ]
  },
  {
   "cell_type": "code",
   "execution_count": 59,
   "id": "b04be690",
   "metadata": {},
   "outputs": [
    {
     "data": {
      "text/plain": [
       "4"
      ]
     },
     "execution_count": 59,
     "metadata": {},
     "output_type": "execute_result"
    }
   ],
   "source": [
    "(lambda x: x **2)(2) #bunun atanmış hali"
   ]
  },
  {
   "cell_type": "code",
   "execution_count": 60,
   "id": "31653a18",
   "metadata": {},
   "outputs": [
    {
     "data": {
      "text/plain": [
       "4"
      ]
     },
     "execution_count": 60,
     "metadata": {},
     "output_type": "execute_result"
    }
   ],
   "source": [
    "power_of_2(2) #üstte bulunan lambdanın variable ile tanımlanmış hali"
   ]
  },
  {
   "cell_type": "code",
   "execution_count": 61,
   "id": "ed2c47d6",
   "metadata": {},
   "outputs": [],
   "source": [
    "def modular(n):\n",
    "    return lambda x:x**n"
   ]
  },
  {
   "cell_type": "code",
   "execution_count": 62,
   "id": "1e165a61",
   "metadata": {},
   "outputs": [],
   "source": [
    "#biz burada \n",
    "karesinial = modular(2) #desek \n",
    "# modular(2) = lambda x: x**2  demek olur."
   ]
  },
  {
   "cell_type": "code",
   "execution_count": 63,
   "id": "fd71d8ce",
   "metadata": {},
   "outputs": [
    {
     "data": {
      "text/plain": [
       "<function __main__.modular.<locals>.<lambda>(x)>"
      ]
     },
     "execution_count": 63,
     "metadata": {},
     "output_type": "execute_result"
    }
   ],
   "source": [
    "karesinial #lambda x:x**n AYNI ŞEY LAMBDA OBJECT OLARAK VERİR."
   ]
  },
  {
   "cell_type": "code",
   "execution_count": 64,
   "id": "00c11ae4",
   "metadata": {},
   "outputs": [
    {
     "data": {
      "text/plain": [
       "<function __main__.<lambda>(x)>"
      ]
     },
     "execution_count": 64,
     "metadata": {},
     "output_type": "execute_result"
    }
   ],
   "source": [
    "lambda x:x**2 # karesinial AYNI ŞEY LAMBDA OBJECT OLARAK VERİR."
   ]
  },
  {
   "cell_type": "code",
   "execution_count": 65,
   "id": "8ed0c69a",
   "metadata": {},
   "outputs": [
    {
     "data": {
      "text/plain": [
       "16"
      ]
     },
     "execution_count": 65,
     "metadata": {},
     "output_type": "execute_result"
    }
   ],
   "source": [
    "(lambda x:x**2)(4) # lambda ile çağırdık"
   ]
  },
  {
   "cell_type": "code",
   "execution_count": 66,
   "id": "e89f3e3c",
   "metadata": {},
   "outputs": [
    {
     "data": {
      "text/plain": [
       "16"
      ]
     },
     "execution_count": 66,
     "metadata": {},
     "output_type": "execute_result"
    }
   ],
   "source": [
    "karesinial(4) # defined fonk.ile çağırdık."
   ]
  },
  {
   "cell_type": "code",
   "execution_count": 67,
   "id": "6c212356",
   "metadata": {},
   "outputs": [],
   "source": [
    "def repeater(n):\n",
    "    return lambda x: x * n  # x bir str olmak üzere\n",
    "repeat_2_times = repeater(2) # 2 tekrar\n",
    "repeat_3_times = repeater(3) # 3 tekrar\n",
    "repeat_4_times = repeater(4) # 4 tekrar"
   ]
  },
  {
   "cell_type": "code",
   "execution_count": 68,
   "id": "3fab8162",
   "metadata": {},
   "outputs": [
    {
     "name": "stdout",
     "output_type": "stream",
     "text": [
      "asumanasuman\n",
      "enesenesenes\n",
      "hilalhilalhilalhilal\n"
     ]
    }
   ],
   "source": [
    "print(repeat_2_times(\"asuman\"))   \n",
    "print(repeat_3_times(\"enes\"))   \n",
    "print(repeat_4_times(\"hilal\"))   "
   ]
  },
  {
   "cell_type": "code",
   "execution_count": 69,
   "id": "5e5e6f54",
   "metadata": {},
   "outputs": [
    {
     "data": {
      "text/plain": [
       "'cohortcohort'"
      ]
     },
     "execution_count": 69,
     "metadata": {},
     "output_type": "execute_result"
    }
   ],
   "source": [
    "(lambda x: x * 2)(\"cohort\")"
   ]
  },
  {
   "cell_type": "code",
   "execution_count": 70,
   "id": "a61eb538",
   "metadata": {},
   "outputs": [],
   "source": [
    "def functioner(emoji = None):\n",
    "    return lambda message : print(message, emoji)\n",
    "    \n",
    "    #print 'in içinde atanmayan bir değer kullandığımız için her ihtimale karşı fonk.içinde emojiye bir \n",
    "    # default değer atadık.yani bir keyword argumentla tanımlamış olduk.yani ön değer atadık. "
   ]
  },
  {
   "cell_type": "code",
   "execution_count": 71,
   "id": "48b28439",
   "metadata": {},
   "outputs": [
    {
     "data": {
      "text/plain": [
       "<function __main__.functioner.<locals>.<lambda>(message)>"
      ]
     },
     "execution_count": 71,
     "metadata": {},
     "output_type": "execute_result"
    }
   ],
   "source": [
    "functioner(\"asuman\")  #burada emoji yerine değer göndermiş olduk, bizden message değerini bekliyor."
   ]
  },
  {
   "cell_type": "code",
   "execution_count": 72,
   "id": "10ed1043",
   "metadata": {},
   "outputs": [
    {
     "name": "stdout",
     "output_type": "stream",
     "text": [
      "asuman :)\n"
     ]
    }
   ],
   "source": [
    "print(\"asuman\", \":)\") #bu şekilde de olur "
   ]
  },
  {
   "cell_type": "code",
   "execution_count": 73,
   "id": "be8b8332",
   "metadata": {},
   "outputs": [],
   "source": [
    "gulen_yüz = functioner(\":)\")  #bu şekilde def fonk. bir değişkene atayarak da olur."
   ]
  },
  {
   "cell_type": "code",
   "execution_count": 74,
   "id": "55cb72bf",
   "metadata": {},
   "outputs": [
    {
     "name": "stdout",
     "output_type": "stream",
     "text": [
      "asuman :)\n"
     ]
    }
   ],
   "source": [
    "gulen_yüz(\"asuman\") #fonk.cağırıldığı an      lambda message: print(message, emoji) çalışacak."
   ]
  },
  {
   "cell_type": "code",
   "execution_count": 75,
   "id": "c613650b",
   "metadata": {},
   "outputs": [
    {
     "data": {
      "text/plain": [
       "<function __main__.functioner.<locals>.<lambda>(message)>"
      ]
     },
     "execution_count": 75,
     "metadata": {},
     "output_type": "execute_result"
    }
   ],
   "source": [
    "functioner(\"asuman\") #hata vermedi none değeri atadığımız için"
   ]
  },
  {
   "cell_type": "code",
   "execution_count": 76,
   "id": "abd50a6c",
   "metadata": {},
   "outputs": [],
   "source": [
    "uzgun_yüz = functioner(\":(\")  # bu üzgün yüzü tanımladığımız an bu üzgün yüz --> lambda x: print(x, \":(\")"
   ]
  },
  {
   "cell_type": "code",
   "execution_count": 77,
   "id": "fca031f5",
   "metadata": {},
   "outputs": [
    {
     "data": {
      "text/plain": [
       "<function __main__.functioner.<locals>.<lambda>(message)>"
      ]
     },
     "execution_count": 77,
     "metadata": {},
     "output_type": "execute_result"
    }
   ],
   "source": [
    "uzgun_yüz "
   ]
  },
  {
   "cell_type": "code",
   "execution_count": 78,
   "id": "13020dc2",
   "metadata": {},
   "outputs": [
    {
     "name": "stdout",
     "output_type": "stream",
     "text": [
      "66 :(\n"
     ]
    }
   ],
   "source": [
    "uzgun_yüz(66)"
   ]
  },
  {
   "cell_type": "code",
   "execution_count": 79,
   "id": "5c132ea6",
   "metadata": {},
   "outputs": [],
   "source": [
    "notr_yüz = functioner(\":|\")  # bu notr yüz tanımladığımız an bu notr yüz --> lambda x: print(x, \":|\")"
   ]
  },
  {
   "cell_type": "code",
   "execution_count": 80,
   "id": "f27eb9bc",
   "metadata": {},
   "outputs": [
    {
     "data": {
      "text/plain": [
       "<function __main__.functioner.<locals>.<lambda>(message)>"
      ]
     },
     "execution_count": 80,
     "metadata": {},
     "output_type": "execute_result"
    }
   ],
   "source": [
    "notr_yüz"
   ]
  },
  {
   "cell_type": "code",
   "execution_count": 81,
   "id": "fffb9ba2",
   "metadata": {},
   "outputs": [
    {
     "name": "stdout",
     "output_type": "stream",
     "text": [
      "enes :|\n"
     ]
    }
   ],
   "source": [
    "notr_yüz(\"enes\")"
   ]
  },
  {
   "cell_type": "code",
   "execution_count": 82,
   "id": "3ed359e7",
   "metadata": {},
   "outputs": [
    {
     "name": "stdout",
     "output_type": "stream",
     "text": [
      "66 :(\n"
     ]
    }
   ],
   "source": [
    "(lambda x: print(x, \":(\"))(66)  # bir değişkene atamadan yazdırmak istersek lambda fonk. hemen yanına değişken adını yazabiliriz"
   ]
  },
  {
   "cell_type": "markdown",
   "id": "6dd6eda3",
   "metadata": {},
   "source": [
    "# lambda yı kullanarak bazı built fonk. taklit edelim"
   ]
  },
  {
   "cell_type": "code",
   "execution_count": 83,
   "id": "eb466908",
   "metadata": {},
   "outputs": [
    {
     "ename": "SyntaxError",
     "evalue": "invalid syntax (3421740316.py, line 2)",
     "output_type": "error",
     "traceback": [
      "\u001b[1;36m  Input \u001b[1;32mIn [83]\u001b[1;36m\u001b[0m\n\u001b[1;33m    asu_print --> print()\u001b[0m\n\u001b[1;37m               ^\u001b[0m\n\u001b[1;31mSyntaxError\u001b[0m\u001b[1;31m:\u001b[0m invalid syntax\n"
     ]
    }
   ],
   "source": [
    "#önce kendi built in fonk. yapalım yine lambda fonk. ile\n",
    "asu_print --> print()\n",
    "asu_max () ---->max()\n",
    "asu_bool()--->bool()\n",
    "asu_sorted() --->sorted()"
   ]
  },
  {
   "cell_type": "code",
   "execution_count": 84,
   "id": "5a2c1be7",
   "metadata": {},
   "outputs": [
    {
     "data": {
      "text/plain": [
       "<function __main__.<lambda>(x)>"
      ]
     },
     "execution_count": 84,
     "metadata": {},
     "output_type": "execute_result"
    }
   ],
   "source": [
    "lambda x: print(x) #normalde lambda fonk içine gönderirsek aynısını print edecek."
   ]
  },
  {
   "cell_type": "code",
   "execution_count": 89,
   "id": "a17dd20a",
   "metadata": {},
   "outputs": [
    {
     "name": "stdout",
     "output_type": "stream",
     "text": [
      "asuman enes oray\n"
     ]
    }
   ],
   "source": [
    "(lambda x: print(x))(\"asuman enes oray\") #yanına bir arguman gönderelim."
   ]
  },
  {
   "cell_type": "code",
   "execution_count": 90,
   "id": "f267b78b",
   "metadata": {},
   "outputs": [
    {
     "data": {
      "text/plain": [
       "3"
      ]
     },
     "execution_count": 90,
     "metadata": {},
     "output_type": "execute_result"
    }
   ],
   "source": [
    "(lambda x: max(x))([1, 2, 3]) # gelen iterable max alsın (1,2,3 tek tek gönderemeyiz tek değişken atadığımız için ancak liste\n",
    "                            #  ile gönderirsek tüm rakamları aynı anda gönderebiliriz.)"
   ]
  },
  {
   "cell_type": "code",
   "execution_count": 91,
   "id": "d9479892",
   "metadata": {},
   "outputs": [
    {
     "data": {
      "text/plain": [
       "'Ankara'"
      ]
     },
     "execution_count": 91,
     "metadata": {},
     "output_type": "execute_result"
    }
   ],
   "source": [
    "(lambda x: min(x))([\"asuman\", \"Ankara\", \"clarusway\"]) #gelen iterable ın min alacak."
   ]
  },
  {
   "cell_type": "code",
   "execution_count": 92,
   "id": "557781b9",
   "metadata": {},
   "outputs": [
    {
     "data": {
      "text/plain": [
       "[4, 5, 6, 7, 8, 9]"
      ]
     },
     "execution_count": 92,
     "metadata": {},
     "output_type": "execute_result"
    }
   ],
   "source": [
    "(lambda x: sorted(x))([9,8,7,6,5,4]) #geleni sıralayacak, liste içinde."
   ]
  },
  {
   "cell_type": "markdown",
   "id": "4dffe72c",
   "metadata": {},
   "source": [
    "yukarıdaki örneklerin tümünde sabit olan yani aynı olan şeyler;\n",
    "lambda, x, kod body si içindeki x ler de aynı.\n",
    "değişken olan tek şey; FONKSİYONUN ADI (len, max, sorted, print, min ....) \n",
    "fonk adı yani fonk.name bizim için değişkendir.\n",
    "def i öyle bir tanımlamalıyız ki fonk.adını yazdığımızda değişken fonk yerini almalı(yani print in, max ın , min in ...)"
   ]
  },
  {
   "cell_type": "code",
   "execution_count": 93,
   "id": "af890b07",
   "metadata": {},
   "outputs": [
    {
     "ename": "SyntaxError",
     "evalue": "invalid syntax (2033722572.py, line 1)",
     "output_type": "error",
     "traceback": [
      "\u001b[1;36m  Input \u001b[1;32mIn [93]\u001b[1;36m\u001b[0m\n\u001b[1;33m    def function_generator(function_name):  ----> buraya değişken olan şeyi yani fonk. adını yazmalıyız.\u001b[0m\n\u001b[1;37m                                               ^\u001b[0m\n\u001b[1;31mSyntaxError\u001b[0m\u001b[1;31m:\u001b[0m invalid syntax\n"
     ]
    }
   ],
   "source": [
    "def function_generator(function_name):  ----> buraya değişken olan şeyi yani fonk. adını yazmalıyız.\n",
    "    return lambda x: function_name(x) -------> burada ise lambda değişken adını ve değişkeni yazarız.\n",
    "artık yukarıya print yazdığımızda bize lambda ile\n",
    "print(x) ---> return edecek hale getirdik defined fonk.\n",
    "** tek arguman alacak çünkü sadece x tanımladık."
   ]
  },
  {
   "cell_type": "code",
   "execution_count": 95,
   "id": "c5a30337",
   "metadata": {},
   "outputs": [],
   "source": [
    "def function_generator(function_name):\n",
    "    return lambda x: function_name(x)  # birden fazla arguman atayacaksak da asteriks kullanmalıyız."
   ]
  },
  {
   "cell_type": "code",
   "execution_count": 96,
   "id": "4f45063d",
   "metadata": {},
   "outputs": [
    {
     "data": {
      "text/plain": [
       "6"
      ]
     },
     "execution_count": 96,
     "metadata": {},
     "output_type": "execute_result"
    }
   ],
   "source": [
    "asu_len = function_generator(len)\n",
    "len(\"asuman\")"
   ]
  },
  {
   "cell_type": "code",
   "execution_count": 97,
   "id": "9b4529df",
   "metadata": {},
   "outputs": [],
   "source": [
    "def function_generator(function_name):\n",
    "    return lambda x: function_name(x)"
   ]
  },
  {
   "cell_type": "code",
   "execution_count": 98,
   "id": "498d28fd",
   "metadata": {},
   "outputs": [],
   "source": [
    "asu_max = function_generator(max)"
   ]
  },
  {
   "cell_type": "code",
   "execution_count": 99,
   "id": "ae1f34e5",
   "metadata": {},
   "outputs": [
    {
     "data": {
      "text/plain": [
       "7"
      ]
     },
     "execution_count": 99,
     "metadata": {},
     "output_type": "execute_result"
    }
   ],
   "source": [
    "max([1,2,3,4,5,6,7])"
   ]
  },
  {
   "cell_type": "code",
   "execution_count": 100,
   "id": "d3314958",
   "metadata": {},
   "outputs": [],
   "source": [
    "asu_len = function_generator(len)"
   ]
  },
  {
   "cell_type": "code",
   "execution_count": 101,
   "id": "16eb20b3",
   "metadata": {},
   "outputs": [
    {
     "data": {
      "text/plain": [
       "6"
      ]
     },
     "execution_count": 101,
     "metadata": {},
     "output_type": "execute_result"
    }
   ],
   "source": [
    "(lambda x: len(x))(\"asuman\")"
   ]
  },
  {
   "cell_type": "code",
   "execution_count": 102,
   "id": "7e753399",
   "metadata": {},
   "outputs": [
    {
     "data": {
      "text/plain": [
       "14"
      ]
     },
     "execution_count": 102,
     "metadata": {},
     "output_type": "execute_result"
    }
   ],
   "source": [
    "asu_len(\"asuman, Ankara\")"
   ]
  },
  {
   "cell_type": "code",
   "execution_count": 103,
   "id": "d61d9278",
   "metadata": {},
   "outputs": [],
   "source": [
    "asu_print = function_generator(print)"
   ]
  },
  {
   "cell_type": "code",
   "execution_count": 104,
   "id": "32173ce4",
   "metadata": {},
   "outputs": [
    {
     "name": "stdout",
     "output_type": "stream",
     "text": [
      "sabır, şükür\n"
     ]
    }
   ],
   "source": [
    "asu_print(\"sabır, şükür\")"
   ]
  },
  {
   "cell_type": "code",
   "execution_count": 105,
   "id": "4e549cf0",
   "metadata": {},
   "outputs": [],
   "source": [
    "asu_bool = function_generator(bool)"
   ]
  },
  {
   "cell_type": "code",
   "execution_count": 106,
   "id": "97bb952c",
   "metadata": {},
   "outputs": [
    {
     "data": {
      "text/plain": [
       "True"
      ]
     },
     "execution_count": 106,
     "metadata": {},
     "output_type": "execute_result"
    }
   ],
   "source": [
    "asu_bool(1)"
   ]
  },
  {
   "cell_type": "code",
   "execution_count": 107,
   "id": "b4962b28",
   "metadata": {},
   "outputs": [],
   "source": [
    "def x():\n",
    "    return 1,2,3,4"
   ]
  },
  {
   "cell_type": "code",
   "execution_count": 108,
   "id": "1ceb17f6",
   "metadata": {},
   "outputs": [
    {
     "data": {
      "text/plain": [
       "(1, 2, 3, 4)"
      ]
     },
     "execution_count": 108,
     "metadata": {},
     "output_type": "execute_result"
    }
   ],
   "source": [
    "1,2,3,4"
   ]
  },
  {
   "cell_type": "code",
   "execution_count": 109,
   "id": "b970492b",
   "metadata": {},
   "outputs": [
    {
     "data": {
      "text/plain": [
       "function"
      ]
     },
     "execution_count": 109,
     "metadata": {},
     "output_type": "execute_result"
    }
   ],
   "source": [
    "type(x)"
   ]
  },
  {
   "cell_type": "code",
   "execution_count": 110,
   "id": "be72d388",
   "metadata": {},
   "outputs": [
    {
     "data": {
      "text/plain": [
       "tuple"
      ]
     },
     "execution_count": 110,
     "metadata": {},
     "output_type": "execute_result"
    }
   ],
   "source": [
    "type(x())   #type a baktık"
   ]
  },
  {
   "cell_type": "code",
   "execution_count": 111,
   "id": "73e1c496",
   "metadata": {},
   "outputs": [
    {
     "data": {
      "text/plain": [
       "(1, 2, 3, 4)"
      ]
     },
     "execution_count": 111,
     "metadata": {},
     "output_type": "execute_result"
    }
   ],
   "source": [
    "x() #çağırdık"
   ]
  },
  {
   "cell_type": "code",
   "execution_count": 112,
   "id": "381a8fc6",
   "metadata": {},
   "outputs": [],
   "source": [
    "a, b, c, d = 1,2,3,4  #  -----> tuple unpacking"
   ]
  },
  {
   "cell_type": "code",
   "execution_count": 113,
   "id": "24a1a575",
   "metadata": {},
   "outputs": [],
   "source": [
    "a, b, c, d = x() # x fonk.atayabiliriz burada x() silip karşısına 1,2,3,4 yazmakda aynı şeydir\n",
    "                # çünkü bu x fonk. bize 1,2,3,4 --> return ediyor. buda üst satırdaki unpacking i verir bize."
   ]
  },
  {
   "cell_type": "code",
   "execution_count": 114,
   "id": "f8a9e0bf",
   "metadata": {},
   "outputs": [
    {
     "data": {
      "text/plain": [
       "1"
      ]
     },
     "execution_count": 114,
     "metadata": {},
     "output_type": "execute_result"
    }
   ],
   "source": [
    "a"
   ]
  },
  {
   "cell_type": "code",
   "execution_count": 115,
   "id": "cd3bc8eb",
   "metadata": {},
   "outputs": [],
   "source": [
    "num = [1,1,1,5,5,2,2]"
   ]
  },
  {
   "cell_type": "code",
   "execution_count": 116,
   "id": "6cb9fca4",
   "metadata": {},
   "outputs": [
    {
     "data": {
      "text/plain": [
       "1"
      ]
     },
     "execution_count": 116,
     "metadata": {},
     "output_type": "execute_result"
    }
   ],
   "source": [
    "max(num, key=num.count) #max al ama key göre al; \n",
    "                        # burada key nedir? num.count-->num.count uygula; num.count = 1, num.count=1 ... num.count = 2 olur\n",
    "                        # hepsine teker teker bakar, ardından bunlardan en çok tekrar edeni alır."
   ]
  },
  {
   "cell_type": "code",
   "execution_count": 119,
   "id": "43ae6039",
   "metadata": {},
   "outputs": [
    {
     "data": {
      "text/plain": [
       "3"
      ]
     },
     "execution_count": 119,
     "metadata": {},
     "output_type": "execute_result"
    }
   ],
   "source": [
    "num.count(1) # 1 in kaçkez tekrar ettiğine bakalım  3 kez tekrar ediyor."
   ]
  },
  {
   "cell_type": "code",
   "execution_count": 120,
   "id": "fe5065e8",
   "metadata": {},
   "outputs": [
    {
     "data": {
      "text/plain": [
       "2"
      ]
     },
     "execution_count": 120,
     "metadata": {},
     "output_type": "execute_result"
    }
   ],
   "source": [
    "num.count(5) #num.count listenin bir metodudur unutmayalım."
   ]
  },
  {
   "cell_type": "code",
   "execution_count": 121,
   "id": "cf97a86d",
   "metadata": {},
   "outputs": [
    {
     "data": {
      "text/plain": [
       "2"
      ]
     },
     "execution_count": 121,
     "metadata": {},
     "output_type": "execute_result"
    }
   ],
   "source": [
    "num.count(2)"
   ]
  },
  {
   "cell_type": "code",
   "execution_count": 124,
   "id": "9592e642",
   "metadata": {},
   "outputs": [],
   "source": [
    "# num = [1,1,1,5,5,2,2]  ---> num.count havada bir object üretti ve 3 , 2 , 2 yani sayıların tekar sayısını buldu. sonrada\n",
    "#  bu tekrar sayılarının hangisinin daha büyük old.baktı. 3 büyük old. için tekrarı 3 olan sayıyı alacak."
   ]
  },
  {
   "cell_type": "code",
   "execution_count": 125,
   "id": "4ab05acb",
   "metadata": {},
   "outputs": [
    {
     "data": {
      "text/plain": [
       "1"
      ]
     },
     "execution_count": 125,
     "metadata": {},
     "output_type": "execute_result"
    }
   ],
   "source": [
    "#en çok tekrar eden sayı\n",
    "max(num, key = num.count) #en çok tekrar eden sayı nedir? (3 kez tekrar ettiği için 1 dir.)"
   ]
  },
  {
   "cell_type": "code",
   "execution_count": 126,
   "id": "625fdfe7",
   "metadata": {},
   "outputs": [
    {
     "data": {
      "text/plain": [
       "3"
      ]
     },
     "execution_count": 126,
     "metadata": {},
     "output_type": "execute_result"
    }
   ],
   "source": [
    "#tekrar sayısı\n",
    "num.count(max(num, key=num.count)) # en çok tekrar eden sayının yani 1 in kaç kez tekrar ettiğini bulduk"
   ]
  },
  {
   "cell_type": "code",
   "execution_count": 127,
   "id": "1a69756c",
   "metadata": {},
   "outputs": [],
   "source": [
    "# (1,4,4) --> girersek 2 döndürürsün, hepsi birbirinden farklı ise 0 döndürsün."
   ]
  },
  {
   "cell_type": "code",
   "execution_count": 128,
   "id": "b25b4688",
   "metadata": {},
   "outputs": [],
   "source": [
    "def equal(x, y, z):\n",
    "    num = [x, y, z]\n",
    "    result = num.count(max(num, key=num.count))\n",
    "    if result>1:\n",
    "        return result\n",
    "    else:\n",
    "        return 0"
   ]
  },
  {
   "cell_type": "code",
   "execution_count": 129,
   "id": "a5c585ce",
   "metadata": {},
   "outputs": [
    {
     "data": {
      "text/plain": [
       "0"
      ]
     },
     "execution_count": 129,
     "metadata": {},
     "output_type": "execute_result"
    }
   ],
   "source": [
    "equal(1,2,3)"
   ]
  },
  {
   "cell_type": "code",
   "execution_count": 130,
   "id": "bad90f82",
   "metadata": {},
   "outputs": [
    {
     "name": "stdout",
     "output_type": "stream",
     "text": [
      "Number '6' is repeated 4 times\n"
     ]
    }
   ],
   "source": [
    "#sayısı belirsiz eleman için aynı fonk.tanımlamak istersek\n",
    "#yani arbitrary number ı kullanabiliriz.\n",
    "def function(*args):\n",
    "    return \"Number '{}' is repeated {} times\".format(max(list(args),key=args.count),args.count(max(list(args),key=args.count)))\n",
    "print(function(1,2,3,3,3,4,4,6,6,6,6,9))"
   ]
  },
  {
   "cell_type": "code",
   "execution_count": 131,
   "id": "b1085d47",
   "metadata": {},
   "outputs": [],
   "source": [
    "def equal_(*arg):\n",
    "    num = list(arg)\n",
    "    result = num.count(max(num, key = num.count))\n",
    "    if result>1:\n",
    "        return result\n",
    "    else:\n",
    "        return 0"
   ]
  },
  {
   "cell_type": "code",
   "execution_count": 132,
   "id": "f1054a32",
   "metadata": {},
   "outputs": [
    {
     "data": {
      "text/plain": [
       "4"
      ]
     },
     "execution_count": 132,
     "metadata": {},
     "output_type": "execute_result"
    }
   ],
   "source": [
    "equal_(1,2,3,1,5,5,6,6,6,6)"
   ]
  },
  {
   "cell_type": "code",
   "execution_count": 133,
   "id": "f9cd6fb2",
   "metadata": {},
   "outputs": [],
   "source": [
    "equalambda = lambda x,y,z: [x,y,z].count(max([x,y,z], key =[x,y,z].count)) #lambdayı değişkene atadık. \n",
    "                                                    #   üstteki num liste idi bizde num olan yerlere liste içinde x, y, z\n",
    "                                                    # yazabiliriz."
   ]
  },
  {
   "cell_type": "code",
   "execution_count": 134,
   "id": "ab0c781e",
   "metadata": {},
   "outputs": [
    {
     "data": {
      "text/plain": [
       "2"
      ]
     },
     "execution_count": 134,
     "metadata": {},
     "output_type": "execute_result"
    }
   ],
   "source": [
    "equalambda(1,1,2)"
   ]
  },
  {
   "cell_type": "code",
   "execution_count": 135,
   "id": "ef551e7a",
   "metadata": {},
   "outputs": [
    {
     "data": {
      "text/plain": [
       "2"
      ]
     },
     "execution_count": 135,
     "metadata": {},
     "output_type": "execute_result"
    }
   ],
   "source": [
    "(lambda x,y,z: [x,y,z].count(max([x,y,z], key =[x,y,z].count)))(1,1,2) #lambdayı direkt kullandık."
   ]
  },
  {
   "cell_type": "code",
   "execution_count": 136,
   "id": "ad7dee20",
   "metadata": {},
   "outputs": [],
   "source": [
    "def equal_(*arg):\n",
    "    num = list(arg)\n",
    "    result = num.count(max(num, key = num.count))\n",
    "    if result>1:\n",
    "        return result\n",
    "    else:\n",
    "        return 0\n",
    "# bu kısımdaki if ve else lambda içinde kullanmak istesek\n",
    " # yani üstteki normal if yapısını ---> ternary yapı ile yazsak\n",
    "#  result if result > 1 else 0 ----> şeklinde yazdırmak istesek; aşağıdaki gibi olur."
   ]
  },
  {
   "cell_type": "code",
   "execution_count": 137,
   "id": "431f47d3",
   "metadata": {},
   "outputs": [
    {
     "ename": "SyntaxError",
     "evalue": "invalid syntax (3373753774.py, line 1)",
     "output_type": "error",
     "traceback": [
      "\u001b[1;36m  Input \u001b[1;32mIn [137]\u001b[1;36m\u001b[0m\n\u001b[1;33m    lambda x, y, z : result  ---> bizim istediğimiz bu, bunu aşama aşama yazalım.\u001b[0m\n\u001b[1;37m                               ^\u001b[0m\n\u001b[1;31mSyntaxError\u001b[0m\u001b[1;31m:\u001b[0m invalid syntax\n"
     ]
    }
   ],
   "source": [
    "lambda x, y, z : result  ---> bizim istediğimiz bu, bunu aşama aşama yazalım.\n",
    "num yerine x, y, z ---> yazalım\n",
    "result gördüğümüz yere ---> result = num.count(max(num, key = num.count)) bunu yazalım\n",
    "geriye sadece ternary yapıyı kurmak kaldı\n",
    "sonuç if result > 1 else 0"
   ]
  },
  {
   "cell_type": "code",
   "execution_count": 138,
   "id": "119e470e",
   "metadata": {},
   "outputs": [],
   "source": [
    "equalambda = lambda x,y,z: [x,y,z].count(max([x,y,z], key =[x,y,z].count))\\\n",
    "if [x,y,z].count(max([x,y,z], key = [x,y,z].count))>1 else 0"
   ]
  },
  {
   "cell_type": "code",
   "execution_count": 139,
   "id": "6fd27817",
   "metadata": {},
   "outputs": [
    {
     "data": {
      "text/plain": [
       "2"
      ]
     },
     "execution_count": 139,
     "metadata": {},
     "output_type": "execute_result"
    }
   ],
   "source": [
    "equalambda(1,1,2)"
   ]
  },
  {
   "cell_type": "code",
   "execution_count": 140,
   "id": "d015738e",
   "metadata": {},
   "outputs": [],
   "source": [
    "equalambda = lambda *arg: arg.count(max(arg, key = arg.count)) #lambda ile birlikte arbitrary number la kullanırsak."
   ]
  },
  {
   "cell_type": "code",
   "execution_count": 141,
   "id": "871616d7",
   "metadata": {},
   "outputs": [
    {
     "data": {
      "text/plain": [
       "4"
      ]
     },
     "execution_count": 141,
     "metadata": {},
     "output_type": "execute_result"
    }
   ],
   "source": [
    "equalambda(1,1,2,2,2,2,3,3)"
   ]
  },
  {
   "cell_type": "code",
   "execution_count": 142,
   "id": "196bc4a5",
   "metadata": {},
   "outputs": [],
   "source": [
    "def function(*args): #aynı şeyi defined fonk.ile kullansak.\n",
    "    return max(list(map(lambda x : args.count(x),args)))"
   ]
  },
  {
   "cell_type": "code",
   "execution_count": 239,
   "id": "ea71ced7",
   "metadata": {},
   "outputs": [
    {
     "data": {
      "text/plain": [
       "4"
      ]
     },
     "execution_count": 239,
     "metadata": {},
     "output_type": "execute_result"
    }
   ],
   "source": [
    "equalambda(1,1,2,2,2,2,3,3)"
   ]
  },
  {
   "cell_type": "code",
   "execution_count": 143,
   "id": "f83fde93",
   "metadata": {},
   "outputs": [],
   "source": [
    "def equal_(*arg):\n",
    "    num = list(arg)\n",
    "    result = num.count(max(num, key = num.count))\n",
    "    if result>1:\n",
    "        return result\n",
    "    else:\n",
    "        return 0\n",
    "# bu kısımdaki if ve else lambda içinde kullanmak istesek\n",
    " # yani üstteki normal if yapısını ---> ternary yapı ile yazsak\n",
    "#  result if result > 1 else 0 ----> şeklinde yazdırmak istesek; aşağıdaki gibi olur."
   ]
  },
  {
   "cell_type": "code",
   "execution_count": 144,
   "id": "1b14f262",
   "metadata": {},
   "outputs": [],
   "source": [
    "# yukarıdaki funtion(*args)  ---> bu kezde lambda içinde ternary yapı kullanarak yazalım."
   ]
  },
  {
   "cell_type": "code",
   "execution_count": 145,
   "id": "dcb7b53c",
   "metadata": {},
   "outputs": [],
   "source": [
    "equallambda_new = lambda *x : list(x).count(max(list(x), key = list(x).count))\\\n",
    "if list(x).count(max(list(x), key = list(x).count))>1 else 0"
   ]
  },
  {
   "cell_type": "code",
   "execution_count": 146,
   "id": "0d53bfa2",
   "metadata": {},
   "outputs": [
    {
     "data": {
      "text/plain": [
       "5"
      ]
     },
     "execution_count": 146,
     "metadata": {},
     "output_type": "execute_result"
    }
   ],
   "source": [
    "equallambda_new(1,1,2,2,3,3,3,3,3)"
   ]
  },
  {
   "cell_type": "code",
   "execution_count": 147,
   "id": "e4a64b4e",
   "metadata": {},
   "outputs": [],
   "source": [
    "equalambda = lambda *arg: arg.count(max(arg, key = arg.count)) if arg.count(max(arg, key = arg.count))>1 else 0"
   ]
  },
  {
   "cell_type": "code",
   "execution_count": 148,
   "id": "ca58a0b5",
   "metadata": {},
   "outputs": [
    {
     "data": {
      "text/plain": [
       "4"
      ]
     },
     "execution_count": 148,
     "metadata": {},
     "output_type": "execute_result"
    }
   ],
   "source": [
    "equalambda(1,1,2,2,2,2,3,3)"
   ]
  },
  {
   "cell_type": "code",
   "execution_count": 149,
   "id": "f2da8c78",
   "metadata": {},
   "outputs": [],
   "source": [
    "equalambda = lambda *abc: abc.count(max(abc, key = abc.count)) if abc.count(max(abc, key = abc.count))>1 else 0"
   ]
  },
  {
   "cell_type": "code",
   "execution_count": 150,
   "id": "2717dbcb",
   "metadata": {},
   "outputs": [
    {
     "data": {
      "text/plain": [
       "4"
      ]
     },
     "execution_count": 150,
     "metadata": {},
     "output_type": "execute_result"
    }
   ],
   "source": [
    "equalambda(1,1,2,2,2,2,3,3)"
   ]
  },
  {
   "cell_type": "code",
   "execution_count": 151,
   "id": "e4cae22d",
   "metadata": {},
   "outputs": [
    {
     "ename": "SyntaxError",
     "evalue": "invalid syntax (1028119266.py, line 1)",
     "output_type": "error",
     "traceback": [
      "\u001b[1;36m  Input \u001b[1;32mIn [151]\u001b[1;36m\u001b[0m\n\u001b[1;33m    0 if len(xyz)-set(xyz) == 0 else\u001b[0m\n\u001b[1;37m                                     ^\u001b[0m\n\u001b[1;31mSyntaxError\u001b[0m\u001b[1;31m:\u001b[0m invalid syntax\n"
     ]
    }
   ],
   "source": [
    "0 if len(xyz)-set(xyz) == 0 else "
   ]
  },
  {
   "cell_type": "code",
   "execution_count": null,
   "id": "d8e42ce1",
   "metadata": {},
   "outputs": [],
   "source": [
    "py dosyasını import ederek kullanıyorsak bunun adı modul\n",
    "py dosyasını açıp doğrudan kullanıyorsak script"
   ]
  },
  {
   "cell_type": "code",
   "execution_count": null,
   "id": "7bcb19fa",
   "metadata": {},
   "outputs": [],
   "source": [
    "py dosyasını import ederek kullanıyorsak bunun adı modul\n",
    "py dosyasını açıp doğrudan kullanıyorsak script\n",
    "\n",
    "fonk, değişkenler, kod blokları ----> modül (şuana kadar yaptığımız şeyler)\n",
    "başka yerde kullanmak için (import ederek) ----> modül\n",
    "\n",
    "scrpit python kodu demektir; py dosyasında değişkenler etc.\n",
    "yorumlayıcı kapatınca her şey gider; gitmemesi için py dosyası olarak kaydederiz, bu py dosyasını sonradan açıp tekrar çalışmaya başladığımzda biz aslında SCRİPT i açıp kullanmış oluruz.\n",
    "ama bu dosyayı başka bir kodun içinde import edersek ve bu dosyadaki bir fonk. çağırır kullanırsak biz bu durumda modulü kullanmış oluruz."
   ]
  },
  {
   "cell_type": "code",
   "execution_count": 152,
   "id": "7387daae",
   "metadata": {},
   "outputs": [
    {
     "data": {
      "text/plain": [
       "'C:\\\\Users\\\\ASUS\\\\OneDrive\\\\Masaüstü\\\\arşiv\\\\11.06.2022\\\\python plus'"
      ]
     },
     "execution_count": 152,
     "metadata": {},
     "output_type": "execute_result"
    }
   ],
   "source": [
    "pwd"
   ]
  },
  {
   "cell_type": "markdown",
   "id": "fcfd8ad8",
   "metadata": {},
   "source": [
    "# colaba dosya yükleme yöntemlerinden biri; zip olarak dosyayı colaba ekleme"
   ]
  },
  {
   "cell_type": "code",
   "execution_count": 153,
   "id": "6b7f80b2",
   "metadata": {},
   "outputs": [
    {
     "ename": "FileNotFoundError",
     "evalue": "[Errno 2] No such file or directory: 'bu kısma ziplenecek dosyanın yolu'",
     "output_type": "error",
     "traceback": [
      "\u001b[1;31m---------------------------------------------------------------------------\u001b[0m",
      "\u001b[1;31mFileNotFoundError\u001b[0m                         Traceback (most recent call last)",
      "Input \u001b[1;32mIn [153]\u001b[0m, in \u001b[0;36m<cell line: 2>\u001b[1;34m()\u001b[0m\n\u001b[0;32m      1\u001b[0m \u001b[38;5;28;01mimport\u001b[39;00m \u001b[38;5;21;01mzipfile\u001b[39;00m\n\u001b[1;32m----> 2\u001b[0m \u001b[38;5;28;01mwith\u001b[39;00m \u001b[43mzipfile\u001b[49m\u001b[38;5;241;43m.\u001b[39;49m\u001b[43mZipFile\u001b[49m\u001b[43m(\u001b[49m\u001b[38;5;124;43m\"\u001b[39;49m\u001b[38;5;124;43mbu kısma ziplenecek dosyanın yolu\u001b[39;49m\u001b[38;5;124;43m\"\u001b[39;49m\u001b[43m,\u001b[49m\u001b[43m \u001b[49m\u001b[38;5;124;43m\"\u001b[39;49m\u001b[38;5;124;43mr\u001b[39;49m\u001b[38;5;124;43m\"\u001b[39;49m\u001b[43m)\u001b[49m \u001b[38;5;28;01mas\u001b[39;00m zip_ref:\n\u001b[0;32m      3\u001b[0m     zip_ref\u001b[38;5;241m.\u001b[39mextractall(\u001b[38;5;124m\"\u001b[39m\u001b[38;5;124mbu kısma ziplenecek dosyanın yolu\u001b[39m\u001b[38;5;124m\"\u001b[39m)\n",
      "File \u001b[1;32m~\\AppData\\Local\\Programs\\Python\\Python310\\lib\\zipfile.py:1249\u001b[0m, in \u001b[0;36mZipFile.__init__\u001b[1;34m(self, file, mode, compression, allowZip64, compresslevel, strict_timestamps)\u001b[0m\n\u001b[0;32m   1247\u001b[0m \u001b[38;5;28;01mwhile\u001b[39;00m \u001b[38;5;28;01mTrue\u001b[39;00m:\n\u001b[0;32m   1248\u001b[0m     \u001b[38;5;28;01mtry\u001b[39;00m:\n\u001b[1;32m-> 1249\u001b[0m         \u001b[38;5;28mself\u001b[39m\u001b[38;5;241m.\u001b[39mfp \u001b[38;5;241m=\u001b[39m \u001b[43mio\u001b[49m\u001b[38;5;241;43m.\u001b[39;49m\u001b[43mopen\u001b[49m\u001b[43m(\u001b[49m\u001b[43mfile\u001b[49m\u001b[43m,\u001b[49m\u001b[43m \u001b[49m\u001b[43mfilemode\u001b[49m\u001b[43m)\u001b[49m\n\u001b[0;32m   1250\u001b[0m     \u001b[38;5;28;01mexcept\u001b[39;00m \u001b[38;5;167;01mOSError\u001b[39;00m:\n\u001b[0;32m   1251\u001b[0m         \u001b[38;5;28;01mif\u001b[39;00m filemode \u001b[38;5;129;01min\u001b[39;00m modeDict:\n",
      "\u001b[1;31mFileNotFoundError\u001b[0m: [Errno 2] No such file or directory: 'bu kısma ziplenecek dosyanın yolu'"
     ]
    }
   ],
   "source": [
    "import zipfile\n",
    "with zipfile.ZipFile(\"bu kısma ziplenecek dosyanın yolu\", \"r\") as zip_ref:\n",
    "    zip_ref.extractall(\"bu kısma ziplenecek dosyanın yolu\")"
   ]
  },
  {
   "cell_type": "code",
   "execution_count": 154,
   "id": "fe1112e7",
   "metadata": {},
   "outputs": [
    {
     "ename": "FileNotFoundError",
     "evalue": "[Errno 2] No such file or directory: '/content/upper_package.zip'",
     "output_type": "error",
     "traceback": [
      "\u001b[1;31m---------------------------------------------------------------------------\u001b[0m",
      "\u001b[1;31mFileNotFoundError\u001b[0m                         Traceback (most recent call last)",
      "Input \u001b[1;32mIn [154]\u001b[0m, in \u001b[0;36m<cell line: 2>\u001b[1;34m()\u001b[0m\n\u001b[0;32m      1\u001b[0m \u001b[38;5;28;01mimport\u001b[39;00m \u001b[38;5;21;01mzipfile\u001b[39;00m\n\u001b[1;32m----> 2\u001b[0m \u001b[38;5;28;01mwith\u001b[39;00m \u001b[43mzipfile\u001b[49m\u001b[38;5;241;43m.\u001b[39;49m\u001b[43mZipFile\u001b[49m\u001b[43m(\u001b[49m\u001b[38;5;124;43m\"\u001b[39;49m\u001b[38;5;124;43m/content/upper_package.zip\u001b[39;49m\u001b[38;5;124;43m\"\u001b[39;49m\u001b[43m,\u001b[49m\u001b[43m \u001b[49m\u001b[38;5;124;43m\"\u001b[39;49m\u001b[38;5;124;43mr\u001b[39;49m\u001b[38;5;124;43m\"\u001b[39;49m\u001b[43m)\u001b[49m \u001b[38;5;28;01mas\u001b[39;00m zip_ref:\n\u001b[0;32m      3\u001b[0m     zip_ref\u001b[38;5;241m.\u001b[39mextractall(\u001b[38;5;124m\"\u001b[39m\u001b[38;5;124m/content/upper_package\u001b[39m\u001b[38;5;124m\"\u001b[39m)\n",
      "File \u001b[1;32m~\\AppData\\Local\\Programs\\Python\\Python310\\lib\\zipfile.py:1249\u001b[0m, in \u001b[0;36mZipFile.__init__\u001b[1;34m(self, file, mode, compression, allowZip64, compresslevel, strict_timestamps)\u001b[0m\n\u001b[0;32m   1247\u001b[0m \u001b[38;5;28;01mwhile\u001b[39;00m \u001b[38;5;28;01mTrue\u001b[39;00m:\n\u001b[0;32m   1248\u001b[0m     \u001b[38;5;28;01mtry\u001b[39;00m:\n\u001b[1;32m-> 1249\u001b[0m         \u001b[38;5;28mself\u001b[39m\u001b[38;5;241m.\u001b[39mfp \u001b[38;5;241m=\u001b[39m \u001b[43mio\u001b[49m\u001b[38;5;241;43m.\u001b[39;49m\u001b[43mopen\u001b[49m\u001b[43m(\u001b[49m\u001b[43mfile\u001b[49m\u001b[43m,\u001b[49m\u001b[43m \u001b[49m\u001b[43mfilemode\u001b[49m\u001b[43m)\u001b[49m\n\u001b[0;32m   1250\u001b[0m     \u001b[38;5;28;01mexcept\u001b[39;00m \u001b[38;5;167;01mOSError\u001b[39;00m:\n\u001b[0;32m   1251\u001b[0m         \u001b[38;5;28;01mif\u001b[39;00m filemode \u001b[38;5;129;01min\u001b[39;00m modeDict:\n",
      "\u001b[1;31mFileNotFoundError\u001b[0m: [Errno 2] No such file or directory: '/content/upper_package.zip'"
     ]
    }
   ],
   "source": [
    "import zipfile\n",
    "with zipfile.ZipFile(\"/content/upper_package.zip\", \"r\") as zip_ref:\n",
    "    zip_ref.extractall(\"/content/upper_package\")"
   ]
  },
  {
   "cell_type": "code",
   "execution_count": 159,
   "id": "9bde2e18",
   "metadata": {},
   "outputs": [],
   "source": [
    "import math"
   ]
  },
  {
   "cell_type": "code",
   "execution_count": 160,
   "id": "46a49384",
   "metadata": {},
   "outputs": [
    {
     "name": "stdout",
     "output_type": "stream",
     "text": [
      "['__doc__', '__loader__', '__name__', '__package__', '__spec__', 'acos', 'acosh', 'asin', 'asinh', 'atan', 'atan2', 'atanh', 'ceil', 'comb', 'copysign', 'cos', 'cosh', 'degrees', 'dist', 'e', 'erf', 'erfc', 'exp', 'expm1', 'fabs', 'factorial', 'floor', 'fmod', 'frexp', 'fsum', 'gamma', 'gcd', 'hypot', 'inf', 'isclose', 'isfinite', 'isinf', 'isnan', 'isqrt', 'lcm', 'ldexp', 'lgamma', 'log', 'log10', 'log1p', 'log2', 'modf', 'nan', 'nextafter', 'perm', 'pi', 'pow', 'prod', 'radians', 'remainder', 'sin', 'sinh', 'sqrt', 'tan', 'tanh', 'tau', 'trunc', 'ulp']\n"
     ]
    }
   ],
   "source": [
    "print(dir(math))"
   ]
  },
  {
   "cell_type": "code",
   "execution_count": 161,
   "id": "610cc80e",
   "metadata": {},
   "outputs": [
    {
     "name": "stdout",
     "output_type": "stream",
     "text": [
      "ModuleSpec(name='math', loader=<class '_frozen_importlib.BuiltinImporter'>, origin='built-in')\n"
     ]
    }
   ],
   "source": [
    "print(math.__spec__)"
   ]
  },
  {
   "cell_type": "code",
   "execution_count": 162,
   "id": "ed0b8e2a",
   "metadata": {},
   "outputs": [
    {
     "name": "stdout",
     "output_type": "stream",
     "text": [
      "math\n"
     ]
    }
   ],
   "source": [
    "print(math.__name__)"
   ]
  },
  {
   "cell_type": "code",
   "execution_count": 163,
   "id": "0937e7ec",
   "metadata": {},
   "outputs": [],
   "source": [
    "from math import pi, factorial, log10"
   ]
  },
  {
   "cell_type": "code",
   "execution_count": 164,
   "id": "482ff44a",
   "metadata": {},
   "outputs": [
    {
     "data": {
      "text/plain": [
       "3.141592653589793"
      ]
     },
     "execution_count": 164,
     "metadata": {},
     "output_type": "execute_result"
    }
   ],
   "source": [
    "pi"
   ]
  },
  {
   "cell_type": "code",
   "execution_count": 165,
   "id": "f5457962",
   "metadata": {},
   "outputs": [
    {
     "data": {
      "text/plain": [
       "24"
      ]
     },
     "execution_count": 165,
     "metadata": {},
     "output_type": "execute_result"
    }
   ],
   "source": [
    "factorial(4)"
   ]
  },
  {
   "cell_type": "code",
   "execution_count": 166,
   "id": "36cbae8f",
   "metadata": {},
   "outputs": [
    {
     "data": {
      "text/plain": [
       "4.0417873189717515"
      ]
     },
     "execution_count": 166,
     "metadata": {},
     "output_type": "execute_result"
    }
   ],
   "source": [
    "log10(11010)"
   ]
  },
  {
   "cell_type": "code",
   "execution_count": 167,
   "id": "545bdcdf",
   "metadata": {},
   "outputs": [],
   "source": [
    "from math import*   # kullanma bu şekilde yazınca math. yazdığımda gelen methodlar gelmiyor."
   ]
  },
  {
   "cell_type": "code",
   "execution_count": 168,
   "id": "45010950",
   "metadata": {},
   "outputs": [
    {
     "data": {
      "text/plain": [
       "120"
      ]
     },
     "execution_count": 168,
     "metadata": {},
     "output_type": "execute_result"
    }
   ],
   "source": [
    "sonuç = 1\n",
    "for i in range(1, 6):\n",
    "    sonuç *= i\n",
    "sonuç"
   ]
  },
  {
   "cell_type": "code",
   "execution_count": 169,
   "id": "1727e1b7",
   "metadata": {},
   "outputs": [],
   "source": [
    "def my_factorial(n):\n",
    "    sonuç = 1\n",
    "    for i in range(1, n+1):\n",
    "        sonuç *= i\n",
    "    if n == 1 or n == 0:\n",
    "        return 1\n",
    "    else:\n",
    "        return sonuç"
   ]
  },
  {
   "cell_type": "code",
   "execution_count": null,
   "id": "d3e796f3",
   "metadata": {},
   "outputs": [],
   "source": []
  },
  {
   "cell_type": "code",
   "execution_count": null,
   "id": "88319abe",
   "metadata": {},
   "outputs": [],
   "source": []
  }
 ],
 "metadata": {
  "kernelspec": {
   "display_name": "Python 3 (ipykernel)",
   "language": "python",
   "name": "python3"
  },
  "language_info": {
   "codemirror_mode": {
    "name": "ipython",
    "version": 3
   },
   "file_extension": ".py",
   "mimetype": "text/x-python",
   "name": "python",
   "nbconvert_exporter": "python",
   "pygments_lexer": "ipython3",
   "version": "3.10.4"
  }
 },
 "nbformat": 4,
 "nbformat_minor": 5
}
