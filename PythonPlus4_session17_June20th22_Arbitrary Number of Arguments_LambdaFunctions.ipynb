{
 "cells": [
  {
   "cell_type": "markdown",
   "id": "c6ce4647",
   "metadata": {},
   "source": [
    "<img src=\"https://docs.google.com/uc?id=14xeXxFrVRjvOoUYWn_GuyE-v84wVzrqr\" class=\"img-fluid\" alt=\"CLRWY\" width=\"400\" height=\"200\">"
   ]
  },
  {
   "cell_type": "markdown",
   "id": "17517012",
   "metadata": {},
   "source": [
    "<h1><p style=\"text-align: center; color:darkblue\">Python In-Class <br>20 June 2022</p><h1>"
   ]
  },
  {
   "cell_type": "code",
   "execution_count": 5,
   "id": "43356836",
   "metadata": {},
   "outputs": [],
   "source": [
    "def slicer(* num) :\n",
    "    evens = []\n",
    "    odds = []\n",
    "    \n",
    "    for i in num :\n",
    "        if i % 2 == 0 :\n",
    "            evens.append(i)\n",
    "        else :\n",
    "            odds.append(i)\n",
    "        \n",
    "    print(\"even list :\", evens)\n",
    "    print(\"odds list :\", odds)"
   ]
  },
  {
   "cell_type": "code",
   "execution_count": 6,
   "id": "409893fc",
   "metadata": {},
   "outputs": [
    {
     "name": "stdout",
     "output_type": "stream",
     "text": [
      "even list : [2, 4, 6, 8]\n",
      "odds list : [1, 3, 5, 7, 9]\n"
     ]
    }
   ],
   "source": [
    "slicer(1, 2, 3, 4, 5, 6, 7, 8, 9)"
   ]
  },
  {
   "cell_type": "code",
   "execution_count": 7,
   "id": "074c33f6",
   "metadata": {},
   "outputs": [],
   "source": [
    "def slicer(* numbers) :\n",
    "    evens = [numbers[1::2]]\n",
    "    \n",
    "    odds = [numbers[0::2]]\n",
    "    \n",
    "    print(\"even list :\", evens)\n",
    "    print(\"odds list :\", odds)"
   ]
  },
  {
   "cell_type": "code",
   "execution_count": 8,
   "id": "4123c892",
   "metadata": {},
   "outputs": [
    {
     "name": "stdout",
     "output_type": "stream",
     "text": [
      "even list : [(2, 4, 6, 8)]\n",
      "odds list : [(1, 3, 5, 7, 9)]\n"
     ]
    }
   ],
   "source": [
    "slicer(1, 2, 3, 4, 5, 6, 7, 8, 9)"
   ]
  },
  {
   "cell_type": "code",
   "execution_count": 9,
   "id": "ca80d515",
   "metadata": {},
   "outputs": [],
   "source": [
    "def organizer(** people) :\n",
    "    \n",
    "    names = []\n",
    "    ages = []\n",
    "    \n",
    "    for key, values in people.items() :\n",
    "        names.append(key)\n",
    "        ages.append(values)\n",
    "    print(names, ages, sep=\"\\n\")"
   ]
  },
  {
   "cell_type": "code",
   "execution_count": 10,
   "id": "1105a7ec",
   "metadata": {},
   "outputs": [
    {
     "name": "stdout",
     "output_type": "stream",
     "text": [
      "['Beth', 'Buğra', 'Yunus', 'Asuman']\n",
      "[26, 41, 33, 24]\n"
     ]
    }
   ],
   "source": [
    "organizer(Beth = 26, Buğra = 41, Yunus = 33, Asuman = 24)"
   ]
  },
  {
   "cell_type": "code",
   "execution_count": 11,
   "id": "b71bb12d",
   "metadata": {},
   "outputs": [
    {
     "name": "stdout",
     "output_type": "stream",
     "text": [
      "names : ['Beth', 'Buğra', 'Yunus', 'Asuman']\n",
      "ages : [26, 41, 33, 24]\n"
     ]
    }
   ],
   "source": [
    "def organizer(** data):\n",
    "    names = [i for i in data.keys()]\n",
    "    ages = [i for i in data.values()]\n",
    "    \n",
    "    print(\"names :\", names)\n",
    "    print(\"ages :\", ages)\n",
    "    \n",
    "organizer(Beth = 26, Buğra = 41, Yunus = 33, Asuman = 24)"
   ]
  },
  {
   "cell_type": "code",
   "execution_count": null,
   "id": "3a8f231f",
   "metadata": {},
   "outputs": [],
   "source": []
  },
  {
   "cell_type": "code",
   "execution_count": null,
   "id": "42920553",
   "metadata": {},
   "outputs": [],
   "source": [
    "filter()"
   ]
  },
  {
   "cell_type": "code",
   "execution_count": 14,
   "id": "2fded73d",
   "metadata": {},
   "outputs": [
    {
     "data": {
      "text/plain": [
       "['a', 'e', 'u', 'i', 'u', 'o', 'ü', 'ö', 'ı']"
      ]
     },
     "execution_count": 14,
     "metadata": {},
     "output_type": "execute_result"
    }
   ],
   "source": [
    "vowels = \"a e u i u o ü ö ı\".split()\n",
    "vowels"
   ]
  },
  {
   "cell_type": "code",
   "execution_count": 12,
   "id": "30934ea2",
   "metadata": {},
   "outputs": [],
   "source": [
    "cümle = \"ben size ders anlatırken huzur buluyorum. dertlerimi unutuyorum\""
   ]
  },
  {
   "cell_type": "code",
   "execution_count": 15,
   "id": "6c9f5816",
   "metadata": {},
   "outputs": [],
   "source": [
    "def vowel(letter) :\n",
    "    vowels = \"a e u i u o ü ö ı\".split()\n",
    "    if letter.lower() in vowels :\n",
    "        return True\n",
    "    else :\n",
    "        return False"
   ]
  },
  {
   "cell_type": "code",
   "execution_count": 16,
   "id": "865db857",
   "metadata": {},
   "outputs": [
    {
     "data": {
      "text/plain": [
       "<filter at 0x1f1f395bb80>"
      ]
     },
     "execution_count": 16,
     "metadata": {},
     "output_type": "execute_result"
    }
   ],
   "source": [
    "filter(vowel, cümle)"
   ]
  },
  {
   "cell_type": "code",
   "execution_count": 18,
   "id": "3a57b7da",
   "metadata": {},
   "outputs": [],
   "source": [
    "filtered_vowels = filter(vowel, cümle)"
   ]
  },
  {
   "cell_type": "code",
   "execution_count": 19,
   "id": "410926d3",
   "metadata": {},
   "outputs": [
    {
     "data": {
      "text/plain": [
       "['e',\n",
       " 'i',\n",
       " 'e',\n",
       " 'e',\n",
       " 'a',\n",
       " 'a',\n",
       " 'ı',\n",
       " 'e',\n",
       " 'u',\n",
       " 'u',\n",
       " 'u',\n",
       " 'u',\n",
       " 'o',\n",
       " 'u',\n",
       " 'e',\n",
       " 'e',\n",
       " 'i',\n",
       " 'i',\n",
       " 'u',\n",
       " 'u',\n",
       " 'u',\n",
       " 'o',\n",
       " 'u']"
      ]
     },
     "execution_count": 19,
     "metadata": {},
     "output_type": "execute_result"
    }
   ],
   "source": [
    "list(filtered_vowels)"
   ]
  },
  {
   "cell_type": "code",
   "execution_count": 21,
   "id": "47c1f1c2",
   "metadata": {},
   "outputs": [],
   "source": [
    "filtered_vowels = filter(vowel, cümle)"
   ]
  },
  {
   "cell_type": "code",
   "execution_count": 22,
   "id": "25db499a",
   "metadata": {},
   "outputs": [
    {
     "name": "stdout",
     "output_type": "stream",
     "text": [
      "e i e e a a ı e u u u u o u e e i i u u u o u\n"
     ]
    }
   ],
   "source": [
    "print(* filtered_vowels)"
   ]
  },
  {
   "cell_type": "code",
   "execution_count": 23,
   "id": "34e85254",
   "metadata": {},
   "outputs": [
    {
     "name": "stdout",
     "output_type": "stream",
     "text": [
      "b e n   s i z e   d e r s   a n l a t ı r k e n   h u z u r   b u l u y o r u m .   d e r t l e r i m i   u n u t u y o r u m\n"
     ]
    }
   ],
   "source": [
    "print(* filter(None, cümle))"
   ]
  },
  {
   "cell_type": "code",
   "execution_count": null,
   "id": "453f253f",
   "metadata": {},
   "outputs": [],
   "source": [
    "cümle = \"ben size ders anlatırken huzur buluyorum. dertlerimi unutuyorum\""
   ]
  },
  {
   "cell_type": "code",
   "execution_count": null,
   "id": "572741db",
   "metadata": {},
   "outputs": [],
   "source": []
  },
  {
   "cell_type": "code",
   "execution_count": 24,
   "id": "c31b6e46",
   "metadata": {},
   "outputs": [],
   "source": [
    "listem = [1, 2, 3, 4]"
   ]
  },
  {
   "cell_type": "code",
   "execution_count": 25,
   "id": "9a66fc6c",
   "metadata": {},
   "outputs": [],
   "source": [
    "listem = [1, 2, 3, 4]\n",
    "\n",
    "def kare(x) :\n",
    "    return x ** 2"
   ]
  },
  {
   "cell_type": "code",
   "execution_count": 26,
   "id": "1b7b5da9",
   "metadata": {},
   "outputs": [
    {
     "name": "stdout",
     "output_type": "stream",
     "text": [
      "[1, 4, 9, 16]\n"
     ]
    }
   ],
   "source": [
    "yeni_liste = []\n",
    "\n",
    "for i in listem :\n",
    "    yeni_liste.append(kare(i))\n",
    "print(yeni_liste)"
   ]
  },
  {
   "cell_type": "code",
   "execution_count": 28,
   "id": "53e99536",
   "metadata": {},
   "outputs": [
    {
     "data": {
      "text/plain": [
       "[1, 4, 9, 16]"
      ]
     },
     "execution_count": 28,
     "metadata": {},
     "output_type": "execute_result"
    }
   ],
   "source": [
    "list(map(kare, listem))"
   ]
  },
  {
   "cell_type": "code",
   "execution_count": null,
   "id": "dfc41c73",
   "metadata": {},
   "outputs": [],
   "source": []
  },
  {
   "cell_type": "code",
   "execution_count": 31,
   "id": "f527d38c",
   "metadata": {},
   "outputs": [],
   "source": [
    "condition = False"
   ]
  },
  {
   "cell_type": "code",
   "execution_count": 32,
   "id": "cba77c76",
   "metadata": {},
   "outputs": [
    {
     "data": {
      "text/plain": [
       "'even'"
      ]
     },
     "execution_count": 32,
     "metadata": {},
     "output_type": "execute_result"
    }
   ],
   "source": [
    "\"odd\" if condition else \"even\""
   ]
  },
  {
   "cell_type": "code",
   "execution_count": 33,
   "id": "9d163fc7",
   "metadata": {},
   "outputs": [
    {
     "data": {
      "text/plain": [
       "<function __main__.<lambda>(x)>"
      ]
     },
     "execution_count": 33,
     "metadata": {},
     "output_type": "execute_result"
    }
   ],
   "source": [
    "lambda x : \"odd\" if x % 2 != 0 else \"even\""
   ]
  },
  {
   "cell_type": "code",
   "execution_count": 34,
   "id": "3b65356f",
   "metadata": {},
   "outputs": [
    {
     "data": {
      "text/plain": [
       "'even'"
      ]
     },
     "execution_count": 34,
     "metadata": {},
     "output_type": "execute_result"
    }
   ],
   "source": [
    "(lambda x : \"odd\" if x % 2 != 0 else \"even\")(4)"
   ]
  },
  {
   "cell_type": "code",
   "execution_count": 35,
   "id": "25d4ae90",
   "metadata": {},
   "outputs": [
    {
     "data": {
      "text/plain": [
       "'odd'"
      ]
     },
     "execution_count": 35,
     "metadata": {},
     "output_type": "execute_result"
    }
   ],
   "source": [
    "(lambda x : \"odd\" if x % 2 != 0 else \"even\")(3)"
   ]
  },
  {
   "cell_type": "code",
   "execution_count": 36,
   "id": "d30cbb55",
   "metadata": {},
   "outputs": [
    {
     "data": {
      "text/plain": [
       "4.0"
      ]
     },
     "execution_count": 36,
     "metadata": {},
     "output_type": "execute_result"
    }
   ],
   "source": [
    "(lambda x, y : (x + y) / 2)(3, 5)"
   ]
  },
  {
   "cell_type": "code",
   "execution_count": 37,
   "id": "95149688",
   "metadata": {},
   "outputs": [],
   "source": [
    "ortalama = (lambda x, y : (x + y) / 2)(3, 5)"
   ]
  },
  {
   "cell_type": "code",
   "execution_count": 38,
   "id": "4f42b38e",
   "metadata": {},
   "outputs": [
    {
     "data": {
      "text/plain": [
       "4.0"
      ]
     },
     "execution_count": 38,
     "metadata": {},
     "output_type": "execute_result"
    }
   ],
   "source": [
    "ortalama"
   ]
  },
  {
   "cell_type": "code",
   "execution_count": 39,
   "id": "f6d03413",
   "metadata": {},
   "outputs": [
    {
     "data": {
      "text/plain": [
       "<function __main__.<lambda>(x, y)>"
      ]
     },
     "execution_count": 39,
     "metadata": {},
     "output_type": "execute_result"
    }
   ],
   "source": [
    "lambda x, y : (x + y) / 2"
   ]
  },
  {
   "cell_type": "code",
   "execution_count": 40,
   "id": "91f60047",
   "metadata": {},
   "outputs": [],
   "source": [
    "ortalama2 = (lambda x, y : (x + y) / 2)"
   ]
  },
  {
   "cell_type": "code",
   "execution_count": 41,
   "id": "0e883376",
   "metadata": {},
   "outputs": [
    {
     "data": {
      "text/plain": [
       "4.0"
      ]
     },
     "execution_count": 41,
     "metadata": {},
     "output_type": "execute_result"
    }
   ],
   "source": [
    "ortalama2(3, 5)"
   ]
  },
  {
   "cell_type": "code",
   "execution_count": 42,
   "id": "61ac8eb3",
   "metadata": {},
   "outputs": [
    {
     "data": {
      "text/plain": [
       "'ila'"
      ]
     },
     "execution_count": 42,
     "metadata": {},
     "output_type": "execute_result"
    }
   ],
   "source": [
    "\"ali\"[::-1]"
   ]
  },
  {
   "cell_type": "code",
   "execution_count": 43,
   "id": "6437b656",
   "metadata": {},
   "outputs": [
    {
     "data": {
      "text/plain": [
       "<function __main__.<lambda>(x)>"
      ]
     },
     "execution_count": 43,
     "metadata": {},
     "output_type": "execute_result"
    }
   ],
   "source": [
    "(lambda x : x[::-1])"
   ]
  },
  {
   "cell_type": "code",
   "execution_count": 44,
   "id": "df216595",
   "metadata": {},
   "outputs": [
    {
     "data": {
      "text/plain": [
       "'ila'"
      ]
     },
     "execution_count": 44,
     "metadata": {},
     "output_type": "execute_result"
    }
   ],
   "source": [
    "(lambda x : x[::-1])(\"ali\")"
   ]
  },
  {
   "cell_type": "code",
   "execution_count": 45,
   "id": "a5801ed4",
   "metadata": {},
   "outputs": [
    {
     "data": {
      "text/plain": [
       "[7, 5, 3, 1]"
      ]
     },
     "execution_count": 45,
     "metadata": {},
     "output_type": "execute_result"
    }
   ],
   "source": [
    "(lambda x : x[::-1])([1,3,5,7])"
   ]
  },
  {
   "cell_type": "code",
   "execution_count": null,
   "id": "4be9f649",
   "metadata": {},
   "outputs": [],
   "source": []
  },
  {
   "cell_type": "code",
   "execution_count": 47,
   "id": "85c3b5ed",
   "metadata": {},
   "outputs": [],
   "source": [
    "sayılar = [1, 2, 3, 4, 5, 6]"
   ]
  },
  {
   "cell_type": "code",
   "execution_count": null,
   "id": "f2558589",
   "metadata": {},
   "outputs": [],
   "source": [
    "(lambda x : \"odd\" if x % 2 != 0 else \"even\")"
   ]
  },
  {
   "cell_type": "code",
   "execution_count": null,
   "id": "f6170f4c",
   "metadata": {},
   "outputs": [],
   "source": [
    "i, \":\", (lambda x : \"odd\" if x % 2 != 0 else \"even\")"
   ]
  },
  {
   "cell_type": "code",
   "execution_count": 48,
   "id": "2bc79c5a",
   "metadata": {},
   "outputs": [
    {
     "name": "stdout",
     "output_type": "stream",
     "text": [
      "1 : odd\n",
      "2 : even\n",
      "3 : odd\n",
      "4 : even\n",
      "5 : odd\n",
      "6 : even\n"
     ]
    }
   ],
   "source": [
    "for i in sayılar :\n",
    "    print(i, \":\", (lambda x : \"odd\" if x % 2 != 0 else \"even\")(i))"
   ]
  },
  {
   "cell_type": "code",
   "execution_count": 49,
   "id": "73e81af5",
   "metadata": {},
   "outputs": [],
   "source": [
    "iterable = \"clarusway\"\n",
    "\n",
    "reverser = lambda x : x[::-1]"
   ]
  },
  {
   "cell_type": "code",
   "execution_count": 50,
   "id": "51dce021",
   "metadata": {},
   "outputs": [
    {
     "data": {
      "text/plain": [
       "<function __main__.<lambda>(x)>"
      ]
     },
     "execution_count": 50,
     "metadata": {},
     "output_type": "execute_result"
    }
   ],
   "source": [
    "reverser"
   ]
  },
  {
   "cell_type": "code",
   "execution_count": 51,
   "id": "e12750b2",
   "metadata": {},
   "outputs": [
    {
     "data": {
      "text/plain": [
       "'yawsuralc'"
      ]
     },
     "execution_count": 51,
     "metadata": {},
     "output_type": "execute_result"
    }
   ],
   "source": [
    "reverser(iterable)"
   ]
  },
  {
   "cell_type": "code",
   "execution_count": null,
   "id": "e33d03c7",
   "metadata": {},
   "outputs": [],
   "source": []
  },
  {
   "cell_type": "code",
   "execution_count": null,
   "id": "6efc5c6d",
   "metadata": {},
   "outputs": [],
   "source": []
  }
 ],
 "metadata": {
  "kernelspec": {
   "display_name": "Python 3 (ipykernel)",
   "language": "python",
   "name": "python3"
  },
  "language_info": {
   "codemirror_mode": {
    "name": "ipython",
    "version": 3
   },
   "file_extension": ".py",
   "mimetype": "text/x-python",
   "name": "python",
   "nbconvert_exporter": "python",
   "pygments_lexer": "ipython3",
   "version": "3.9.11"
  }
 },
 "nbformat": 4,
 "nbformat_minor": 5
}
