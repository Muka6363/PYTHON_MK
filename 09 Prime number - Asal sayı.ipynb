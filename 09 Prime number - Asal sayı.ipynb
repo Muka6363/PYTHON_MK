{
 "cells": [
  {
   "cell_type": "raw",
   "id": "8cf21e12",
   "metadata": {},
   "source": [
    "01 Haziran 2022, Boosting the Logic of the Loops"
   ]
  },
  {
   "cell_type": "raw",
   "id": "6b377538",
   "metadata": {},
   "source": [
    "In this part of the lesson, you will write some complex code to help you better understand the logic of the loop. Let's begin with a simple one: We will try to find the sum of the numbers from 1 to 74."
   ]
  },
  {
   "cell_type": "code",
   "execution_count": 2,
   "id": "acd520d0",
   "metadata": {},
   "outputs": [
    {
     "name": "stdout",
     "output_type": "stream",
     "text": [
      "2775\n"
     ]
    }
   ],
   "source": [
    "sum_num=0\n",
    "\n",
    "for i in range(1, 75):\n",
    "    sum_num += i   \n",
    "print(sum_num)"
   ]
  },
  {
   "cell_type": "raw",
   "id": "4cbdeee2",
   "metadata": {},
   "source": [
    "Homework:\n",
    "Write a program that takes a number from the user and prints the result to check if it is a prime number.\n",
    "Asal sayılar, Sadece kendisine ve 1 sayısına kalansız bölünebilen 1'den büyük tam sayılardır.\n",
    "\n",
    "burada döngüyü for ile kurup 2 ve 3'e kalansiz bölünüp/bölünemediğine bakmış. ve counter 3'ü geçince döngü durmuş"
   ]
  },
  {
   "cell_type": "code",
   "execution_count": 1,
   "id": "cd1cc632",
   "metadata": {},
   "outputs": [
    {
     "name": "stdout",
     "output_type": "stream",
     "text": [
      "Enter a number to check if it is a prime number : 43\n",
      "43 is a prime number \n"
     ]
    }
   ],
   "source": [
    "n=int(input('Enter a number to check if it is a prime number : '))\n",
    "count=0\n",
    "for i in range(1, n+1):\n",
    "    if n%i==0 : count += 1\n",
    "    else : count += 0\n",
    "if count < 3: print('{} is a prime number '.format(n))\n",
    "else : print('{} is not a prime number'.format(n))"
   ]
  },
  {
   "cell_type": "code",
   "execution_count": null,
   "id": "8ed1a076",
   "metadata": {},
   "outputs": [],
   "source": [
    "# böyle de yapılabilir.\n",
    "\n",
    "n=int(input('Enter a number to check if it is a prime number : '))\n",
    "    \n",
    "if n%2==0 or n%3==0:\n",
    "    print('{} is not a prime number '.format(n))\n",
    "        \n",
    "else :\n",
    "    print('{} is  a prime number'.format(n))"
   ]
  },
  {
   "cell_type": "raw",
   "id": "c6b80b9a",
   "metadata": {},
   "source": [
    "Now let's do a little more complicated exercise. This time we will try to print prime numbers between 1 - 100. \n",
    "We will display prime numbers in a list form. So, we'll collect them in a list."
   ]
  },
  {
   "cell_type": "code",
   "execution_count": 25,
   "id": "9708eb6c",
   "metadata": {},
   "outputs": [
    {
     "name": "stdout",
     "output_type": "stream",
     "text": [
      "[2, 3, 5, 7, 11, 13, 17, 19, 23, 29, 31, 37, 41, 43, 47, 53, 59, 61, 67, 71, 73, 79, 83, 89, 97]\n"
     ]
    }
   ],
   "source": [
    "prime=[]  # created an empty list to collect prime numbers in it\n",
    "\n",
    "for num in range(2, 101):\n",
    "    status = True\n",
    "    for i in range(2, num):\n",
    "        if num % i == 0: # check if the only factors are 1 and itself\n",
    "            status = False\n",
    "    if status:\n",
    "        prime.append(num)  # collect prime numbers in the list\n",
    "\n",
    "print(prime)"
   ]
  },
  {
   "cell_type": "code",
   "execution_count": null,
   "id": "87b13c0a",
   "metadata": {},
   "outputs": [],
   "source": []
  },
  {
   "cell_type": "raw",
   "id": "5f928b33",
   "metadata": {},
   "source": [
    "F3522 - Jr.Frank --> Largest prime factor?\n",
    "The prime factors of 13195 are 5, 7, 13 and 29.\n",
    "What is the largest prime factor of the number 600851475143? "
   ]
  },
  {
   "cell_type": "code",
   "execution_count": null,
   "id": "64cffcc0",
   "metadata": {},
   "outputs": [],
   "source": []
  },
  {
   "cell_type": "code",
   "execution_count": null,
   "id": "c49d1560",
   "metadata": {},
   "outputs": [],
   "source": []
  },
  {
   "cell_type": "code",
   "execution_count": null,
   "id": "843d1508",
   "metadata": {},
   "outputs": [],
   "source": []
  },
  {
   "cell_type": "raw",
   "id": "2f0823a5",
   "metadata": {},
   "source": [
    "If we list all the natural numbers below 10 that are multiples of 3 or 5, we get 3, 5, 6 and 9. \n",
    "The sum of these multiples is 23.\n",
    "\n",
    "Find the sum of all the multiples of 3 or 5 below 1000."
   ]
  },
  {
   "cell_type": "code",
   "execution_count": 9,
   "id": "249fe747",
   "metadata": {},
   "outputs": [
    {
     "name": "stdout",
     "output_type": "stream",
     "text": [
      "233168\n"
     ]
    }
   ],
   "source": [
    "n = 0\n",
    "for i in range(1000):\n",
    "    if i%3==0 or i%5==0:\n",
    "        n += i\n",
    "print(n)"
   ]
  },
  {
   "cell_type": "code",
   "execution_count": null,
   "id": "59d507c7",
   "metadata": {},
   "outputs": [],
   "source": []
  }
 ],
 "metadata": {
  "kernelspec": {
   "display_name": "Python 3 (ipykernel)",
   "language": "python",
   "name": "python3"
  },
  "language_info": {
   "codemirror_mode": {
    "name": "ipython",
    "version": 3
   },
   "file_extension": ".py",
   "mimetype": "text/x-python",
   "name": "python",
   "nbconvert_exporter": "python",
   "pygments_lexer": "ipython3",
   "version": "3.9.7"
  }
 },
 "nbformat": 4,
 "nbformat_minor": 5
}
