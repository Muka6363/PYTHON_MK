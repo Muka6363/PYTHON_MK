{
  "nbformat": 4,
  "nbformat_minor": 0,
  "metadata": {
    "colab": {
      "name": "Python-Workshop-1.ipynb",
      "provenance": [],
      "collapsed_sections": []
    },
    "kernelspec": {
      "name": "python3",
      "display_name": "Python 3"
    },
    "language_info": {
      "name": "python"
    }
  },
  "cells": [
    {
      "cell_type": "code",
      "execution_count": null,
      "metadata": {
        "id": "RQdK7_CL6Xvc"
      },
      "outputs": [],
      "source": [
        "# İki tarih arasında kaç gün var?\n",
        "\"\"\"\n",
        "  Kullanıcıdan \"30.10.2020\" formatında iki adet tarih alın ve bu tarihler arasındaki \"gün sayısını\" bulunuz.\n",
        "  Kurallar:\n",
        "  * \"import\" kullanılamaz.\n",
        "  * \"def\" kullanılabilir.\n",
        "  * Her ay kendi gün sayısında değerlendirilecektir. (Oca:31, Şub:28, Mar: 31, ...)\n",
        "  * Sonuç 1 gün toleranslıdır. (Şubat ayından dolayı, sonuç \"1 gün eksik/fazla\" çıkabilir.)\n",
        "  İpucu:\n",
        "  * months = (0, 31, 28, 31, 30, 31, 30, 31, 31, 30, 31, 30, 31)\n",
        "\"\"\"\n",
        "# -----------------------------------------\n",
        "date1 = input('Date-1 (DD.MM.YYYY): ')\n",
        "date2 = input('Date-2 (DD.MM.YYYY): ')\n",
        "# -----------------------------------------"
      ]
    },
    {
      "cell_type": "code",
      "source": [
        "# Fonksiyon sorusunu, programlama ile çözelim.\n",
        "\"\"\"\n",
        "  Aşağıdaki soruyu çözen bir fonksiyon yazıp, sonucu yazdırınız:\n",
        "    \"f(x) = |x-2|-|x|\" olduğuna göre \"f(-1)+f(0)+f(1)\" toplamı kaçtır? (2003/ÖSS)\n",
        "\"\"\"\n",
        "# -----------------------------------------"
      ],
      "metadata": {
        "id": "e-7iyZdrHM6o"
      },
      "execution_count": null,
      "outputs": []
    },
    {
      "cell_type": "code",
      "source": [
        "# Fonksiyon sorusunu, programlama ile çözelim.\n",
        "\"\"\"\n",
        "  Aşağıdaki soruyu çözen bir fonksiyon yazıp, sonucu yazdırınız:\n",
        "    \"f(x) = x^2\" ve \"g(x) = 2x-1\" fonksiyonları için \"g(f(2))\" sonucu kaçtır? (2010/YGS)\n",
        "  Not:\n",
        "  * x^2 = x üssü 2 (x'in karesi)\n",
        "\"\"\"\n",
        "# -----------------------------------------"
      ],
      "metadata": {
        "id": "jSLEVP9xTMIp"
      },
      "execution_count": null,
      "outputs": []
    },
    {
      "cell_type": "code",
      "source": [
        "# Fonksiyon sorusunu, programlama ile çözelim.\n",
        "\"\"\"\n",
        "  Aşağıdaki soruyu çözen bir fonksiyon yazıp, sonucu yazdırınız:\n",
        "  * \"f(x) = 3(3x+1)-1\" fonksiyonu için \"f(x) = 20\" için \"x değeri\" kaçtır?\n",
        "\"\"\"\n",
        "# -----------------------------------------"
      ],
      "metadata": {
        "id": "ZUK1P7_bUnut"
      },
      "execution_count": null,
      "outputs": []
    },
    {
      "cell_type": "code",
      "source": [
        "# Hangi sayılar pisagor üçgeni oluşturur?\n",
        "\"\"\"\n",
        "  Kullacıdan bir tam sayı isteyiniz (örneğin: 100) ve \"1'den bu sayıya kadar\" olan sayılarda, \"hangi sayıların pisagor bağıntısı\" oluşturduğunu bulunuz.\n",
        "  * Pisagor Bağıntısı -> a**2 + b**2 = h**2\n",
        "  Kurallar:\n",
        "  * \"import\" kullanılamaz.\n",
        "  * Kullanıcıdan alınan sayı, aramaya dahildir.\n",
        "  İpucu:\n",
        "  * \"Kök alma\" için \"1/2 ile üs\" alınabilir. Örnek: 4**0.5=2\n",
        "\"\"\"\n",
        "# -----------------------------------------\n",
        "max_int = input(\"Input maximum number: \")\n",
        "# -----------------------------------------"
      ],
      "metadata": {
        "id": "vLL9p8s96zEm"
      },
      "execution_count": null,
      "outputs": []
    },
    {
      "cell_type": "code",
      "source": [
        "# Sepetteki adetleri ve tutarlarını bulalım.\n",
        "\"\"\"\n",
        "  Kullanıcıdan \"kaç adet eşya\" istediğini sorun ve \"seçtiği eşyaların\" numarasını isteyin. (Örnek: kırmızı gömlek için \"1\" girilmelidir.)\n",
        "  Sonucu örnekteki gibi yazdırın. Örnek Çıktı:\n",
        "    Alınan: 2 adet Gömlek, 2 adet Pantolon, 3 adet Mavi, 1 adet Kırmızı \n",
        "    Toplam: 4 adet, 50.5O TL\n",
        "  Veri (Eşyalar):\n",
        "    clothes = {\n",
        "      #:('Type', 'Color', 'Price'),\n",
        "      1:(\"Shirt\", \"Red\", 10.00),\n",
        "      2:(\"Shirt\", \"Blue\", 11.50),\n",
        "      3:(\"Shirt\", \"Yellow\", 12.00),\n",
        "      4:(\"Pants\", \"Red\", 13.50),\n",
        "      5:(\"Pants\", \"Blue\", 14.00),\n",
        "      6:(\"Pants\", \"Yellow\", 15.50),\n",
        "      7:(\"Tie\", \"Red\", 16.00),\n",
        "      8:(\"Tie\", \"Blue\", 17.50),\n",
        "      9:(\"Tie\", \"Yellow\", 18.00)\n",
        "    }\n",
        "\"\"\"\n",
        "# -----------------------------------------\n",
        "clothes = {\n",
        "  #:('Type', 'Color', 'Price'),\n",
        "  1:(\"Shirt\", \"Red\", 10.00),\n",
        "  2:(\"Shirt\", \"Blue\", 11.50),\n",
        "  3:(\"Shirt\", \"Yellow\", 12.00),\n",
        "  4:(\"Pants\", \"Red\", 13.50),\n",
        "  5:(\"Pants\", \"Blue\", 14.00),\n",
        "  6:(\"Pants\", \"Yellow\", 15.50),\n",
        "  7:(\"Tie\", \"Red\", 16.00),\n",
        "  8:(\"Tie\", \"Blue\", 17.50),\n",
        "  9:(\"Tie\", \"Yellow\", 18.00)\n",
        "}\n",
        "for i in clothes: print('input [', i, '] for', clothes[i])\n",
        "count = int(input('How many do you want to buy? [0-9]: '))\n",
        "# -----------------------------------------"
      ],
      "metadata": {
        "id": "OcOLSRlgfEmu"
      },
      "execution_count": null,
      "outputs": []
    }
  ]
}