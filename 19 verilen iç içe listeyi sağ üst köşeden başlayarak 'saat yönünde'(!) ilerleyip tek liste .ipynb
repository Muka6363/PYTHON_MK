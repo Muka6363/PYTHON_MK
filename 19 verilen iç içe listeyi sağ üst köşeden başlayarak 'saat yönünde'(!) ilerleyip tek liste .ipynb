{
 "cells": [
  {
   "cell_type": "code",
   "execution_count": null,
   "id": "0b8c80e2",
   "metadata": {},
   "outputs": [],
   "source": []
  },
  {
   "cell_type": "raw",
   "id": "90881ff7",
   "metadata": {},
   "source": [
    "F3623 - Razor\n",
    "\n",
    "Print the nested list given below, starting from the upper right corner, proceeding clockwise and print it as a single list.\n",
    "Aşağıda verilen iç içe listeyi sağ üst köşeden başlayarak 'saat yönünde'(!) ilerleyip tek liste halinde yazdırınız.\n",
    "Example:\n",
    "list = [\n",
    "[ 13, 14, 15, 16, 1],\n",
    "[ 12, 23, 24, 17, 2],\n",
    "[ 11, 22 ,25, 18, 3],\n",
    "[ 10, 21, 20, 19, 4],\n",
    "[   9,   8,   7,   6,  5]\n",
    "]\n",
    "\n",
    "convert:\n",
    "[1, 2, 3, 4, 5, 6, 7, 8, 9, 10, 11, 12, 13, 14, 15, 16, 17, 18, 19, 20, 21, 22, 23, 24, 25]\n",
    " \n",
    "\n",
    "ATTENTION !\n",
    "Arkadaşlar sort()/sorted yöntemi kullanmak yasaktır. Sorunun amacı bu değildir"
   ]
  },
  {
   "cell_type": "code",
   "execution_count": 1,
   "id": "bfbea3a3",
   "metadata": {},
   "outputs": [],
   "source": [
    "liste = [\n",
    "[ 13, 14, 15, 16, 1],\n",
    "[ 12, 23, 24, 17, 2],\n",
    "[ 11, 22 ,25, 18, 3],\n",
    "[ 10, 21, 20, 19, 4],\n",
    "[ 9,   8,  7,  6, 5]\n",
    "]"
   ]
  },
  {
   "cell_type": "code",
   "execution_count": 13,
   "id": "65467fe4",
   "metadata": {},
   "outputs": [
    {
     "name": "stdout",
     "output_type": "stream",
     "text": [
      "[1, 2, 3, 4, 5, 6, 7, 8, 9, 10, 11, 12]\n"
     ]
    }
   ],
   "source": [
    "lis = [1]\n",
    "for i in liste[0]:\n",
    "    if i == lis[-1]+1:\n",
    "        lis.append(i)\n",
    "    for a in liste[1]:\n",
    "        if a == lis[-1]+1:\n",
    "            lis.append(a)            \n",
    "        for b in liste[2]:\n",
    "            if b == lis[-1]+1:\n",
    "                lis.append(b)\n",
    "            for c in liste[3]:\n",
    "                if c == lis[-1]+1:\n",
    "                    lis.append(c)\n",
    "                for d in liste[4]:\n",
    "                    if d == lis[-1]+1:\n",
    "                        lis.append(d)          \n",
    "print(lis)"
   ]
  },
  {
   "cell_type": "code",
   "execution_count": null,
   "id": "f00d9ac2",
   "metadata": {},
   "outputs": [],
   "source": [
    "for a in a:\n",
    "    if a>s:\n",
    "        \n",
    "    "
   ]
  },
  {
   "cell_type": "code",
   "execution_count": null,
   "id": "b910064e",
   "metadata": {},
   "outputs": [],
   "source": []
  },
  {
   "cell_type": "code",
   "execution_count": null,
   "id": "52fabcc3",
   "metadata": {},
   "outputs": [],
   "source": []
  },
  {
   "cell_type": "code",
   "execution_count": null,
   "id": "12df1789",
   "metadata": {},
   "outputs": [],
   "source": []
  }
 ],
 "metadata": {
  "kernelspec": {
   "display_name": "Python 3 (ipykernel)",
   "language": "python",
   "name": "python3"
  },
  "language_info": {
   "codemirror_mode": {
    "name": "ipython",
    "version": 3
   },
   "file_extension": ".py",
   "mimetype": "text/x-python",
   "name": "python",
   "nbconvert_exporter": "python",
   "pygments_lexer": "ipython3",
   "version": "3.9.7"
  }
 },
 "nbformat": 4,
 "nbformat_minor": 5
}
