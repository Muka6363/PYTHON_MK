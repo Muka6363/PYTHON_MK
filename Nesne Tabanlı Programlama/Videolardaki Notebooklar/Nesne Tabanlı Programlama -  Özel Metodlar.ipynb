{
 "cells": [
  {
   "cell_type": "code",
   "execution_count": 28,
   "metadata": {
    "collapsed": true
   },
   "outputs": [],
   "source": [
    "class Kitap():\n",
    "    pass"
   ]
  },
  {
   "cell_type": "code",
   "execution_count": 29,
   "metadata": {
    "collapsed": true
   },
   "outputs": [],
   "source": [
    "kitap = Kitap() ## __init__ metodu"
   ]
  },
  {
   "cell_type": "code",
   "execution_count": 30,
   "metadata": {},
   "outputs": [
    {
     "name": "stdout",
     "output_type": "stream",
     "text": [
      "<__main__.Kitap object at 0x00000018F9920438>\n"
     ]
    }
   ],
   "source": [
    "print(kitap) ## __str__ metodu"
   ]
  },
  {
   "cell_type": "code",
   "execution_count": 31,
   "metadata": {},
   "outputs": [
    {
     "ename": "TypeError",
     "evalue": "object of type 'Kitap' has no len()",
     "output_type": "error",
     "traceback": [
      "\u001b[1;31m---------------------------------------------------------------------------\u001b[0m",
      "\u001b[1;31mTypeError\u001b[0m                                 Traceback (most recent call last)",
      "\u001b[1;32m<ipython-input-31-b3a1055460e1>\u001b[0m in \u001b[0;36m<module>\u001b[1;34m()\u001b[0m\n\u001b[1;32m----> 1\u001b[1;33m \u001b[0mlen\u001b[0m\u001b[1;33m(\u001b[0m\u001b[0mkitap\u001b[0m\u001b[1;33m)\u001b[0m\u001b[1;33m\u001b[0m\u001b[0m\n\u001b[0m",
      "\u001b[1;31mTypeError\u001b[0m: object of type 'Kitap' has no len()"
     ]
    }
   ],
   "source": [
    "len(kitap) ## __len__ metodu"
   ]
  },
  {
   "cell_type": "code",
   "execution_count": 32,
   "metadata": {
    "collapsed": true
   },
   "outputs": [],
   "source": [
    "del kitap # __del__ metodunu"
   ]
  },
  {
   "cell_type": "code",
   "execution_count": 33,
   "metadata": {},
   "outputs": [
    {
     "ename": "NameError",
     "evalue": "name 'kitap' is not defined",
     "output_type": "error",
     "traceback": [
      "\u001b[1;31m---------------------------------------------------------------------------\u001b[0m",
      "\u001b[1;31mNameError\u001b[0m                                 Traceback (most recent call last)",
      "\u001b[1;32m<ipython-input-33-2102c4d2e394>\u001b[0m in \u001b[0;36m<module>\u001b[1;34m()\u001b[0m\n\u001b[1;32m----> 1\u001b[1;33m \u001b[0mkitap\u001b[0m\u001b[1;33m\u001b[0m\u001b[0m\n\u001b[0m",
      "\u001b[1;31mNameError\u001b[0m: name 'kitap' is not defined"
     ]
    }
   ],
   "source": [
    "kitap"
   ]
  },
  {
   "cell_type": "code",
   "execution_count": 36,
   "metadata": {
    "collapsed": true
   },
   "outputs": [],
   "source": [
    "class Kitap():\n",
    "    \n",
    "    def __init__(self,isim,yazar,sayfa_sayısı,tür):\n",
    "        print(\"init fonksiyonu\")\n",
    "        self.isim = isim\n",
    "        self.yazar = yazar\n",
    "        self.sayfa_sayısı = sayfa_sayısı\n",
    "        self.tür = tür"
   ]
  },
  {
   "cell_type": "code",
   "execution_count": 37,
   "metadata": {},
   "outputs": [
    {
     "name": "stdout",
     "output_type": "stream",
     "text": [
      "init fonksiyonu\n"
     ]
    }
   ],
   "source": [
    "kitap = Kitap(\"İstanbul Hatırası\",\"Ahmet Ümit\",561,\"Polisiye\")"
   ]
  },
  {
   "cell_type": "code",
   "execution_count": 38,
   "metadata": {
    "collapsed": true
   },
   "outputs": [],
   "source": [
    "class Kitap():\n",
    "    \n",
    "    def __init__(self,isim,yazar,sayfa_sayısı,tür):\n",
    "        print(\"init fonksiyonu\")\n",
    "        self.isim = isim\n",
    "        self.yazar = yazar\n",
    "        self.sayfa_sayısı = sayfa_sayısı\n",
    "        self.tür = tür\n",
    "    def __str__(self):\n",
    "        return \"İsim: {}\\nYazar: {}\\nSayfa Sayısı: {}\\nTürü: {}\".format(self.isim,self.yazar,self.sayfa_sayısı,self.tür)"
   ]
  },
  {
   "cell_type": "code",
   "execution_count": 39,
   "metadata": {},
   "outputs": [
    {
     "name": "stdout",
     "output_type": "stream",
     "text": [
      "init fonksiyonu\n"
     ]
    }
   ],
   "source": [
    "kitap = Kitap(\"İstanbul Hatırası\",\"Ahmet Ümit\",561,\"Polisiye\")"
   ]
  },
  {
   "cell_type": "code",
   "execution_count": 40,
   "metadata": {},
   "outputs": [
    {
     "name": "stdout",
     "output_type": "stream",
     "text": [
      "İsim: İstanbul Hatırası\n",
      "Yazar: Ahmet Ümit\n",
      "Sayfa Sayısı: 561\n",
      "Türü: Polisiye\n"
     ]
    }
   ],
   "source": [
    "print(kitap)"
   ]
  },
  {
   "cell_type": "code",
   "execution_count": 44,
   "metadata": {
    "collapsed": true
   },
   "outputs": [],
   "source": [
    "class Kitap():\n",
    "    \n",
    "    def __init__(self,isim,yazar,sayfa_sayısı,tür):\n",
    "        print(\"init fonksiyonu\")\n",
    "        self.isim = isim\n",
    "        self.yazar = yazar\n",
    "        self.sayfa_sayısı = sayfa_sayısı\n",
    "        self.tür = tür\n",
    "    def __str__(self):\n",
    "        return \"İsim: {}\\nYazar: {}\\nSayfa Sayısı: {}\\nTürü: {}\".format(self.isim,self.yazar,self.sayfa_sayısı,self.tür)\n",
    "    def __len__(self):\n",
    "        return self.sayfa_sayısı\n",
    "    "
   ]
  },
  {
   "cell_type": "code",
   "execution_count": 45,
   "metadata": {},
   "outputs": [
    {
     "name": "stdout",
     "output_type": "stream",
     "text": [
      "init fonksiyonu\n"
     ]
    }
   ],
   "source": [
    "kitap = Kitap(\"İstanbul Hatırası\",\"Ahmet Ümit\",561,\"Polisiye\")"
   ]
  },
  {
   "cell_type": "code",
   "execution_count": 46,
   "metadata": {},
   "outputs": [
    {
     "data": {
      "text/plain": [
       "561"
      ]
     },
     "execution_count": 46,
     "metadata": {},
     "output_type": "execute_result"
    }
   ],
   "source": [
    "len(kitap)"
   ]
  },
  {
   "cell_type": "code",
   "execution_count": 47,
   "metadata": {
    "collapsed": true
   },
   "outputs": [],
   "source": [
    "class Kitap():\n",
    "    \n",
    "    def __init__(self,isim,yazar,sayfa_sayısı,tür):\n",
    "        print(\"init fonksiyonu\")\n",
    "        self.isim = isim\n",
    "        self.yazar = yazar\n",
    "        self.sayfa_sayısı = sayfa_sayısı\n",
    "        self.tür = tür\n",
    "    def __str__(self):\n",
    "        return \"İsim: {}\\nYazar: {}\\nSayfa Sayısı: {}\\nTürü: {}\".format(self.isim,self.yazar,self.sayfa_sayısı,self.tür)\n",
    "    def __len__(self):\n",
    "        return self.sayfa_sayısı\n",
    "    def __del__(self):\n",
    "        print(\"Kitap objesi siliniyor........\")"
   ]
  },
  {
   "cell_type": "code",
   "execution_count": 48,
   "metadata": {},
   "outputs": [
    {
     "name": "stdout",
     "output_type": "stream",
     "text": [
      "init fonksiyonu\n"
     ]
    }
   ],
   "source": [
    "kitap = Kitap(\"İstanbul Hatırası\",\"Ahmet Ümit\",561,\"Polisiye\")"
   ]
  },
  {
   "cell_type": "code",
   "execution_count": 49,
   "metadata": {},
   "outputs": [
    {
     "name": "stdout",
     "output_type": "stream",
     "text": [
      "Kitap objesi siliniyor........\n"
     ]
    }
   ],
   "source": [
    "del kitap"
   ]
  },
  {
   "cell_type": "code",
   "execution_count": 50,
   "metadata": {},
   "outputs": [
    {
     "ename": "NameError",
     "evalue": "name 'kitap' is not defined",
     "output_type": "error",
     "traceback": [
      "\u001b[1;31m---------------------------------------------------------------------------\u001b[0m",
      "\u001b[1;31mNameError\u001b[0m                                 Traceback (most recent call last)",
      "\u001b[1;32m<ipython-input-50-2102c4d2e394>\u001b[0m in \u001b[0;36m<module>\u001b[1;34m()\u001b[0m\n\u001b[1;32m----> 1\u001b[1;33m \u001b[0mkitap\u001b[0m\u001b[1;33m\u001b[0m\u001b[0m\n\u001b[0m",
      "\u001b[1;31mNameError\u001b[0m: name 'kitap' is not defined"
     ]
    }
   ],
   "source": [
    "kitap"
   ]
  },
  {
   "cell_type": "code",
   "execution_count": null,
   "metadata": {
    "collapsed": true
   },
   "outputs": [],
   "source": []
  }
 ],
 "metadata": {
  "kernelspec": {
   "display_name": "Python 3",
   "language": "python",
   "name": "python3"
  },
  "language_info": {
   "codemirror_mode": {
    "name": "ipython",
    "version": 3
   },
   "file_extension": ".py",
   "mimetype": "text/x-python",
   "name": "python",
   "nbconvert_exporter": "python",
   "pygments_lexer": "ipython3",
   "version": "3.6.1"
  }
 },
 "nbformat": 4,
 "nbformat_minor": 2
}
