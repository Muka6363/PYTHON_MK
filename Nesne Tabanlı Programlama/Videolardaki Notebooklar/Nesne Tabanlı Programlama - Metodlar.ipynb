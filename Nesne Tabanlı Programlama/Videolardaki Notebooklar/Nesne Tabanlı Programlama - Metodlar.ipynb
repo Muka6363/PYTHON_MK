{
 "cells": [
  {
   "cell_type": "code",
   "execution_count": 5,
   "metadata": {
    "collapsed": true
   },
   "outputs": [],
   "source": [
    "class Yazılımcı():\n",
    "    \n",
    "    def __init__(self,isim,soyisim,numara,maaş,diller):\n",
    "        self.isim = isim\n",
    "        self.soyisim = soyisim\n",
    "        self.numara = numara\n",
    "        self.maaş = maaş\n",
    "        self.diller = diller\n",
    "    def bilgilerigöster(self):\n",
    "        print(\"\"\"\n",
    "        Yazılımcı objesinin özellikleri\n",
    "        \n",
    "        İsim : {}\n",
    "        \n",
    "        Soyisim : {}\n",
    "        \n",
    "        Numara: {}\n",
    "        \n",
    "        Maaş : {}\n",
    "        \n",
    "        Bildiği Diller : {}\n",
    "        \n",
    "        \"\"\".format(self.isim,self.soyisim,self.numara,self.maaş,self.diller))\n",
    "    def zam_yap(self,zam_miktarı):\n",
    "        print(\"Zam yapılıyor...\")\n",
    "        \n",
    "        self.maaş += zam_miktarı\n",
    "    def dil_ekle(self,yeni_dil):\n",
    "        print(\"Dil ekleniyor.....\")\n",
    "        self.diller.append(yeni_dil)"
   ]
  },
  {
   "cell_type": "code",
   "execution_count": 6,
   "metadata": {
    "collapsed": true
   },
   "outputs": [],
   "source": [
    "yazılımcı = Yazılımcı(\"Mustafa Murat\",\"Coşkun\",12345,3000,[\"Python\",\"Java\",\"C\",\"Javascript\"])"
   ]
  },
  {
   "cell_type": "code",
   "execution_count": 7,
   "metadata": {},
   "outputs": [
    {
     "data": {
      "text/plain": [
       "<__main__.Yazılımcı at 0x51ac786048>"
      ]
     },
     "execution_count": 7,
     "metadata": {},
     "output_type": "execute_result"
    }
   ],
   "source": [
    "yazılımcı"
   ]
  },
  {
   "cell_type": "code",
   "execution_count": 8,
   "metadata": {},
   "outputs": [
    {
     "name": "stdout",
     "output_type": "stream",
     "text": [
      "\n",
      "        Yazılımcı objesinin özellikleri\n",
      "        \n",
      "        İsim : Mustafa Murat\n",
      "        \n",
      "        Soyisim : Coşkun\n",
      "        \n",
      "        Numara: 12345\n",
      "        \n",
      "        Maaş : 3000\n",
      "        \n",
      "        Bildiği Diller : ['Python', 'Java', 'C', 'Javascript']\n",
      "        \n",
      "        \n"
     ]
    }
   ],
   "source": [
    "yazılımcı.bilgilerigöster()"
   ]
  },
  {
   "cell_type": "code",
   "execution_count": 9,
   "metadata": {},
   "outputs": [
    {
     "name": "stdout",
     "output_type": "stream",
     "text": [
      "Dil ekleniyor.....\n"
     ]
    }
   ],
   "source": [
    "yazılımcı.dil_ekle(\"GoLang\")"
   ]
  },
  {
   "cell_type": "code",
   "execution_count": 10,
   "metadata": {},
   "outputs": [
    {
     "name": "stdout",
     "output_type": "stream",
     "text": [
      "\n",
      "        Yazılımcı objesinin özellikleri\n",
      "        \n",
      "        İsim : Mustafa Murat\n",
      "        \n",
      "        Soyisim : Coşkun\n",
      "        \n",
      "        Numara: 12345\n",
      "        \n",
      "        Maaş : 3000\n",
      "        \n",
      "        Bildiği Diller : ['Python', 'Java', 'C', 'Javascript', 'GoLang']\n",
      "        \n",
      "        \n"
     ]
    }
   ],
   "source": [
    "yazılımcı.bilgilerigöster()"
   ]
  },
  {
   "cell_type": "code",
   "execution_count": 11,
   "metadata": {},
   "outputs": [
    {
     "name": "stdout",
     "output_type": "stream",
     "text": [
      "Zam yapılıyor...\n"
     ]
    }
   ],
   "source": [
    "yazılımcı.zam_yap(500)"
   ]
  },
  {
   "cell_type": "code",
   "execution_count": 12,
   "metadata": {},
   "outputs": [
    {
     "name": "stdout",
     "output_type": "stream",
     "text": [
      "\n",
      "        Yazılımcı objesinin özellikleri\n",
      "        \n",
      "        İsim : Mustafa Murat\n",
      "        \n",
      "        Soyisim : Coşkun\n",
      "        \n",
      "        Numara: 12345\n",
      "        \n",
      "        Maaş : 3500\n",
      "        \n",
      "        Bildiği Diller : ['Python', 'Java', 'C', 'Javascript', 'GoLang']\n",
      "        \n",
      "        \n"
     ]
    }
   ],
   "source": [
    "yazılımcı.bilgilerigöster()"
   ]
  },
  {
   "cell_type": "code",
   "execution_count": null,
   "metadata": {
    "collapsed": true
   },
   "outputs": [],
   "source": []
  }
 ],
 "metadata": {
  "kernelspec": {
   "display_name": "Python 3",
   "language": "python",
   "name": "python3"
  },
  "language_info": {
   "codemirror_mode": {
    "name": "ipython",
    "version": 3
   },
   "file_extension": ".py",
   "mimetype": "text/x-python",
   "name": "python",
   "nbconvert_exporter": "python",
   "pygments_lexer": "ipython3",
   "version": "3.6.1"
  }
 },
 "nbformat": 4,
 "nbformat_minor": 2
}
