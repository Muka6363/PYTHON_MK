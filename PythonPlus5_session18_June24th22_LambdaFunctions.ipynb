{
 "cells": [
  {
   "cell_type": "markdown",
   "id": "c6ce4647",
   "metadata": {},
   "source": [
    "<img src=\"https://docs.google.com/uc?id=14xeXxFrVRjvOoUYWn_GuyE-v84wVzrqr\" class=\"img-fluid\" alt=\"CLRWY\" width=\"400\" height=\"200\">"
   ]
  },
  {
   "cell_type": "markdown",
   "id": "17517012",
   "metadata": {},
   "source": [
    "<h1><p style=\"text-align: center; color:darkblue\">Python In-Class <br>24 June 2022</p><h1>"
   ]
  },
  {
   "cell_type": "code",
   "execution_count": 1,
   "id": "e33d03c7",
   "metadata": {},
   "outputs": [],
   "source": [
    "iterable = \"clarusway\""
   ]
  },
  {
   "cell_type": "code",
   "execution_count": 2,
   "id": "811f05c7",
   "metadata": {},
   "outputs": [],
   "source": [
    "reverser = lambda x : x[::-1]"
   ]
  },
  {
   "cell_type": "code",
   "execution_count": 4,
   "id": "0adc4cc0",
   "metadata": {},
   "outputs": [
    {
     "data": {
      "text/plain": [
       "<function __main__.<lambda>(x)>"
      ]
     },
     "execution_count": 4,
     "metadata": {},
     "output_type": "execute_result"
    }
   ],
   "source": [
    "lambda x : x[::-1]"
   ]
  },
  {
   "cell_type": "code",
   "execution_count": 3,
   "id": "8319311f",
   "metadata": {},
   "outputs": [
    {
     "data": {
      "text/plain": [
       "<function __main__.<lambda>(x)>"
      ]
     },
     "execution_count": 3,
     "metadata": {},
     "output_type": "execute_result"
    }
   ],
   "source": [
    "reverser"
   ]
  },
  {
   "cell_type": "code",
   "execution_count": 5,
   "id": "684437e7",
   "metadata": {},
   "outputs": [
    {
     "data": {
      "text/plain": [
       "'yawsuralc'"
      ]
     },
     "execution_count": 5,
     "metadata": {},
     "output_type": "execute_result"
    }
   ],
   "source": [
    "reverser(iterable)"
   ]
  },
  {
   "cell_type": "code",
   "execution_count": 6,
   "id": "c42ed4e7",
   "metadata": {},
   "outputs": [
    {
     "data": {
      "text/plain": [
       "'yawsuralc'"
      ]
     },
     "execution_count": 6,
     "metadata": {},
     "output_type": "execute_result"
    }
   ],
   "source": [
    "(lambda x : x[::-1])(iterable)"
   ]
  },
  {
   "cell_type": "code",
   "execution_count": 9,
   "id": "c4a69b29",
   "metadata": {},
   "outputs": [],
   "source": [
    "finder = lambda x : \"odd\" if x % 2 != 0 else \"even\""
   ]
  },
  {
   "cell_type": "code",
   "execution_count": 10,
   "id": "0c4ad9de",
   "metadata": {},
   "outputs": [
    {
     "data": {
      "text/plain": [
       "'even'"
      ]
     },
     "execution_count": 10,
     "metadata": {},
     "output_type": "execute_result"
    }
   ],
   "source": [
    "finder(2)"
   ]
  },
  {
   "cell_type": "code",
   "execution_count": 11,
   "id": "f3db42fa",
   "metadata": {},
   "outputs": [
    {
     "data": {
      "text/plain": [
       "'odd'"
      ]
     },
     "execution_count": 11,
     "metadata": {},
     "output_type": "execute_result"
    }
   ],
   "source": [
    "finder(77)"
   ]
  },
  {
   "cell_type": "markdown",
   "id": "765620c8",
   "metadata": {},
   "source": [
    "# map function with lambda"
   ]
  },
  {
   "cell_type": "code",
   "execution_count": 12,
   "id": "80ef3377",
   "metadata": {},
   "outputs": [],
   "source": [
    "kelimeler = [\"alideliveli\", \"ahmet\", \"yunus\"]"
   ]
  },
  {
   "cell_type": "code",
   "execution_count": 13,
   "id": "e255b074",
   "metadata": {},
   "outputs": [],
   "source": [
    "uzunluk = map(len, kelimeler)"
   ]
  },
  {
   "cell_type": "code",
   "execution_count": 14,
   "id": "e5e15174",
   "metadata": {},
   "outputs": [
    {
     "data": {
      "text/plain": [
       "<map at 0x20f0d35f790>"
      ]
     },
     "execution_count": 14,
     "metadata": {},
     "output_type": "execute_result"
    }
   ],
   "source": [
    "uzunluk"
   ]
  },
  {
   "cell_type": "code",
   "execution_count": 15,
   "id": "8cba05a3",
   "metadata": {},
   "outputs": [
    {
     "name": "stdout",
     "output_type": "stream",
     "text": [
      "11 5 5\n"
     ]
    }
   ],
   "source": [
    "print(*uzunluk)"
   ]
  },
  {
   "cell_type": "code",
   "execution_count": 17,
   "id": "1a02d843",
   "metadata": {},
   "outputs": [
    {
     "name": "stdout",
     "output_type": "stream",
     "text": [
      "[11, 5, 5]\n"
     ]
    }
   ],
   "source": [
    "length = []\n",
    "for i in kelimeler :\n",
    "    length.append(len(i))\n",
    "print(length)"
   ]
  },
  {
   "cell_type": "code",
   "execution_count": 18,
   "id": "c7aafe87",
   "metadata": {},
   "outputs": [],
   "source": [
    "fonksiyonum = lambda x : x ** 2"
   ]
  },
  {
   "cell_type": "code",
   "execution_count": 19,
   "id": "791e2a11",
   "metadata": {},
   "outputs": [],
   "source": [
    "iterable = [1, 2, 3, 4, 5]"
   ]
  },
  {
   "cell_type": "code",
   "execution_count": 23,
   "id": "79ff57ba",
   "metadata": {},
   "outputs": [],
   "source": [
    "sonuç = map(fonksiyonum, iterable)"
   ]
  },
  {
   "cell_type": "code",
   "execution_count": 29,
   "id": "2fa26545",
   "metadata": {},
   "outputs": [],
   "source": [
    "sonuç2 = map(lambda x : x ** 2, [1, 2, 3, 4, 5])"
   ]
  },
  {
   "cell_type": "code",
   "execution_count": 24,
   "id": "b080eb67",
   "metadata": {},
   "outputs": [
    {
     "name": "stdout",
     "output_type": "stream",
     "text": [
      "1 4 9 16 25\n"
     ]
    }
   ],
   "source": [
    "print(* sonuç)"
   ]
  },
  {
   "cell_type": "code",
   "execution_count": 25,
   "id": "93373597",
   "metadata": {},
   "outputs": [
    {
     "name": "stdout",
     "output_type": "stream",
     "text": [
      "1 4 9 16 25\n"
     ]
    }
   ],
   "source": [
    "print(* sonuç2)"
   ]
  },
  {
   "cell_type": "code",
   "execution_count": 27,
   "id": "6efc5c6d",
   "metadata": {},
   "outputs": [
    {
     "name": "stdout",
     "output_type": "stream",
     "text": [
      "1   4   9   16   25   "
     ]
    }
   ],
   "source": [
    "for i in sonuç2 :\n",
    "    print(i, end = \"   \")"
   ]
  },
  {
   "cell_type": "code",
   "execution_count": 28,
   "id": "132c2fd0",
   "metadata": {},
   "outputs": [
    {
     "data": {
      "text/plain": [
       "[]"
      ]
     },
     "execution_count": 28,
     "metadata": {},
     "output_type": "execute_result"
    }
   ],
   "source": [
    "list(sonuç2)"
   ]
  },
  {
   "cell_type": "code",
   "execution_count": 30,
   "id": "4912eced",
   "metadata": {},
   "outputs": [
    {
     "data": {
      "text/plain": [
       "[1, 4, 9, 16, 25]"
      ]
     },
     "execution_count": 30,
     "metadata": {},
     "output_type": "execute_result"
    }
   ],
   "source": [
    "list(sonuç2)"
   ]
  },
  {
   "cell_type": "code",
   "execution_count": 31,
   "id": "7841f34e",
   "metadata": {},
   "outputs": [
    {
     "name": "stdout",
     "output_type": "stream",
     "text": [
      "\n"
     ]
    }
   ],
   "source": [
    "print(*sonuç2)"
   ]
  },
  {
   "cell_type": "code",
   "execution_count": 32,
   "id": "51b32f04",
   "metadata": {},
   "outputs": [],
   "source": [
    "def kare(x) :\n",
    "    return x ** 2"
   ]
  },
  {
   "cell_type": "code",
   "execution_count": 33,
   "id": "b7a72ddf",
   "metadata": {},
   "outputs": [],
   "source": [
    "sonuç3 = map(kare, iterable)"
   ]
  },
  {
   "cell_type": "code",
   "execution_count": 34,
   "id": "3a85d01d",
   "metadata": {},
   "outputs": [
    {
     "name": "stdout",
     "output_type": "stream",
     "text": [
      "1 4 9 16 25\n"
     ]
    }
   ],
   "source": [
    "print(* sonuç3)"
   ]
  },
  {
   "cell_type": "code",
   "execution_count": 35,
   "id": "d7474f62",
   "metadata": {},
   "outputs": [],
   "source": [
    "topla = lambda x, y, z : x + y + z"
   ]
  },
  {
   "cell_type": "code",
   "execution_count": 36,
   "id": "1ab632da",
   "metadata": {},
   "outputs": [
    {
     "data": {
      "text/plain": [
       "'ali'"
      ]
     },
     "execution_count": 36,
     "metadata": {},
     "output_type": "execute_result"
    }
   ],
   "source": [
    "topla(\"a\", \"l\", \"i\")"
   ]
  },
  {
   "cell_type": "code",
   "execution_count": null,
   "id": "f01ee48b",
   "metadata": {},
   "outputs": [],
   "source": [
    "map()"
   ]
  },
  {
   "cell_type": "code",
   "execution_count": 37,
   "id": "b05f0db0",
   "metadata": {},
   "outputs": [],
   "source": [
    "func = lambda x, y : (x + y) / 2 "
   ]
  },
  {
   "cell_type": "code",
   "execution_count": 38,
   "id": "b1a459f6",
   "metadata": {},
   "outputs": [],
   "source": [
    "num1 = [9, 6, 7, 4]\n",
    "num2 = [3, 6, 5, 8]"
   ]
  },
  {
   "cell_type": "code",
   "execution_count": 39,
   "id": "a9b6fc41",
   "metadata": {},
   "outputs": [],
   "source": [
    "numbers = map(func, num1, num2)"
   ]
  },
  {
   "cell_type": "code",
   "execution_count": 40,
   "id": "ebd6665f",
   "metadata": {},
   "outputs": [
    {
     "name": "stdout",
     "output_type": "stream",
     "text": [
      "[6.0, 6.0, 6.0, 6.0]\n"
     ]
    }
   ],
   "source": [
    "print(list(numbers))"
   ]
  },
  {
   "cell_type": "code",
   "execution_count": 41,
   "id": "957674d6",
   "metadata": {},
   "outputs": [],
   "source": [
    "words1 = [\"you\", \"much\", \"hard\"]\n",
    "words2 = [\"i\", \"you\", \"he\"]\n",
    "words3 = [\"love\", \"ate\", \"works\"]"
   ]
  },
  {
   "cell_type": "code",
   "execution_count": 43,
   "id": "e4b7ae53",
   "metadata": {},
   "outputs": [],
   "source": [
    "concat = lambda x, y, z : x + \" \" + y + \" \" + z"
   ]
  },
  {
   "cell_type": "code",
   "execution_count": 44,
   "id": "7500d146",
   "metadata": {},
   "outputs": [],
   "source": [
    "sentences = map(concat, words2, words3, words1)"
   ]
  },
  {
   "cell_type": "code",
   "execution_count": 46,
   "id": "81d645e7",
   "metadata": {},
   "outputs": [
    {
     "data": {
      "text/plain": [
       "<map at 0x20f0e6e3dc0>"
      ]
     },
     "execution_count": 46,
     "metadata": {},
     "output_type": "execute_result"
    }
   ],
   "source": [
    "sentences"
   ]
  },
  {
   "cell_type": "code",
   "execution_count": 47,
   "id": "c1daea27",
   "metadata": {},
   "outputs": [
    {
     "name": "stdout",
     "output_type": "stream",
     "text": [
      "i love you\n",
      "you ate much\n",
      "he works hard\n"
     ]
    }
   ],
   "source": [
    "for i in sentences :\n",
    "    print(i)"
   ]
  },
  {
   "cell_type": "markdown",
   "id": "b9ff1b1c",
   "metadata": {},
   "source": [
    "# filter function with lambda"
   ]
  },
  {
   "cell_type": "code",
   "execution_count": null,
   "id": "2f21cf57",
   "metadata": {},
   "outputs": [],
   "source": [
    "filter()"
   ]
  },
  {
   "cell_type": "code",
   "execution_count": 48,
   "id": "28cecbd2",
   "metadata": {},
   "outputs": [
    {
     "data": {
      "text/plain": [
       "True"
      ]
     },
     "execution_count": 48,
     "metadata": {},
     "output_type": "execute_result"
    }
   ],
   "source": [
    "4 % 2 == 0"
   ]
  },
  {
   "cell_type": "code",
   "execution_count": 49,
   "id": "c3aa0d58",
   "metadata": {},
   "outputs": [
    {
     "data": {
      "text/plain": [
       "False"
      ]
     },
     "execution_count": 49,
     "metadata": {},
     "output_type": "execute_result"
    }
   ],
   "source": [
    "5 % 2 == 0"
   ]
  },
  {
   "cell_type": "code",
   "execution_count": 50,
   "id": "ea7c6796",
   "metadata": {},
   "outputs": [],
   "source": [
    "first_ten = [1,2,3,4,5,6,7,8,9]\n",
    "\n",
    "odd1 = filter(lambda x : x % 2 != 0, first_ten)\n",
    "\n",
    "odd2 = filter(lambda x : x % 2 == 1, first_ten)\n",
    "\n",
    "odd3 = filter(lambda x : not x % 2 == 0, first_ten)\n",
    "\n",
    "odd4 = filter(lambda x : x % 2, first_ten)"
   ]
  },
  {
   "cell_type": "code",
   "execution_count": 51,
   "id": "70244a07",
   "metadata": {},
   "outputs": [
    {
     "name": "stdout",
     "output_type": "stream",
     "text": [
      "1 3 5 7 9\n"
     ]
    }
   ],
   "source": [
    "print(*odd3)"
   ]
  },
  {
   "cell_type": "code",
   "execution_count": 52,
   "id": "52a47a2c",
   "metadata": {},
   "outputs": [
    {
     "name": "stdout",
     "output_type": "stream",
     "text": [
      "1 3 5 7 9\n"
     ]
    }
   ],
   "source": [
    "print(*odd4)"
   ]
  },
  {
   "cell_type": "code",
   "execution_count": 53,
   "id": "25878c13",
   "metadata": {},
   "outputs": [
    {
     "data": {
      "text/plain": [
       "5"
      ]
     },
     "execution_count": 53,
     "metadata": {},
     "output_type": "execute_result"
    }
   ],
   "source": [
    "len(\"apple\")"
   ]
  },
  {
   "cell_type": "code",
   "execution_count": 54,
   "id": "4ad0d4f2",
   "metadata": {},
   "outputs": [
    {
     "data": {
      "text/plain": [
       "False"
      ]
     },
     "execution_count": 54,
     "metadata": {},
     "output_type": "execute_result"
    }
   ],
   "source": [
    "len(\"apple\") < 5"
   ]
  },
  {
   "cell_type": "code",
   "execution_count": 56,
   "id": "915a4846",
   "metadata": {},
   "outputs": [
    {
     "data": {
      "text/plain": [
       "True"
      ]
     },
     "execution_count": 56,
     "metadata": {},
     "output_type": "execute_result"
    }
   ],
   "source": [
    "len(\"me\") < 5"
   ]
  },
  {
   "cell_type": "code",
   "execution_count": 57,
   "id": "662e6230",
   "metadata": {},
   "outputs": [],
   "source": [
    "words = [\"apple\", \"swim\", \"clock\", \"me\", \"kiwi\", \"banana\"]"
   ]
  },
  {
   "cell_type": "code",
   "execution_count": 58,
   "id": "57d4d3e3",
   "metadata": {},
   "outputs": [
    {
     "name": "stdout",
     "output_type": "stream",
     "text": [
      "swim\n",
      "me\n",
      "kiwi\n"
     ]
    }
   ],
   "source": [
    "for i in filter(lambda x : len(x) < 5, words) :\n",
    "    print(i)\n"
   ]
  },
  {
   "cell_type": "code",
   "execution_count": 59,
   "id": "bc65e003",
   "metadata": {},
   "outputs": [],
   "source": [
    "letter1 = \"a b c\".split()\n",
    "letter2 = \"x y z\".split()"
   ]
  },
  {
   "cell_type": "code",
   "execution_count": 60,
   "id": "4a24b449",
   "metadata": {},
   "outputs": [
    {
     "data": {
      "text/plain": [
       "['a', 'b', 'c']"
      ]
     },
     "execution_count": 60,
     "metadata": {},
     "output_type": "execute_result"
    }
   ],
   "source": [
    "letter1"
   ]
  },
  {
   "cell_type": "code",
   "execution_count": 61,
   "id": "9e3e453a",
   "metadata": {},
   "outputs": [
    {
     "data": {
      "text/plain": [
       "['x', 'y', 'z']"
      ]
     },
     "execution_count": 61,
     "metadata": {},
     "output_type": "execute_result"
    }
   ],
   "source": [
    "letter2"
   ]
  },
  {
   "cell_type": "code",
   "execution_count": 62,
   "id": "c33ae7e6",
   "metadata": {},
   "outputs": [
    {
     "data": {
      "text/plain": [
       "[('a', 'x'), ('b', 'y'), ('c', 'z')]"
      ]
     },
     "execution_count": 62,
     "metadata": {},
     "output_type": "execute_result"
    }
   ],
   "source": [
    "list(map((lambda x, y : (x, y)), letter1, letter2))"
   ]
  },
  {
   "cell_type": "code",
   "execution_count": 63,
   "id": "9ea1e194",
   "metadata": {},
   "outputs": [
    {
     "data": {
      "text/plain": [
       "[('a', 'x'), ('b', 'y'), ('c', 'z')]"
      ]
     },
     "execution_count": 63,
     "metadata": {},
     "output_type": "execute_result"
    }
   ],
   "source": [
    "list(zip(letter1, letter2))"
   ]
  },
  {
   "cell_type": "code",
   "execution_count": 65,
   "id": "7a6eeec8",
   "metadata": {},
   "outputs": [],
   "source": [
    "birleştir = map(zip, letter1, letter2)"
   ]
  },
  {
   "cell_type": "code",
   "execution_count": 66,
   "id": "411f8879",
   "metadata": {},
   "outputs": [
    {
     "data": {
      "text/plain": [
       "[<zip at 0x20f0f509bc0>, <zip at 0x20f0f52de80>, <zip at 0x20f0f20f640>]"
      ]
     },
     "execution_count": 66,
     "metadata": {},
     "output_type": "execute_result"
    }
   ],
   "source": [
    "list(birleştir)"
   ]
  },
  {
   "cell_type": "code",
   "execution_count": null,
   "id": "bc6900bd",
   "metadata": {},
   "outputs": [],
   "source": [
    "birleştir = map(zip, letter1, letter2)\n",
    "\n",
    "for i in birleştir :\n",
    "    for j in i :\n",
    "        print(j)"
   ]
  },
  {
   "cell_type": "code",
   "execution_count": 68,
   "id": "90a245f6",
   "metadata": {},
   "outputs": [
    {
     "data": {
      "text/plain": [
       "[('a', 'x')]"
      ]
     },
     "execution_count": 68,
     "metadata": {},
     "output_type": "execute_result"
    }
   ],
   "source": [
    "list(zip(letter1[0], letter2[0]))"
   ]
  },
  {
   "cell_type": "code",
   "execution_count": 69,
   "id": "4b23f8b6",
   "metadata": {},
   "outputs": [
    {
     "data": {
      "text/plain": [
       "[('a', 'x'), ('b', 'y'), ('c', 'z')]"
      ]
     },
     "execution_count": 69,
     "metadata": {},
     "output_type": "execute_result"
    }
   ],
   "source": [
    "yapıştır = zip(letter1, letter2)\n",
    "list(yapıştır)"
   ]
  },
  {
   "cell_type": "code",
   "execution_count": 80,
   "id": "8a7bd053",
   "metadata": {},
   "outputs": [],
   "source": [
    "first_ten = [\"a\", \"b\", \"c\", \"d\", \"e\", \"f\", \"g\", \"h\", \"i\", \"j\"]"
   ]
  },
  {
   "cell_type": "code",
   "execution_count": 81,
   "id": "3cd73634",
   "metadata": {},
   "outputs": [],
   "source": [
    "vowel_list = [\"a\", \"e\", \"i\", \"o\", \"u\"]"
   ]
  },
  {
   "cell_type": "code",
   "execution_count": 82,
   "id": "a8f08977",
   "metadata": {},
   "outputs": [],
   "source": [
    "fonks = lambda x : True if x in vowel_list else False\n",
    "\n",
    "vowels = filter(lambda x : True if x in vowel_list else False, first_ten)"
   ]
  },
  {
   "cell_type": "code",
   "execution_count": 83,
   "id": "da95fdde",
   "metadata": {},
   "outputs": [
    {
     "data": {
      "text/plain": [
       "['a', 'e', 'i']"
      ]
     },
     "execution_count": 83,
     "metadata": {},
     "output_type": "execute_result"
    }
   ],
   "source": [
    "list(vowels)"
   ]
  },
  {
   "cell_type": "code",
   "execution_count": 85,
   "id": "52d6d06e",
   "metadata": {},
   "outputs": [
    {
     "data": {
      "text/plain": [
       "['a', 'e', 'i']"
      ]
     },
     "execution_count": 85,
     "metadata": {},
     "output_type": "execute_result"
    }
   ],
   "source": [
    "vowels2 = filter(lambda x : x in vowel_list, first_ten)\n",
    "list(vowels2)"
   ]
  },
  {
   "cell_type": "markdown",
   "id": "0dab02d8",
   "metadata": {},
   "source": [
    "# user defined function with lambda"
   ]
  },
  {
   "cell_type": "code",
   "execution_count": 87,
   "id": "1849c928",
   "metadata": {},
   "outputs": [],
   "source": [
    "def modular(n):\n",
    "    return lambda x : x ** n"
   ]
  },
  {
   "cell_type": "code",
   "execution_count": 88,
   "id": "d3f97232",
   "metadata": {},
   "outputs": [
    {
     "data": {
      "text/plain": [
       "<function __main__.modular.<locals>.<lambda>(x)>"
      ]
     },
     "execution_count": 88,
     "metadata": {},
     "output_type": "execute_result"
    }
   ],
   "source": [
    "modular(3)"
   ]
  },
  {
   "cell_type": "code",
   "execution_count": 89,
   "id": "7355ad0e",
   "metadata": {},
   "outputs": [],
   "source": [
    "küpünüal = modular(3)"
   ]
  },
  {
   "cell_type": "code",
   "execution_count": 90,
   "id": "a04f1118",
   "metadata": {},
   "outputs": [
    {
     "data": {
      "text/plain": [
       "8"
      ]
     },
     "execution_count": 90,
     "metadata": {},
     "output_type": "execute_result"
    }
   ],
   "source": [
    "küpünüal(2)"
   ]
  },
  {
   "cell_type": "code",
   "execution_count": 91,
   "id": "6bdf70be",
   "metadata": {},
   "outputs": [
    {
     "data": {
      "text/plain": [
       "64"
      ]
     },
     "execution_count": 91,
     "metadata": {},
     "output_type": "execute_result"
    }
   ],
   "source": [
    "küpünüal(4)"
   ]
  },
  {
   "cell_type": "code",
   "execution_count": 92,
   "id": "7008830b",
   "metadata": {},
   "outputs": [
    {
     "data": {
      "text/plain": [
       "64"
      ]
     },
     "execution_count": 92,
     "metadata": {},
     "output_type": "execute_result"
    }
   ],
   "source": [
    "(lambda x : x ** 3)(4)"
   ]
  },
  {
   "cell_type": "code",
   "execution_count": null,
   "id": "7c67da07",
   "metadata": {},
   "outputs": [],
   "source": []
  },
  {
   "cell_type": "code",
   "execution_count": null,
   "id": "d6c0e946",
   "metadata": {},
   "outputs": [],
   "source": []
  },
  {
   "cell_type": "code",
   "execution_count": null,
   "id": "2a6f0545",
   "metadata": {},
   "outputs": [],
   "source": [
    "for number in range(1, 101) :\n",
    "    print(\"FizzBuzz\" if (not number % 3 and not numbe % 5) else \"Buzz\" if not number % 5 else \"Fizz\" if not number % 3 else \"Number\")"
   ]
  }
 ],
 "metadata": {
  "kernelspec": {
   "display_name": "Python 3 (ipykernel)",
   "language": "python",
   "name": "python3"
  },
  "language_info": {
   "codemirror_mode": {
    "name": "ipython",
    "version": 3
   },
   "file_extension": ".py",
   "mimetype": "text/x-python",
   "name": "python",
   "nbconvert_exporter": "python",
   "pygments_lexer": "ipython3",
   "version": "3.9.11"
  }
 },
 "nbformat": 4,
 "nbformat_minor": 5
}
