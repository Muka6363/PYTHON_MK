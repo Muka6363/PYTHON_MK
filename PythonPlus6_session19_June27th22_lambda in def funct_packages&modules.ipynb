{
 "cells": [
  {
   "cell_type": "markdown",
   "id": "c6ce4647",
   "metadata": {},
   "source": [
    "<img src=\"https://docs.google.com/uc?id=14xeXxFrVRjvOoUYWn_GuyE-v84wVzrqr\" class=\"img-fluid\" alt=\"CLRWY\" width=\"400\" height=\"200\">"
   ]
  },
  {
   "cell_type": "markdown",
   "id": "17517012",
   "metadata": {},
   "source": [
    "<h1><p style=\"text-align: center; color:darkblue\">Python In-Class <br>27 June 2022</p><h1>"
   ]
  },
  {
   "cell_type": "code",
   "execution_count": 2,
   "id": "c9ec5031",
   "metadata": {},
   "outputs": [],
   "source": [
    "def functioner(emoji = \"\") :\n",
    "    return lambda message : print(message, emoji)"
   ]
  },
  {
   "cell_type": "code",
   "execution_count": 1,
   "id": "5bba38c8",
   "metadata": {},
   "outputs": [
    {
     "name": "stdout",
     "output_type": "stream",
     "text": [
      "ali :)\n"
     ]
    }
   ],
   "source": [
    "print(\"ali\", \":)\")"
   ]
  },
  {
   "cell_type": "code",
   "execution_count": 3,
   "id": "40a107a7",
   "metadata": {},
   "outputs": [],
   "source": [
    "gülen_yüz = functioner(\":)\")"
   ]
  },
  {
   "cell_type": "code",
   "execution_count": 4,
   "id": "8dba30f0",
   "metadata": {},
   "outputs": [
    {
     "name": "stdout",
     "output_type": "stream",
     "text": [
      "ali :)\n"
     ]
    }
   ],
   "source": [
    "gülen_yüz(\"ali\")"
   ]
  },
  {
   "cell_type": "code",
   "execution_count": 5,
   "id": "92743ec2",
   "metadata": {},
   "outputs": [
    {
     "name": "stdout",
     "output_type": "stream",
     "text": [
      "[1, 2, 3] :)\n"
     ]
    }
   ],
   "source": [
    "gülen_yüz([1,2,3])"
   ]
  },
  {
   "cell_type": "code",
   "execution_count": 6,
   "id": "a12a820d",
   "metadata": {},
   "outputs": [],
   "source": [
    "üzgün_yüz = functioner(\":(\")"
   ]
  },
  {
   "cell_type": "code",
   "execution_count": 7,
   "id": "74e19955",
   "metadata": {},
   "outputs": [
    {
     "name": "stdout",
     "output_type": "stream",
     "text": [
      "199 :(\n"
     ]
    }
   ],
   "source": [
    "üzgün_yüz(199)"
   ]
  },
  {
   "cell_type": "code",
   "execution_count": 8,
   "id": "e1cbfe1b",
   "metadata": {},
   "outputs": [
    {
     "name": "stdout",
     "output_type": "stream",
     "text": [
      "199 :(\n"
     ]
    }
   ],
   "source": [
    "(lambda x : print(x, \":(\"))(199)"
   ]
  },
  {
   "cell_type": "code",
   "execution_count": null,
   "id": "ed8176b4",
   "metadata": {},
   "outputs": [],
   "source": [
    "ali_print() \n",
    "ali_max()\n",
    "ali_bool()\n",
    "ali_sorted()"
   ]
  },
  {
   "cell_type": "code",
   "execution_count": null,
   "id": "30656d4a",
   "metadata": {},
   "outputs": [],
   "source": [
    "def function_generator():\n",
    "    return"
   ]
  },
  {
   "cell_type": "code",
   "execution_count": 9,
   "id": "8c7e4b3a",
   "metadata": {},
   "outputs": [
    {
     "data": {
      "text/plain": [
       "<function __main__.<lambda>(x)>"
      ]
     },
     "execution_count": 9,
     "metadata": {},
     "output_type": "execute_result"
    }
   ],
   "source": [
    "lambda x : print(x)"
   ]
  },
  {
   "cell_type": "code",
   "execution_count": 10,
   "id": "9e13a1ac",
   "metadata": {},
   "outputs": [
    {
     "name": "stdout",
     "output_type": "stream",
     "text": [
      "ali deli veli\n"
     ]
    }
   ],
   "source": [
    "(lambda x : print(x))(\"ali deli veli\")"
   ]
  },
  {
   "cell_type": "code",
   "execution_count": 11,
   "id": "cb769412",
   "metadata": {},
   "outputs": [
    {
     "data": {
      "text/plain": [
       "3"
      ]
     },
     "execution_count": 11,
     "metadata": {},
     "output_type": "execute_result"
    }
   ],
   "source": [
    "(lambda x : max(x))([1,2,3])"
   ]
  },
  {
   "cell_type": "code",
   "execution_count": 12,
   "id": "870fa131",
   "metadata": {},
   "outputs": [
    {
     "data": {
      "text/plain": [
       "[2, 5, 7, 8, 9]"
      ]
     },
     "execution_count": 12,
     "metadata": {},
     "output_type": "execute_result"
    }
   ],
   "source": [
    "(lambda x : sorted(x))([9,7,2,5,8])"
   ]
  },
  {
   "cell_type": "code",
   "execution_count": 13,
   "id": "cf146ca3",
   "metadata": {},
   "outputs": [],
   "source": [
    "def function_generator(function_name) :\n",
    "    return lambda x : function_name(x)"
   ]
  },
  {
   "cell_type": "code",
   "execution_count": 14,
   "id": "e8c4d735",
   "metadata": {},
   "outputs": [],
   "source": [
    "edwin_max = function_generator(max)"
   ]
  },
  {
   "cell_type": "code",
   "execution_count": 15,
   "id": "bcdd037e",
   "metadata": {},
   "outputs": [
    {
     "data": {
      "text/plain": [
       "9"
      ]
     },
     "execution_count": 15,
     "metadata": {},
     "output_type": "execute_result"
    }
   ],
   "source": [
    "edwin_max([1,3,5,7,9])"
   ]
  },
  {
   "cell_type": "code",
   "execution_count": 16,
   "id": "1e9e68ee",
   "metadata": {},
   "outputs": [
    {
     "data": {
      "text/plain": [
       "9"
      ]
     },
     "execution_count": 16,
     "metadata": {},
     "output_type": "execute_result"
    }
   ],
   "source": [
    "max([1,3,5,7,9])"
   ]
  },
  {
   "cell_type": "code",
   "execution_count": 18,
   "id": "40ae10c6",
   "metadata": {},
   "outputs": [],
   "source": [
    "edwin_print = function_generator(print)"
   ]
  },
  {
   "cell_type": "code",
   "execution_count": 19,
   "id": "6b6f0297",
   "metadata": {},
   "outputs": [
    {
     "name": "stdout",
     "output_type": "stream",
     "text": [
      "sabredin, çalışın, bırakmayın\n"
     ]
    }
   ],
   "source": [
    "edwin_print(\"sabredin, çalışın, bırakmayın\")"
   ]
  },
  {
   "cell_type": "code",
   "execution_count": 20,
   "id": "7a310fc2",
   "metadata": {},
   "outputs": [],
   "source": [
    "edwin_bool = function_generator(bool)"
   ]
  },
  {
   "cell_type": "code",
   "execution_count": 21,
   "id": "833c7be2",
   "metadata": {},
   "outputs": [
    {
     "data": {
      "text/plain": [
       "True"
      ]
     },
     "execution_count": 21,
     "metadata": {},
     "output_type": "execute_result"
    }
   ],
   "source": [
    "edwin_bool(1)"
   ]
  },
  {
   "cell_type": "code",
   "execution_count": 25,
   "id": "27385287",
   "metadata": {},
   "outputs": [],
   "source": [
    "def x() :\n",
    "    return 1, 2, 3, 4"
   ]
  },
  {
   "cell_type": "code",
   "execution_count": 23,
   "id": "9bca4fc5",
   "metadata": {},
   "outputs": [
    {
     "data": {
      "text/plain": [
       "(1, 2, 3, 4)"
      ]
     },
     "execution_count": 23,
     "metadata": {},
     "output_type": "execute_result"
    }
   ],
   "source": [
    "1, 2, 3, 4"
   ]
  },
  {
   "cell_type": "code",
   "execution_count": 26,
   "id": "e3f28768",
   "metadata": {},
   "outputs": [
    {
     "data": {
      "text/plain": [
       "function"
      ]
     },
     "execution_count": 26,
     "metadata": {},
     "output_type": "execute_result"
    }
   ],
   "source": [
    "type(x)"
   ]
  },
  {
   "cell_type": "code",
   "execution_count": 27,
   "id": "ba56d973",
   "metadata": {},
   "outputs": [
    {
     "data": {
      "text/plain": [
       "tuple"
      ]
     },
     "execution_count": 27,
     "metadata": {},
     "output_type": "execute_result"
    }
   ],
   "source": [
    "type(x())\n"
   ]
  },
  {
   "cell_type": "code",
   "execution_count": 28,
   "id": "a2075e70",
   "metadata": {},
   "outputs": [],
   "source": [
    "a, b, c, d = x()"
   ]
  },
  {
   "cell_type": "code",
   "execution_count": 29,
   "id": "e757345c",
   "metadata": {},
   "outputs": [
    {
     "data": {
      "text/plain": [
       "1"
      ]
     },
     "execution_count": 29,
     "metadata": {},
     "output_type": "execute_result"
    }
   ],
   "source": [
    "a"
   ]
  },
  {
   "cell_type": "code",
   "execution_count": 30,
   "id": "3215b647",
   "metadata": {},
   "outputs": [
    {
     "data": {
      "text/plain": [
       "2"
      ]
     },
     "execution_count": 30,
     "metadata": {},
     "output_type": "execute_result"
    }
   ],
   "source": [
    "b"
   ]
  },
  {
   "cell_type": "code",
   "execution_count": 31,
   "id": "87794820",
   "metadata": {},
   "outputs": [],
   "source": [
    "num = [1, 1, 1, 4, 5, 5]"
   ]
  },
  {
   "cell_type": "code",
   "execution_count": 32,
   "id": "0415224e",
   "metadata": {},
   "outputs": [
    {
     "data": {
      "text/plain": [
       "1"
      ]
     },
     "execution_count": 32,
     "metadata": {},
     "output_type": "execute_result"
    }
   ],
   "source": [
    "max(num, key = num.count)"
   ]
  },
  {
   "cell_type": "code",
   "execution_count": 33,
   "id": "c4a5ce93",
   "metadata": {},
   "outputs": [
    {
     "data": {
      "text/plain": [
       "3"
      ]
     },
     "execution_count": 33,
     "metadata": {},
     "output_type": "execute_result"
    }
   ],
   "source": [
    "num.count(max(num, key = num.count))"
   ]
  },
  {
   "cell_type": "markdown",
   "id": "b7d9b816",
   "metadata": {},
   "source": [
    "```python\n",
    "equal(1,4,4) --> 2\n",
    "equal(4,4,4) --> 3\n",
    "equal(1,2,3) --> 0\n",
    "```"
   ]
  },
  {
   "cell_type": "code",
   "execution_count": 37,
   "id": "fc2509c3",
   "metadata": {},
   "outputs": [],
   "source": [
    "def equal(a, b, c) :\n",
    "    num = [a, b, c]\n",
    "    sonuç = num.count(max(num, key = num.count))\n",
    "    \n",
    "    if sonuç > 1 :\n",
    "        return sonuç\n",
    "    else :\n",
    "        return 0"
   ]
  },
  {
   "cell_type": "code",
   "execution_count": 34,
   "id": "45a45e2c",
   "metadata": {},
   "outputs": [
    {
     "data": {
      "text/plain": [
       "1"
      ]
     },
     "execution_count": 34,
     "metadata": {},
     "output_type": "execute_result"
    }
   ],
   "source": [
    "num = [1,2,3]\n",
    "tekrar_sayısı = num.count(max(num, key = num.count))\n",
    "tekrar_sayısı"
   ]
  },
  {
   "cell_type": "code",
   "execution_count": 38,
   "id": "0f415a93",
   "metadata": {},
   "outputs": [
    {
     "data": {
      "text/plain": [
       "2"
      ]
     },
     "execution_count": 38,
     "metadata": {},
     "output_type": "execute_result"
    }
   ],
   "source": [
    "equal(1,5,5)"
   ]
  },
  {
   "cell_type": "code",
   "execution_count": 39,
   "id": "7a1ac592",
   "metadata": {},
   "outputs": [
    {
     "data": {
      "text/plain": [
       "0"
      ]
     },
     "execution_count": 39,
     "metadata": {},
     "output_type": "execute_result"
    }
   ],
   "source": [
    "equal(1,2,3)"
   ]
  },
  {
   "cell_type": "code",
   "execution_count": 44,
   "id": "eeaa85cd",
   "metadata": {},
   "outputs": [],
   "source": [
    "def equal_(*arg) :\n",
    "    num = list(arg)\n",
    "    sonuç = num.count(max(num, key = num.count))\n",
    "\n",
    "    if sonuç > 1 :\n",
    "        return sonuç\n",
    "    else :\n",
    "        return 0"
   ]
  },
  {
   "cell_type": "code",
   "execution_count": 45,
   "id": "d0eb0f20",
   "metadata": {},
   "outputs": [
    {
     "data": {
      "text/plain": [
       "3"
      ]
     },
     "execution_count": 45,
     "metadata": {},
     "output_type": "execute_result"
    }
   ],
   "source": [
    "equal_(1,1,1,2,3,7,7,6,9,9,9)"
   ]
  },
  {
   "cell_type": "code",
   "execution_count": 49,
   "id": "dcc3051b",
   "metadata": {},
   "outputs": [],
   "source": [
    "equalambda = lambda x, y, z : [x, y, z].count(max([x, y, z], key = [x, y, z].count))\\\n",
    "if ([x, y, z].count(max([x, y, z], key = [x, y, z].count))) > 1 else 0"
   ]
  },
  {
   "cell_type": "code",
   "execution_count": 50,
   "id": "1db72260",
   "metadata": {},
   "outputs": [
    {
     "data": {
      "text/plain": [
       "2"
      ]
     },
     "execution_count": 50,
     "metadata": {},
     "output_type": "execute_result"
    }
   ],
   "source": [
    "equalambda(1,4,4)"
   ]
  },
  {
   "cell_type": "code",
   "execution_count": 51,
   "id": "bfa615ba",
   "metadata": {},
   "outputs": [
    {
     "data": {
      "text/plain": [
       "0"
      ]
     },
     "execution_count": 51,
     "metadata": {},
     "output_type": "execute_result"
    }
   ],
   "source": [
    "equalambda(1,5,9)"
   ]
  },
  {
   "cell_type": "code",
   "execution_count": null,
   "id": "1610d27a",
   "metadata": {},
   "outputs": [],
   "source": []
  },
  {
   "cell_type": "code",
   "execution_count": null,
   "id": "64565e69",
   "metadata": {},
   "outputs": [],
   "source": []
  },
  {
   "cell_type": "code",
   "execution_count": 52,
   "id": "3d330656",
   "metadata": {},
   "outputs": [],
   "source": [
    "equalambda = lambda *arg : list(arg).count(max(list(arg), key = list(arg).count))\\\n",
    "if (list(arg).count(max(list(arg), key = list(arg).count))) > 1 else 0"
   ]
  },
  {
   "cell_type": "code",
   "execution_count": null,
   "id": "45ec55a5",
   "metadata": {},
   "outputs": [],
   "source": []
  },
  {
   "cell_type": "code",
   "execution_count": null,
   "id": "326ab610",
   "metadata": {},
   "outputs": [],
   "source": []
  },
  {
   "cell_type": "code",
   "execution_count": 53,
   "id": "89098b92",
   "metadata": {},
   "outputs": [
    {
     "data": {
      "text/plain": [
       "4"
      ]
     },
     "execution_count": 53,
     "metadata": {},
     "output_type": "execute_result"
    }
   ],
   "source": [
    "equalambda(1,1,1,1,4,5,6,8,3)"
   ]
  },
  {
   "cell_type": "code",
   "execution_count": 59,
   "id": "496f7d7e",
   "metadata": {},
   "outputs": [],
   "source": [
    "equalambda = lambda *arg : arg.count(max(arg, key = arg.count))\\\n",
    "if (arg.count(max(arg, key = arg.count))) > 1 else 0"
   ]
  },
  {
   "cell_type": "code",
   "execution_count": 60,
   "id": "2d1dc68a",
   "metadata": {},
   "outputs": [
    {
     "data": {
      "text/plain": [
       "4"
      ]
     },
     "execution_count": 60,
     "metadata": {},
     "output_type": "execute_result"
    }
   ],
   "source": [
    "equalambda(1,1,1,1,4,5,6,8,3)"
   ]
  },
  {
   "cell_type": "code",
   "execution_count": null,
   "id": "894afc42",
   "metadata": {},
   "outputs": [],
   "source": []
  },
  {
   "cell_type": "code",
   "execution_count": null,
   "id": "c50cd897",
   "metadata": {},
   "outputs": [],
   "source": []
  },
  {
   "attachments": {
    "image.png": {
     "image/png": "[encoded data removed]"
    }
   },
   "cell_type": "markdown",
   "id": "6945ecea",
   "metadata": {},
   "source": [
    "![image.png](attachment:image.png)"
   ]
  },
  {
   "cell_type": "code",
   "execution_count": null,
   "id": "9d712392",
   "metadata": {},
   "outputs": [],
   "source": []
  },
  {
   "cell_type": "code",
   "execution_count": 61,
   "id": "9047b689",
   "metadata": {},
   "outputs": [
    {
     "data": {
      "text/plain": [
       "4"
      ]
     },
     "execution_count": 61,
     "metadata": {},
     "output_type": "execute_result"
    }
   ],
   "source": [
    "equalambda = lambda *arg : arg.count(max(arg, key = arg.count))\\\n",
    "if (arg.count(max(arg, key = arg.count))) > 1 else 0\n",
    "\n",
    "equalambda(1,1,1,1,4,5,6,8,3)"
   ]
  },
  {
   "cell_type": "markdown",
   "id": "734bcb8b",
   "metadata": {},
   "source": [
    "# packages & modules"
   ]
  },
  {
   "cell_type": "code",
   "execution_count": 62,
   "id": "718e5379",
   "metadata": {},
   "outputs": [
    {
     "name": "stdout",
     "output_type": "stream",
     "text": [
      "9\n"
     ]
    },
    {
     "data": {
      "text/plain": [
       "4.0"
      ]
     },
     "execution_count": 62,
     "metadata": {},
     "output_type": "execute_result"
    }
   ],
   "source": [
    "import math # math modülünü import ettim.\n",
    "\n",
    "def kareal(a):\n",
    "    return a * a\n",
    "\n",
    "print(kareal(3))\n",
    "\n",
    "math.sqrt(16)"
   ]
  },
  {
   "cell_type": "code",
   "execution_count": 63,
   "id": "682e5622",
   "metadata": {},
   "outputs": [],
   "source": [
    "import math"
   ]
  },
  {
   "cell_type": "code",
   "execution_count": 64,
   "id": "3f66cd27",
   "metadata": {},
   "outputs": [
    {
     "name": "stdout",
     "output_type": "stream",
     "text": [
      "['__doc__', '__loader__', '__name__', '__package__', '__spec__', 'acos', 'acosh', 'asin', 'asinh', 'atan', 'atan2', 'atanh', 'ceil', 'comb', 'copysign', 'cos', 'cosh', 'degrees', 'dist', 'e', 'erf', 'erfc', 'exp', 'expm1', 'fabs', 'factorial', 'floor', 'fmod', 'frexp', 'fsum', 'gamma', 'gcd', 'hypot', 'inf', 'isclose', 'isfinite', 'isinf', 'isnan', 'isqrt', 'lcm', 'ldexp', 'lgamma', 'log', 'log10', 'log1p', 'log2', 'modf', 'nan', 'nextafter', 'perm', 'pi', 'pow', 'prod', 'radians', 'remainder', 'sin', 'sinh', 'sqrt', 'tan', 'tanh', 'tau', 'trunc', 'ulp']\n"
     ]
    }
   ],
   "source": [
    "print(dir(math))"
   ]
  },
  {
   "cell_type": "code",
   "execution_count": 65,
   "id": "10a161fe",
   "metadata": {},
   "outputs": [
    {
     "name": "stdout",
     "output_type": "stream",
     "text": [
      "ModuleSpec(name='math', loader=<class '_frozen_importlib.BuiltinImporter'>, origin='built-in')\n"
     ]
    }
   ],
   "source": [
    "print(math.__spec__)"
   ]
  },
  {
   "cell_type": "code",
   "execution_count": 66,
   "id": "bc0bebff",
   "metadata": {},
   "outputs": [
    {
     "name": "stdout",
     "output_type": "stream",
     "text": [
      "math\n"
     ]
    }
   ],
   "source": [
    "print(math.__name__)"
   ]
  },
  {
   "cell_type": "code",
   "execution_count": 68,
   "id": "405d2882",
   "metadata": {},
   "outputs": [],
   "source": [
    "from math import pi, factorial, log10"
   ]
  },
  {
   "cell_type": "code",
   "execution_count": 69,
   "id": "1b755e6a",
   "metadata": {},
   "outputs": [
    {
     "data": {
      "text/plain": [
       "3.141592653589793"
      ]
     },
     "execution_count": 69,
     "metadata": {},
     "output_type": "execute_result"
    }
   ],
   "source": [
    "pi"
   ]
  },
  {
   "cell_type": "code",
   "execution_count": 70,
   "id": "05cfce31",
   "metadata": {},
   "outputs": [
    {
     "data": {
      "text/plain": [
       "24"
      ]
     },
     "execution_count": 70,
     "metadata": {},
     "output_type": "execute_result"
    }
   ],
   "source": [
    "factorial(4)"
   ]
  },
  {
   "cell_type": "code",
   "execution_count": 71,
   "id": "9bd02e0b",
   "metadata": {},
   "outputs": [
    {
     "data": {
      "text/plain": [
       "120"
      ]
     },
     "execution_count": 71,
     "metadata": {},
     "output_type": "execute_result"
    }
   ],
   "source": [
    "sonuç = 1\n",
    "\n",
    "for i in range(1, 6) :\n",
    "    sonuç *= i\n",
    "sonuç"
   ]
  },
  {
   "cell_type": "code",
   "execution_count": 72,
   "id": "e2dbda70",
   "metadata": {},
   "outputs": [],
   "source": [
    "def my_factorial(n) :\n",
    "    \n",
    "    sonuç = 1\n",
    "    \n",
    "    for i in range(1, n+1) :\n",
    "        sonuç *= i\n",
    "    \n",
    "    if n == 0 or n == 1 :\n",
    "        return 1\n",
    "    \n",
    "    else :\n",
    "        return sonuç"
   ]
  },
  {
   "cell_type": "code",
   "execution_count": 73,
   "id": "e862a0a7",
   "metadata": {},
   "outputs": [
    {
     "data": {
      "text/plain": [
       "1"
      ]
     },
     "execution_count": 73,
     "metadata": {},
     "output_type": "execute_result"
    }
   ],
   "source": [
    "my_factorial(0)"
   ]
  },
  {
   "cell_type": "code",
   "execution_count": 74,
   "id": "f04079fc",
   "metadata": {},
   "outputs": [
    {
     "data": {
      "text/plain": [
       "120"
      ]
     },
     "execution_count": 74,
     "metadata": {},
     "output_type": "execute_result"
    }
   ],
   "source": [
    "my_factorial(5)"
   ]
  },
  {
   "cell_type": "code",
   "execution_count": null,
   "id": "9942523c",
   "metadata": {},
   "outputs": [],
   "source": []
  },
  {
   "cell_type": "code",
   "execution_count": null,
   "id": "42a8f420",
   "metadata": {},
   "outputs": [],
   "source": []
  },
  {
   "cell_type": "code",
   "execution_count": null,
   "id": "1079d066",
   "metadata": {},
   "outputs": [],
   "source": []
  },
  {
   "cell_type": "code",
   "execution_count": null,
   "id": "ce112639",
   "metadata": {},
   "outputs": [],
   "source": []
  }
 ],
 "metadata": {
  "kernelspec": {
   "display_name": "Python 3 (ipykernel)",
   "language": "python",
   "name": "python3"
  },
  "language_info": {
   "codemirror_mode": {
    "name": "ipython",
    "version": 3
   },
   "file_extension": ".py",
   "mimetype": "text/x-python",
   "name": "python",
   "nbconvert_exporter": "python",
   "pygments_lexer": "ipython3",
   "version": "3.9.11"
  }
 },
 "nbformat": 4,
 "nbformat_minor": 5
}
